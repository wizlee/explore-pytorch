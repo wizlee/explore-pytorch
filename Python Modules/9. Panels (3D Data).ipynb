{
 "cells": [
  {
   "cell_type": "markdown",
   "metadata": {},
   "source": [
    "A panel is a 3D container for data. The term data Panel is derived from econometrics and is partially responsible for the name Pandas."
   ]
  },
  {
   "cell_type": "markdown",
   "metadata": {},
   "source": [
    "A panel is a 3D container for data. The term data Panel is derived from econometrics and is partially responsible for the name Pandas."
   ]
  },
  {
   "cell_type": "markdown",
   "metadata": {},
   "source": [
    "### 1. Create a random 3D datasets\n",
    "\n",
    "source: https://www.tutorialspoint.com/python_pandas/python_pandas_panel"
   ]
  },
  {
   "cell_type": "code",
   "execution_count": 136,
   "metadata": {},
   "outputs": [
    {
     "name": "stderr",
     "output_type": "stream",
     "text": [
      "C:\\Users\\SAM\\Anaconda3\\lib\\site-packages\\IPython\\core\\interactiveshell.py:2963: FutureWarning: \n",
      "Panel is deprecated and will be removed in a future version.\n",
      "The recommended way to represent these types of 3-dimensional data are with a MultiIndex on a DataFrame, via the Panel.to_frame() method\n",
      "Alternatively, you can use the xarray package http://xarray.pydata.org/en/stable/.\n",
      "Pandas provides a `.to_xarray()` method to help automate this conversion.\n",
      "\n",
      "  exec(code_obj, self.user_global_ns, self.user_ns)\n"
     ]
    },
    {
     "data": {
      "text/plain": [
       "<class 'pandas.core.panel.Panel'>\n",
       "Dimensions: 2 (items) x 4 (major_axis) x 3 (minor_axis)\n",
       "Items axis: Item1 to Item2\n",
       "Major_axis axis: 0 to 3\n",
       "Minor_axis axis: 0 to 2"
      ]
     },
     "execution_count": 136,
     "metadata": {},
     "output_type": "execute_result"
    }
   ],
   "source": [
    "import pandas as pd\n",
    "import numpy as np\n",
    "\n",
    "data = {'Item1' : pd.DataFrame(np.random.randn(4, 3)), \n",
    "   'Item2' : pd.DataFrame(np.random.randn(4, 2))}\n",
    "p = pd.Panel(data)\n",
    "p"
   ]
  },
  {
   "cell_type": "code",
   "execution_count": 137,
   "metadata": {},
   "outputs": [
    {
     "data": {
      "text/html": [
       "<div>\n",
       "<style scoped>\n",
       "    .dataframe tbody tr th:only-of-type {\n",
       "        vertical-align: middle;\n",
       "    }\n",
       "\n",
       "    .dataframe tbody tr th {\n",
       "        vertical-align: top;\n",
       "    }\n",
       "\n",
       "    .dataframe thead th {\n",
       "        text-align: right;\n",
       "    }\n",
       "</style>\n",
       "<table border=\"1\" class=\"dataframe\">\n",
       "  <thead>\n",
       "    <tr style=\"text-align: right;\">\n",
       "      <th></th>\n",
       "      <th>0</th>\n",
       "      <th>1</th>\n",
       "      <th>2</th>\n",
       "    </tr>\n",
       "  </thead>\n",
       "  <tbody>\n",
       "    <tr>\n",
       "      <th>0</th>\n",
       "      <td>0.331</td>\n",
       "      <td>-0.559</td>\n",
       "      <td>-1.052</td>\n",
       "    </tr>\n",
       "    <tr>\n",
       "      <th>1</th>\n",
       "      <td>-0.654</td>\n",
       "      <td>-1.856</td>\n",
       "      <td>0.077</td>\n",
       "    </tr>\n",
       "    <tr>\n",
       "      <th>2</th>\n",
       "      <td>-0.010</td>\n",
       "      <td>-0.660</td>\n",
       "      <td>-1.144</td>\n",
       "    </tr>\n",
       "    <tr>\n",
       "      <th>3</th>\n",
       "      <td>-0.071</td>\n",
       "      <td>0.930</td>\n",
       "      <td>1.039</td>\n",
       "    </tr>\n",
       "  </tbody>\n",
       "</table>\n",
       "</div>"
      ],
      "text/plain": [
       "       0      1      2\n",
       "0  0.331 -0.559 -1.052\n",
       "1 -0.654 -1.856  0.077\n",
       "2 -0.010 -0.660 -1.144\n",
       "3 -0.071  0.930  1.039"
      ]
     },
     "execution_count": 137,
     "metadata": {},
     "output_type": "execute_result"
    }
   ],
   "source": [
    "p[\"Item1\"]"
   ]
  },
  {
   "cell_type": "code",
   "execution_count": 138,
   "metadata": {},
   "outputs": [
    {
     "data": {
      "text/html": [
       "<div>\n",
       "<style scoped>\n",
       "    .dataframe tbody tr th:only-of-type {\n",
       "        vertical-align: middle;\n",
       "    }\n",
       "\n",
       "    .dataframe tbody tr th {\n",
       "        vertical-align: top;\n",
       "    }\n",
       "\n",
       "    .dataframe thead th {\n",
       "        text-align: right;\n",
       "    }\n",
       "</style>\n",
       "<table border=\"1\" class=\"dataframe\">\n",
       "  <thead>\n",
       "    <tr style=\"text-align: right;\">\n",
       "      <th></th>\n",
       "      <th>0</th>\n",
       "      <th>1</th>\n",
       "      <th>2</th>\n",
       "    </tr>\n",
       "  </thead>\n",
       "  <tbody>\n",
       "    <tr>\n",
       "      <th>0</th>\n",
       "      <td>-2.501</td>\n",
       "      <td>0.595</td>\n",
       "      <td>NaN</td>\n",
       "    </tr>\n",
       "    <tr>\n",
       "      <th>1</th>\n",
       "      <td>-0.160</td>\n",
       "      <td>0.712</td>\n",
       "      <td>NaN</td>\n",
       "    </tr>\n",
       "    <tr>\n",
       "      <th>2</th>\n",
       "      <td>-1.166</td>\n",
       "      <td>-0.215</td>\n",
       "      <td>NaN</td>\n",
       "    </tr>\n",
       "    <tr>\n",
       "      <th>3</th>\n",
       "      <td>1.442</td>\n",
       "      <td>0.784</td>\n",
       "      <td>NaN</td>\n",
       "    </tr>\n",
       "  </tbody>\n",
       "</table>\n",
       "</div>"
      ],
      "text/plain": [
       "       0      1   2\n",
       "0 -2.501  0.595 NaN\n",
       "1 -0.160  0.712 NaN\n",
       "2 -1.166 -0.215 NaN\n",
       "3  1.442  0.784 NaN"
      ]
     },
     "execution_count": 138,
     "metadata": {},
     "output_type": "execute_result"
    }
   ],
   "source": [
    "p[\"Item2\"]"
   ]
  },
  {
   "cell_type": "markdown",
   "metadata": {},
   "source": [
    "### 2. Create a 3D Dataset from 2D Stocks Datasets"
   ]
  },
  {
   "cell_type": "code",
   "execution_count": 139,
   "metadata": {
    "collapsed": true
   },
   "outputs": [],
   "source": [
    "all_companies = pd.read_csv(\"data/all_stocks_5yr.csv\", \n",
    "                            parse_dates=[\"date\"], index_col=\"date\")"
   ]
  },
  {
   "cell_type": "markdown",
   "metadata": {},
   "source": [
    "Here we have stock prices for 500 companies. The Name column indicates the company’s name. For this tutorial, we will be using Facebook (FB), Amazon (AMZN) and Microsoft (MSFT) data."
   ]
  },
  {
   "cell_type": "code",
   "execution_count": 140,
   "metadata": {},
   "outputs": [
    {
     "data": {
      "text/html": [
       "<div>\n",
       "<style scoped>\n",
       "    .dataframe tbody tr th:only-of-type {\n",
       "        vertical-align: middle;\n",
       "    }\n",
       "\n",
       "    .dataframe tbody tr th {\n",
       "        vertical-align: top;\n",
       "    }\n",
       "\n",
       "    .dataframe thead th {\n",
       "        text-align: right;\n",
       "    }\n",
       "</style>\n",
       "<table border=\"1\" class=\"dataframe\">\n",
       "  <thead>\n",
       "    <tr style=\"text-align: right;\">\n",
       "      <th></th>\n",
       "      <th>open</th>\n",
       "      <th>high</th>\n",
       "      <th>low</th>\n",
       "      <th>close</th>\n",
       "      <th>volume</th>\n",
       "      <th>Name</th>\n",
       "    </tr>\n",
       "    <tr>\n",
       "      <th>date</th>\n",
       "      <th></th>\n",
       "      <th></th>\n",
       "      <th></th>\n",
       "      <th></th>\n",
       "      <th></th>\n",
       "      <th></th>\n",
       "    </tr>\n",
       "  </thead>\n",
       "  <tbody>\n",
       "    <tr>\n",
       "      <th>2013-02-08</th>\n",
       "      <td>15.07</td>\n",
       "      <td>15.12</td>\n",
       "      <td>14.63</td>\n",
       "      <td>14.75</td>\n",
       "      <td>8407500</td>\n",
       "      <td>AAL</td>\n",
       "    </tr>\n",
       "    <tr>\n",
       "      <th>2013-02-11</th>\n",
       "      <td>14.89</td>\n",
       "      <td>15.01</td>\n",
       "      <td>14.26</td>\n",
       "      <td>14.46</td>\n",
       "      <td>8882000</td>\n",
       "      <td>AAL</td>\n",
       "    </tr>\n",
       "    <tr>\n",
       "      <th>2013-02-12</th>\n",
       "      <td>14.45</td>\n",
       "      <td>14.51</td>\n",
       "      <td>14.10</td>\n",
       "      <td>14.27</td>\n",
       "      <td>8126000</td>\n",
       "      <td>AAL</td>\n",
       "    </tr>\n",
       "    <tr>\n",
       "      <th>2013-02-13</th>\n",
       "      <td>14.30</td>\n",
       "      <td>14.94</td>\n",
       "      <td>14.25</td>\n",
       "      <td>14.66</td>\n",
       "      <td>10259500</td>\n",
       "      <td>AAL</td>\n",
       "    </tr>\n",
       "    <tr>\n",
       "      <th>2013-02-14</th>\n",
       "      <td>14.94</td>\n",
       "      <td>14.96</td>\n",
       "      <td>13.16</td>\n",
       "      <td>13.99</td>\n",
       "      <td>31879900</td>\n",
       "      <td>AAL</td>\n",
       "    </tr>\n",
       "  </tbody>\n",
       "</table>\n",
       "</div>"
      ],
      "text/plain": [
       "             open   high    low  close    volume Name\n",
       "date                                                 \n",
       "2013-02-08  15.07  15.12  14.63  14.75   8407500  AAL\n",
       "2013-02-11  14.89  15.01  14.26  14.46   8882000  AAL\n",
       "2013-02-12  14.45  14.51  14.10  14.27   8126000  AAL\n",
       "2013-02-13  14.30  14.94  14.25  14.66  10259500  AAL\n",
       "2013-02-14  14.94  14.96  13.16  13.99  31879900  AAL"
      ]
     },
     "execution_count": 140,
     "metadata": {},
     "output_type": "execute_result"
    }
   ],
   "source": [
    "all_companies.head()"
   ]
  },
  {
   "cell_type": "code",
   "execution_count": 141,
   "metadata": {
    "collapsed": true
   },
   "outputs": [],
   "source": [
    "FB = all_companies[all_companies[\"Name\"] == \"FB\"].copy()\n",
    "AMZN = all_companies[all_companies[\"Name\"] == \"AMZN\"].copy()\n",
    "MSFT = all_companies[all_companies[\"Name\"] == \"MSFT\"].copy()"
   ]
  },
  {
   "cell_type": "code",
   "execution_count": 142,
   "metadata": {
    "collapsed": true
   },
   "outputs": [],
   "source": [
    "FB.drop(\"Name\", axis='columns', inplace=True)\n",
    "AMZN.drop(\"Name\", axis='columns', inplace=True)\n",
    "MSFT.drop(\"Name\", axis='columns', inplace=True)"
   ]
  },
  {
   "cell_type": "code",
   "execution_count": 143,
   "metadata": {},
   "outputs": [
    {
     "data": {
      "text/html": [
       "<div>\n",
       "<style scoped>\n",
       "    .dataframe tbody tr th:only-of-type {\n",
       "        vertical-align: middle;\n",
       "    }\n",
       "\n",
       "    .dataframe tbody tr th {\n",
       "        vertical-align: top;\n",
       "    }\n",
       "\n",
       "    .dataframe thead th {\n",
       "        text-align: right;\n",
       "    }\n",
       "</style>\n",
       "<table border=\"1\" class=\"dataframe\">\n",
       "  <thead>\n",
       "    <tr style=\"text-align: right;\">\n",
       "      <th></th>\n",
       "      <th>open</th>\n",
       "      <th>high</th>\n",
       "      <th>low</th>\n",
       "      <th>close</th>\n",
       "      <th>volume</th>\n",
       "    </tr>\n",
       "    <tr>\n",
       "      <th>date</th>\n",
       "      <th></th>\n",
       "      <th></th>\n",
       "      <th></th>\n",
       "      <th></th>\n",
       "      <th></th>\n",
       "    </tr>\n",
       "  </thead>\n",
       "  <tbody>\n",
       "    <tr>\n",
       "      <th>2013-02-08</th>\n",
       "      <td>28.89</td>\n",
       "      <td>29.17</td>\n",
       "      <td>28.51</td>\n",
       "      <td>28.545</td>\n",
       "      <td>37662614</td>\n",
       "    </tr>\n",
       "    <tr>\n",
       "      <th>2013-02-11</th>\n",
       "      <td>28.61</td>\n",
       "      <td>28.68</td>\n",
       "      <td>28.04</td>\n",
       "      <td>28.260</td>\n",
       "      <td>36979533</td>\n",
       "    </tr>\n",
       "    <tr>\n",
       "      <th>2013-02-12</th>\n",
       "      <td>27.67</td>\n",
       "      <td>28.16</td>\n",
       "      <td>27.10</td>\n",
       "      <td>27.370</td>\n",
       "      <td>93417215</td>\n",
       "    </tr>\n",
       "  </tbody>\n",
       "</table>\n",
       "</div>"
      ],
      "text/plain": [
       "             open   high    low   close    volume\n",
       "date                                             \n",
       "2013-02-08  28.89  29.17  28.51  28.545  37662614\n",
       "2013-02-11  28.61  28.68  28.04  28.260  36979533\n",
       "2013-02-12  27.67  28.16  27.10  27.370  93417215"
      ]
     },
     "execution_count": 143,
     "metadata": {},
     "output_type": "execute_result"
    }
   ],
   "source": [
    "FB.head(3)"
   ]
  },
  {
   "cell_type": "code",
   "execution_count": 144,
   "metadata": {},
   "outputs": [
    {
     "data": {
      "text/html": [
       "<div>\n",
       "<style scoped>\n",
       "    .dataframe tbody tr th:only-of-type {\n",
       "        vertical-align: middle;\n",
       "    }\n",
       "\n",
       "    .dataframe tbody tr th {\n",
       "        vertical-align: top;\n",
       "    }\n",
       "\n",
       "    .dataframe thead th {\n",
       "        text-align: right;\n",
       "    }\n",
       "</style>\n",
       "<table border=\"1\" class=\"dataframe\">\n",
       "  <thead>\n",
       "    <tr style=\"text-align: right;\">\n",
       "      <th></th>\n",
       "      <th>open</th>\n",
       "      <th>high</th>\n",
       "      <th>low</th>\n",
       "      <th>close</th>\n",
       "      <th>volume</th>\n",
       "    </tr>\n",
       "    <tr>\n",
       "      <th>date</th>\n",
       "      <th></th>\n",
       "      <th></th>\n",
       "      <th></th>\n",
       "      <th></th>\n",
       "      <th></th>\n",
       "    </tr>\n",
       "  </thead>\n",
       "  <tbody>\n",
       "    <tr>\n",
       "      <th>2013-02-08</th>\n",
       "      <td>261.40</td>\n",
       "      <td>265.25</td>\n",
       "      <td>260.555</td>\n",
       "      <td>261.95</td>\n",
       "      <td>3879078</td>\n",
       "    </tr>\n",
       "    <tr>\n",
       "      <th>2013-02-11</th>\n",
       "      <td>263.20</td>\n",
       "      <td>263.25</td>\n",
       "      <td>256.600</td>\n",
       "      <td>257.21</td>\n",
       "      <td>3403403</td>\n",
       "    </tr>\n",
       "    <tr>\n",
       "      <th>2013-02-12</th>\n",
       "      <td>259.19</td>\n",
       "      <td>260.16</td>\n",
       "      <td>257.000</td>\n",
       "      <td>258.70</td>\n",
       "      <td>2938660</td>\n",
       "    </tr>\n",
       "  </tbody>\n",
       "</table>\n",
       "</div>"
      ],
      "text/plain": [
       "              open    high      low   close   volume\n",
       "date                                                \n",
       "2013-02-08  261.40  265.25  260.555  261.95  3879078\n",
       "2013-02-11  263.20  263.25  256.600  257.21  3403403\n",
       "2013-02-12  259.19  260.16  257.000  258.70  2938660"
      ]
     },
     "execution_count": 144,
     "metadata": {},
     "output_type": "execute_result"
    }
   ],
   "source": [
    "AMZN.head(3)"
   ]
  },
  {
   "cell_type": "code",
   "execution_count": 145,
   "metadata": {
    "scrolled": true
   },
   "outputs": [
    {
     "data": {
      "text/html": [
       "<div>\n",
       "<style scoped>\n",
       "    .dataframe tbody tr th:only-of-type {\n",
       "        vertical-align: middle;\n",
       "    }\n",
       "\n",
       "    .dataframe tbody tr th {\n",
       "        vertical-align: top;\n",
       "    }\n",
       "\n",
       "    .dataframe thead th {\n",
       "        text-align: right;\n",
       "    }\n",
       "</style>\n",
       "<table border=\"1\" class=\"dataframe\">\n",
       "  <thead>\n",
       "    <tr style=\"text-align: right;\">\n",
       "      <th></th>\n",
       "      <th>open</th>\n",
       "      <th>high</th>\n",
       "      <th>low</th>\n",
       "      <th>close</th>\n",
       "      <th>volume</th>\n",
       "    </tr>\n",
       "    <tr>\n",
       "      <th>date</th>\n",
       "      <th></th>\n",
       "      <th></th>\n",
       "      <th></th>\n",
       "      <th></th>\n",
       "      <th></th>\n",
       "    </tr>\n",
       "  </thead>\n",
       "  <tbody>\n",
       "    <tr>\n",
       "      <th>2013-02-08</th>\n",
       "      <td>27.35</td>\n",
       "      <td>27.71</td>\n",
       "      <td>27.31</td>\n",
       "      <td>27.55</td>\n",
       "      <td>33318306</td>\n",
       "    </tr>\n",
       "    <tr>\n",
       "      <th>2013-02-11</th>\n",
       "      <td>27.65</td>\n",
       "      <td>27.92</td>\n",
       "      <td>27.50</td>\n",
       "      <td>27.86</td>\n",
       "      <td>32247549</td>\n",
       "    </tr>\n",
       "    <tr>\n",
       "      <th>2013-02-12</th>\n",
       "      <td>27.88</td>\n",
       "      <td>28.00</td>\n",
       "      <td>27.75</td>\n",
       "      <td>27.88</td>\n",
       "      <td>35990829</td>\n",
       "    </tr>\n",
       "  </tbody>\n",
       "</table>\n",
       "</div>"
      ],
      "text/plain": [
       "             open   high    low  close    volume\n",
       "date                                            \n",
       "2013-02-08  27.35  27.71  27.31  27.55  33318306\n",
       "2013-02-11  27.65  27.92  27.50  27.86  32247549\n",
       "2013-02-12  27.88  28.00  27.75  27.88  35990829"
      ]
     },
     "execution_count": 145,
     "metadata": {},
     "output_type": "execute_result"
    }
   ],
   "source": [
    "MSFT.head(3)"
   ]
  },
  {
   "cell_type": "code",
   "execution_count": 146,
   "metadata": {},
   "outputs": [
    {
     "data": {
      "text/plain": [
       "array(['AAL', 'AAPL', 'AAP', 'ABBV', 'ABC', 'ABT', 'ACN', 'ADBE', 'ADI',\n",
       "       'ADM', 'ADP', 'ADSK', 'ADS', 'AEE', 'AEP', 'AES', 'AET', 'AFL',\n",
       "       'AGN', 'AIG', 'AIV', 'AIZ', 'AJG', 'AKAM', 'ALB', 'ALGN', 'ALK',\n",
       "       'ALLE', 'ALL', 'ALXN', 'AMAT', 'AMD', 'AME', 'AMGN', 'AMG', 'AMP',\n",
       "       'AMT', 'AMZN', 'ANDV', 'ANSS', 'ANTM', 'AON', 'AOS', 'APA', 'APC',\n",
       "       'APD', 'APH', 'APTV', 'ARE', 'ARNC', 'ATVI', 'AVB', 'AVGO', 'AVY',\n",
       "       'AWK', 'AXP', 'AYI', 'AZO', 'A', 'BAC', 'BAX', 'BA', 'BBT', 'BBY',\n",
       "       'BDX', 'BEN', 'BF.B', 'BHF', 'BHGE', 'BIIB', 'BK', 'BLK', 'BLL',\n",
       "       'BMY', 'BRK.B', 'BSX', 'BWA', 'BXP', 'CAG', 'CAH', 'CAT', 'CA',\n",
       "       'CBG', 'CBOE', 'CBS', 'CB', 'CCI', 'CCL', 'CDNS', 'CELG', 'CERN',\n",
       "       'CFG', 'CF', 'CHD', 'CHK', 'CHRW', 'CHTR', 'CINF', 'CI', 'CLX',\n",
       "       'CL', 'CMA', 'CMCSA', 'CME', 'CMG', 'CMI', 'CMS', 'CNC', 'CNP',\n",
       "       'COF', 'COG', 'COL', 'COO', 'COP', 'COST', 'COTY', 'CPB', 'CRM',\n",
       "       'CSCO', 'CSRA', 'CSX', 'CTAS', 'CTL', 'CTSH', 'CTXS', 'CVS', 'CVX',\n",
       "       'CXO', 'C', 'DAL', 'DE', 'DFS', 'DGX', 'DG', 'DHI', 'DHR', 'DISCA',\n",
       "       'DISCK', 'DISH', 'DIS', 'DLR', 'DLTR', 'DOV', 'DPS', 'DRE', 'DRI',\n",
       "       'DTE', 'DUK', 'DVA', 'DVN', 'DWDP', 'DXC', 'D', 'EA', 'EBAY',\n",
       "       'ECL', 'ED', 'EFX', 'EIX', 'EL', 'EMN', 'EMR', 'EOG', 'EQIX',\n",
       "       'EQR', 'EQT', 'ESRX', 'ESS', 'ES', 'ETFC', 'ETN', 'ETR', 'EVHC',\n",
       "       'EW', 'EXC', 'EXPD', 'EXPE', 'EXR', 'FAST', 'FBHS', 'FB', 'FCX',\n",
       "       'FDX', 'FE', 'FFIV', 'FISV', 'FIS', 'FITB', 'FLIR', 'FLR', 'FLS',\n",
       "       'FL', 'FMC', 'FOXA', 'FOX', 'FRT', 'FTI', 'FTV', 'F', 'GD', 'GE',\n",
       "       'GGP', 'GILD', 'GIS', 'GLW', 'GM', 'GOOGL', 'GOOG', 'GPC', 'GPN',\n",
       "       'GPS', 'GRMN', 'GS', 'GT', 'GWW', 'HAL', 'HAS', 'HBAN', 'HBI',\n",
       "       'HCA', 'HCN', 'HCP', 'HD', 'HES', 'HIG', 'HII', 'HLT', 'HOG',\n",
       "       'HOLX', 'HON', 'HPE', 'HPQ', 'HP', 'HRB', 'HRL', 'HRS', 'HSIC',\n",
       "       'HST', 'HSY', 'HUM', 'IBM', 'ICE', 'IDXX', 'IFF', 'ILMN', 'INCY',\n",
       "       'INFO', 'INTC', 'INTU', 'IPG', 'IP', 'IQV', 'IRM', 'IR', 'ISRG',\n",
       "       'ITW', 'IT', 'IVZ', 'JBHT', 'JCI', 'JEC', 'JNJ', 'JNPR', 'JPM',\n",
       "       'JWN', 'KEY', 'KHC', 'KIM', 'KLAC', 'KMB', 'KMI', 'KMX', 'KORS',\n",
       "       'KO', 'KR', 'KSS', 'KSU', 'K', 'LB', 'LEG', 'LEN', 'LH', 'LKQ',\n",
       "       'LLL', 'LLY', 'LMT', 'LNC', 'LNT', 'LOW', 'LRCX', 'LUK', 'LUV',\n",
       "       'LYB', 'L', 'MAA', 'MAC', 'MAR', 'MAS', 'MAT', 'MA', 'MCD', 'MCHP',\n",
       "       'MCK', 'MCO', 'MDLZ', 'MDT', 'MET', 'MGM', 'MHK', 'MKC', 'MLM',\n",
       "       'MMC', 'MMM', 'MNST', 'MON', 'MOS', 'MO', 'MPC', 'MRK', 'MRO',\n",
       "       'MSFT', 'MSI', 'MS', 'MTB', 'MTD', 'MU', 'MYL', 'M', 'NAVI', 'NBL',\n",
       "       'NCLH', 'NDAQ', 'NEE', 'NEM', 'NFLX', 'NFX', 'NI', 'NKE', 'NLSN',\n",
       "       'NOC', 'NOV', 'NRG', 'NSC', 'NTAP', 'NTRS', 'NUE', 'NVDA', 'NWL',\n",
       "       'NWSA', 'NWS', 'OKE', 'OMC', 'ORCL', 'ORLY', 'OXY', 'O', 'PAYX',\n",
       "       'PBCT', 'PCAR', 'PCG', 'PCLN', 'PDCO', 'PEG', 'PEP', 'PFE', 'PFG',\n",
       "       'PGR', 'PG', 'PHM', 'PH', 'PKG', 'PKI', 'PLD', 'PM', 'PNC', 'PNR',\n",
       "       'PNW', 'PPG', 'PPL', 'PRGO', 'PRU', 'PSA', 'PSX', 'PVH', 'PWR',\n",
       "       'PXD', 'PX', 'PYPL', 'QCOM', 'QRVO', 'RCL', 'REGN', 'REG', 'RE',\n",
       "       'RF', 'RHI', 'RHT', 'RJF', 'RL', 'RMD', 'ROK', 'ROP', 'ROST',\n",
       "       'RRC', 'RSG', 'RTN', 'SBAC', 'SBUX', 'SCG', 'SCHW', 'SEE', 'SHW',\n",
       "       'SIG', 'SJM', 'SLB', 'SLG', 'SNA', 'SNI', 'SNPS', 'SO', 'SPGI',\n",
       "       'SPG', 'SRCL', 'SRE', 'STI', 'STT', 'STX', 'STZ', 'SWKS', 'SWK',\n",
       "       'SYF', 'SYK', 'SYMC', 'SYY', 'TAP', 'TDG', 'TEL', 'TGT', 'TIF',\n",
       "       'TJX', 'TMK', 'TMO', 'TPR', 'TRIP', 'TROW', 'TRV', 'TSCO', 'TSN',\n",
       "       'TSS', 'TWX', 'TXN', 'TXT', 'T', 'UAA', 'UAL', 'UA', 'UDR', 'UHS',\n",
       "       'ULTA', 'UNH', 'UNM', 'UNP', 'UPS', 'URI', 'USB', 'UTX', 'VAR',\n",
       "       'VFC', 'VIAB', 'VLO', 'VMC', 'VNO', 'VRSK', 'VRSN', 'VRTX', 'VTR',\n",
       "       'VZ', 'V', 'WAT', 'WBA', 'WDC', 'WEC', 'WFC', 'WHR', 'WLTW', 'WMB',\n",
       "       'WMT', 'WM', 'WRK', 'WU', 'WYNN', 'WYN', 'WY', 'XEC', 'XEL',\n",
       "       'XLNX', 'XL', 'XOM', 'XRAY', 'XRX', 'XYL', 'YUM', 'ZBH', 'ZION',\n",
       "       'ZTS'], dtype=object)"
      ]
     },
     "execution_count": 146,
     "metadata": {},
     "output_type": "execute_result"
    }
   ],
   "source": [
    "all_companies.Name.unique()"
   ]
  },
  {
   "cell_type": "code",
   "execution_count": 184,
   "metadata": {},
   "outputs": [
    {
     "data": {
      "text/plain": [
       "505"
      ]
     },
     "execution_count": 184,
     "metadata": {},
     "output_type": "execute_result"
    }
   ],
   "source": [
    "all_companies.Name.nunique()"
   ]
  },
  {
   "cell_type": "code",
   "execution_count": 185,
   "metadata": {
    "collapsed": true
   },
   "outputs": [],
   "source": [
    "data = {\n",
    "    \"FB\" : FB,\n",
    "    \"AMZN\" : AMZN,\n",
    "    \"MSFT\": MSFT\n",
    "}\n"
   ]
  },
  {
   "cell_type": "code",
   "execution_count": 186,
   "metadata": {},
   "outputs": [
    {
     "name": "stderr",
     "output_type": "stream",
     "text": [
      "C:\\Users\\SAM\\Anaconda3\\lib\\site-packages\\IPython\\core\\interactiveshell.py:2963: FutureWarning: \n",
      "Panel is deprecated and will be removed in a future version.\n",
      "The recommended way to represent these types of 3-dimensional data are with a MultiIndex on a DataFrame, via the Panel.to_frame() method\n",
      "Alternatively, you can use the xarray package http://xarray.pydata.org/en/stable/.\n",
      "Pandas provides a `.to_xarray()` method to help automate this conversion.\n",
      "\n",
      "  exec(code_obj, self.user_global_ns, self.user_ns)\n"
     ]
    },
    {
     "data": {
      "text/plain": [
       "<class 'pandas.core.panel.Panel'>\n",
       "Dimensions: 3 (items) x 1259 (major_axis) x 5 (minor_axis)\n",
       "Items axis: FB to MSFT\n",
       "Major_axis axis: 2013-02-08 00:00:00 to 2018-02-07 00:00:00\n",
       "Minor_axis axis: open to volume"
      ]
     },
     "execution_count": 186,
     "metadata": {},
     "output_type": "execute_result"
    }
   ],
   "source": [
    "p = pd.Panel(data)\n",
    "p"
   ]
  },
  {
   "cell_type": "markdown",
   "metadata": {},
   "source": [
    "We have extracted data for Facebook, Amazon, and Microsft and passed the data into Pandas Panel. Now, lets explore on Panel object."
   ]
  },
  {
   "cell_type": "code",
   "execution_count": 187,
   "metadata": {},
   "outputs": [
    {
     "data": {
      "text/plain": [
       "pandas.core.panel.Panel"
      ]
     },
     "execution_count": 187,
     "metadata": {},
     "output_type": "execute_result"
    }
   ],
   "source": [
    "type(p)"
   ]
  },
  {
   "cell_type": "code",
   "execution_count": 188,
   "metadata": {},
   "outputs": [
    {
     "data": {
      "text/plain": [
       "Index(['FB', 'AMZN', 'MSFT'], dtype='object')"
      ]
     },
     "execution_count": 188,
     "metadata": {},
     "output_type": "execute_result"
    }
   ],
   "source": [
    "p.items"
   ]
  },
  {
   "cell_type": "code",
   "execution_count": 189,
   "metadata": {},
   "outputs": [
    {
     "data": {
      "text/plain": [
       "DatetimeIndex(['2013-02-08', '2013-02-11', '2013-02-12', '2013-02-13',\n",
       "               '2013-02-14', '2013-02-15', '2013-02-19', '2013-02-20',\n",
       "               '2013-02-21', '2013-02-22',\n",
       "               ...\n",
       "               '2018-01-25', '2018-01-26', '2018-01-29', '2018-01-30',\n",
       "               '2018-01-31', '2018-02-01', '2018-02-02', '2018-02-05',\n",
       "               '2018-02-06', '2018-02-07'],\n",
       "              dtype='datetime64[ns]', name='date', length=1259, freq=None)"
      ]
     },
     "execution_count": 189,
     "metadata": {},
     "output_type": "execute_result"
    }
   ],
   "source": [
    "p.major_axis"
   ]
  },
  {
   "cell_type": "code",
   "execution_count": 190,
   "metadata": {},
   "outputs": [
    {
     "data": {
      "text/plain": [
       "Index(['open', 'high', 'low', 'close', 'volume'], dtype='object')"
      ]
     },
     "execution_count": 190,
     "metadata": {},
     "output_type": "execute_result"
    }
   ],
   "source": [
    "p.minor_axis"
   ]
  },
  {
   "cell_type": "code",
   "execution_count": 191,
   "metadata": {},
   "outputs": [
    {
     "data": {
      "text/plain": [
       "(3, 1259, 5)"
      ]
     },
     "execution_count": 191,
     "metadata": {},
     "output_type": "execute_result"
    }
   ],
   "source": [
    "p.shape"
   ]
  },
  {
   "cell_type": "code",
   "execution_count": 192,
   "metadata": {},
   "outputs": [
    {
     "data": {
      "text/html": [
       "<div>\n",
       "<style scoped>\n",
       "    .dataframe tbody tr th:only-of-type {\n",
       "        vertical-align: middle;\n",
       "    }\n",
       "\n",
       "    .dataframe tbody tr th {\n",
       "        vertical-align: top;\n",
       "    }\n",
       "\n",
       "    .dataframe thead th {\n",
       "        text-align: right;\n",
       "    }\n",
       "</style>\n",
       "<table border=\"1\" class=\"dataframe\">\n",
       "  <thead>\n",
       "    <tr style=\"text-align: right;\">\n",
       "      <th></th>\n",
       "      <th></th>\n",
       "      <th>FB</th>\n",
       "      <th>AMZN</th>\n",
       "      <th>MSFT</th>\n",
       "    </tr>\n",
       "    <tr>\n",
       "      <th>date</th>\n",
       "      <th>minor</th>\n",
       "      <th></th>\n",
       "      <th></th>\n",
       "      <th></th>\n",
       "    </tr>\n",
       "  </thead>\n",
       "  <tbody>\n",
       "    <tr>\n",
       "      <th rowspan=\"5\" valign=\"top\">2013-02-08</th>\n",
       "      <th>open</th>\n",
       "      <td>2.889e+01</td>\n",
       "      <td>2.614e+02</td>\n",
       "      <td>2.735e+01</td>\n",
       "    </tr>\n",
       "    <tr>\n",
       "      <th>high</th>\n",
       "      <td>2.917e+01</td>\n",
       "      <td>2.652e+02</td>\n",
       "      <td>2.771e+01</td>\n",
       "    </tr>\n",
       "    <tr>\n",
       "      <th>low</th>\n",
       "      <td>2.851e+01</td>\n",
       "      <td>2.606e+02</td>\n",
       "      <td>2.731e+01</td>\n",
       "    </tr>\n",
       "    <tr>\n",
       "      <th>close</th>\n",
       "      <td>2.855e+01</td>\n",
       "      <td>2.619e+02</td>\n",
       "      <td>2.755e+01</td>\n",
       "    </tr>\n",
       "    <tr>\n",
       "      <th>volume</th>\n",
       "      <td>3.766e+07</td>\n",
       "      <td>3.879e+06</td>\n",
       "      <td>3.332e+07</td>\n",
       "    </tr>\n",
       "  </tbody>\n",
       "</table>\n",
       "</div>"
      ],
      "text/plain": [
       "                          FB       AMZN       MSFT\n",
       "date       minor                                  \n",
       "2013-02-08 open    2.889e+01  2.614e+02  2.735e+01\n",
       "           high    2.917e+01  2.652e+02  2.771e+01\n",
       "           low     2.851e+01  2.606e+02  2.731e+01\n",
       "           close   2.855e+01  2.619e+02  2.755e+01\n",
       "           volume  3.766e+07  3.879e+06  3.332e+07"
      ]
     },
     "execution_count": 192,
     "metadata": {},
     "output_type": "execute_result"
    }
   ],
   "source": [
    "p.to_frame().head()"
   ]
  },
  {
   "cell_type": "markdown",
   "metadata": {},
   "source": [
    "### 3. Extract a dataFrame from Panels\n",
    "\n",
    "- The first argument in the bracket is the Item axis.\n",
    "- The second argument in the bracket can be either the minor axis or major axis."
   ]
  },
  {
   "cell_type": "code",
   "execution_count": 193,
   "metadata": {},
   "outputs": [
    {
     "data": {
      "text/plain": [
       "<class 'pandas.core.panel.Panel'>\n",
       "Dimensions: 3 (items) x 1259 (major_axis) x 5 (minor_axis)\n",
       "Items axis: FB to MSFT\n",
       "Major_axis axis: 2013-02-08 00:00:00 to 2018-02-07 00:00:00\n",
       "Minor_axis axis: open to volume"
      ]
     },
     "execution_count": 193,
     "metadata": {},
     "output_type": "execute_result"
    }
   ],
   "source": [
    "p"
   ]
  },
  {
   "cell_type": "markdown",
   "metadata": {},
   "source": [
    "**The first bracket**"
   ]
  },
  {
   "cell_type": "code",
   "execution_count": 194,
   "metadata": {},
   "outputs": [
    {
     "data": {
      "text/html": [
       "<div>\n",
       "<style scoped>\n",
       "    .dataframe tbody tr th:only-of-type {\n",
       "        vertical-align: middle;\n",
       "    }\n",
       "\n",
       "    .dataframe tbody tr th {\n",
       "        vertical-align: top;\n",
       "    }\n",
       "\n",
       "    .dataframe thead th {\n",
       "        text-align: right;\n",
       "    }\n",
       "</style>\n",
       "<table border=\"1\" class=\"dataframe\">\n",
       "  <thead>\n",
       "    <tr style=\"text-align: right;\">\n",
       "      <th></th>\n",
       "      <th>open</th>\n",
       "      <th>high</th>\n",
       "      <th>low</th>\n",
       "      <th>close</th>\n",
       "      <th>volume</th>\n",
       "    </tr>\n",
       "    <tr>\n",
       "      <th>date</th>\n",
       "      <th></th>\n",
       "      <th></th>\n",
       "      <th></th>\n",
       "      <th></th>\n",
       "      <th></th>\n",
       "    </tr>\n",
       "  </thead>\n",
       "  <tbody>\n",
       "    <tr>\n",
       "      <th>2013-02-08</th>\n",
       "      <td>261.40</td>\n",
       "      <td>265.25</td>\n",
       "      <td>260.555</td>\n",
       "      <td>261.95</td>\n",
       "      <td>3.879e+06</td>\n",
       "    </tr>\n",
       "    <tr>\n",
       "      <th>2013-02-11</th>\n",
       "      <td>263.20</td>\n",
       "      <td>263.25</td>\n",
       "      <td>256.600</td>\n",
       "      <td>257.21</td>\n",
       "      <td>3.403e+06</td>\n",
       "    </tr>\n",
       "    <tr>\n",
       "      <th>2013-02-12</th>\n",
       "      <td>259.19</td>\n",
       "      <td>260.16</td>\n",
       "      <td>257.000</td>\n",
       "      <td>258.70</td>\n",
       "      <td>2.939e+06</td>\n",
       "    </tr>\n",
       "    <tr>\n",
       "      <th>2013-02-13</th>\n",
       "      <td>261.53</td>\n",
       "      <td>269.96</td>\n",
       "      <td>260.300</td>\n",
       "      <td>269.47</td>\n",
       "      <td>5.293e+06</td>\n",
       "    </tr>\n",
       "    <tr>\n",
       "      <th>2013-02-14</th>\n",
       "      <td>267.37</td>\n",
       "      <td>270.65</td>\n",
       "      <td>265.400</td>\n",
       "      <td>269.24</td>\n",
       "      <td>3.463e+06</td>\n",
       "    </tr>\n",
       "  </tbody>\n",
       "</table>\n",
       "</div>"
      ],
      "text/plain": [
       "              open    high      low   close     volume\n",
       "date                                                  \n",
       "2013-02-08  261.40  265.25  260.555  261.95  3.879e+06\n",
       "2013-02-11  263.20  263.25  256.600  257.21  3.403e+06\n",
       "2013-02-12  259.19  260.16  257.000  258.70  2.939e+06\n",
       "2013-02-13  261.53  269.96  260.300  269.47  5.293e+06\n",
       "2013-02-14  267.37  270.65  265.400  269.24  3.463e+06"
      ]
     },
     "execution_count": 194,
     "metadata": {},
     "output_type": "execute_result"
    }
   ],
   "source": [
    "p[\"AMZN\"].head()"
   ]
  },
  {
   "cell_type": "code",
   "execution_count": 195,
   "metadata": {},
   "outputs": [
    {
     "name": "stdout",
     "output_type": "stream",
     "text": [
      "<class 'pandas.core.frame.DataFrame'>\n",
      "DatetimeIndex: 1259 entries, 2013-02-08 to 2018-02-07\n",
      "Data columns (total 5 columns):\n",
      "open      1259 non-null float64\n",
      "high      1259 non-null float64\n",
      "low       1259 non-null float64\n",
      "close     1259 non-null float64\n",
      "volume    1259 non-null float64\n",
      "dtypes: float64(5)\n",
      "memory usage: 99.0 KB\n"
     ]
    }
   ],
   "source": [
    "p[\"AMZN\"].info()"
   ]
  },
  {
   "cell_type": "markdown",
   "metadata": {},
   "source": [
    "To get a specific data, 3 arguments are needed. The sequence is as follows:\n",
    "\n",
    "**[items, major , minor]**"
   ]
  },
  {
   "cell_type": "code",
   "execution_count": 196,
   "metadata": {},
   "outputs": [
    {
     "data": {
      "text/html": [
       "<div>\n",
       "<style scoped>\n",
       "    .dataframe tbody tr th:only-of-type {\n",
       "        vertical-align: middle;\n",
       "    }\n",
       "\n",
       "    .dataframe tbody tr th {\n",
       "        vertical-align: top;\n",
       "    }\n",
       "\n",
       "    .dataframe thead th {\n",
       "        text-align: right;\n",
       "    }\n",
       "</style>\n",
       "<table border=\"1\" class=\"dataframe\">\n",
       "  <thead>\n",
       "    <tr style=\"text-align: right;\">\n",
       "      <th></th>\n",
       "      <th>open</th>\n",
       "      <th>high</th>\n",
       "      <th>low</th>\n",
       "      <th>close</th>\n",
       "      <th>volume</th>\n",
       "    </tr>\n",
       "    <tr>\n",
       "      <th>date</th>\n",
       "      <th></th>\n",
       "      <th></th>\n",
       "      <th></th>\n",
       "      <th></th>\n",
       "      <th></th>\n",
       "    </tr>\n",
       "  </thead>\n",
       "  <tbody>\n",
       "    <tr>\n",
       "      <th>2013-02-08</th>\n",
       "      <td>261.40</td>\n",
       "      <td>265.25</td>\n",
       "      <td>260.555</td>\n",
       "      <td>261.95</td>\n",
       "      <td>3.879e+06</td>\n",
       "    </tr>\n",
       "    <tr>\n",
       "      <th>2013-02-11</th>\n",
       "      <td>263.20</td>\n",
       "      <td>263.25</td>\n",
       "      <td>256.600</td>\n",
       "      <td>257.21</td>\n",
       "      <td>3.403e+06</td>\n",
       "    </tr>\n",
       "    <tr>\n",
       "      <th>2013-02-12</th>\n",
       "      <td>259.19</td>\n",
       "      <td>260.16</td>\n",
       "      <td>257.000</td>\n",
       "      <td>258.70</td>\n",
       "      <td>2.939e+06</td>\n",
       "    </tr>\n",
       "    <tr>\n",
       "      <th>2013-02-13</th>\n",
       "      <td>261.53</td>\n",
       "      <td>269.96</td>\n",
       "      <td>260.300</td>\n",
       "      <td>269.47</td>\n",
       "      <td>5.293e+06</td>\n",
       "    </tr>\n",
       "    <tr>\n",
       "      <th>2013-02-14</th>\n",
       "      <td>267.37</td>\n",
       "      <td>270.65</td>\n",
       "      <td>265.400</td>\n",
       "      <td>269.24</td>\n",
       "      <td>3.463e+06</td>\n",
       "    </tr>\n",
       "  </tbody>\n",
       "</table>\n",
       "</div>"
      ],
      "text/plain": [
       "              open    high      low   close     volume\n",
       "date                                                  \n",
       "2013-02-08  261.40  265.25  260.555  261.95  3.879e+06\n",
       "2013-02-11  263.20  263.25  256.600  257.21  3.403e+06\n",
       "2013-02-12  259.19  260.16  257.000  258.70  2.939e+06\n",
       "2013-02-13  261.53  269.96  260.300  269.47  5.293e+06\n",
       "2013-02-14  267.37  270.65  265.400  269.24  3.463e+06"
      ]
     },
     "execution_count": 196,
     "metadata": {},
     "output_type": "execute_result"
    }
   ],
   "source": [
    "p[\"AMZN\"].head()"
   ]
  },
  {
   "cell_type": "code",
   "execution_count": 197,
   "metadata": {},
   "outputs": [
    {
     "data": {
      "text/plain": [
       "open      2.614e+02\n",
       "high      2.652e+02\n",
       "low       2.606e+02\n",
       "close     2.619e+02\n",
       "volume    3.879e+06\n",
       "Name: 2013-02-08 00:00:00, dtype: float64"
      ]
     },
     "execution_count": 197,
     "metadata": {},
     "output_type": "execute_result"
    }
   ],
   "source": [
    "p[\"AMZN\",\"2013-02-08\"]"
   ]
  },
  {
   "cell_type": "code",
   "execution_count": 198,
   "metadata": {},
   "outputs": [
    {
     "data": {
      "text/plain": [
       "261.4"
      ]
     },
     "execution_count": 198,
     "metadata": {},
     "output_type": "execute_result"
    }
   ],
   "source": [
    "p[\"AMZN\",\"2013-02-08\", \"open\"]"
   ]
  },
  {
   "cell_type": "code",
   "execution_count": 199,
   "metadata": {},
   "outputs": [
    {
     "data": {
      "text/plain": [
       "count    1.259e+03\n",
       "mean     3.730e+06\n",
       "std      2.167e+06\n",
       "min      1.093e+06\n",
       "25%      2.511e+06\n",
       "50%      3.145e+06\n",
       "75%      4.220e+06\n",
       "max      2.386e+07\n",
       "Name: volume, dtype: float64"
      ]
     },
     "execution_count": 199,
     "metadata": {},
     "output_type": "execute_result"
    }
   ],
   "source": [
    "p[\"AMZN\"][\"volume\"].describe()"
   ]
  },
  {
   "cell_type": "code",
   "execution_count": 200,
   "metadata": {},
   "outputs": [
    {
     "data": {
      "text/plain": [
       "1092970.0"
      ]
     },
     "execution_count": 200,
     "metadata": {},
     "output_type": "execute_result"
    }
   ],
   "source": [
    "p[\"AMZN\"][\"volume\"].min()"
   ]
  },
  {
   "cell_type": "markdown",
   "metadata": {},
   "source": [
    "### 4. Set options on floating points\n",
    "\n",
    "Change all the precision points values for floating points."
   ]
  },
  {
   "cell_type": "code",
   "execution_count": 222,
   "metadata": {},
   "outputs": [
    {
     "data": {
      "text/html": [
       "<div>\n",
       "<style scoped>\n",
       "    .dataframe tbody tr th:only-of-type {\n",
       "        vertical-align: middle;\n",
       "    }\n",
       "\n",
       "    .dataframe tbody tr th {\n",
       "        vertical-align: top;\n",
       "    }\n",
       "\n",
       "    .dataframe thead th {\n",
       "        text-align: right;\n",
       "    }\n",
       "</style>\n",
       "<table border=\"1\" class=\"dataframe\">\n",
       "  <thead>\n",
       "    <tr style=\"text-align: right;\">\n",
       "      <th></th>\n",
       "      <th>open</th>\n",
       "      <th>high</th>\n",
       "      <th>low</th>\n",
       "      <th>close</th>\n",
       "      <th>volume</th>\n",
       "    </tr>\n",
       "    <tr>\n",
       "      <th>date</th>\n",
       "      <th></th>\n",
       "      <th></th>\n",
       "      <th></th>\n",
       "      <th></th>\n",
       "      <th></th>\n",
       "    </tr>\n",
       "  </thead>\n",
       "  <tbody>\n",
       "    <tr>\n",
       "      <th>2013-02-08</th>\n",
       "      <td>261.40</td>\n",
       "      <td>265.25</td>\n",
       "      <td>260.555</td>\n",
       "      <td>261.95</td>\n",
       "      <td>3.879e+06</td>\n",
       "    </tr>\n",
       "    <tr>\n",
       "      <th>2013-02-11</th>\n",
       "      <td>263.20</td>\n",
       "      <td>263.25</td>\n",
       "      <td>256.600</td>\n",
       "      <td>257.21</td>\n",
       "      <td>3.403e+06</td>\n",
       "    </tr>\n",
       "    <tr>\n",
       "      <th>2013-02-12</th>\n",
       "      <td>259.19</td>\n",
       "      <td>260.16</td>\n",
       "      <td>257.000</td>\n",
       "      <td>258.70</td>\n",
       "      <td>2.939e+06</td>\n",
       "    </tr>\n",
       "  </tbody>\n",
       "</table>\n",
       "</div>"
      ],
      "text/plain": [
       "              open    high      low   close     volume\n",
       "date                                                  \n",
       "2013-02-08  261.40  265.25  260.555  261.95  3.879e+06\n",
       "2013-02-11  263.20  263.25  256.600  257.21  3.403e+06\n",
       "2013-02-12  259.19  260.16  257.000  258.70  2.939e+06"
      ]
     },
     "execution_count": 222,
     "metadata": {},
     "output_type": "execute_result"
    }
   ],
   "source": [
    "p[\"AMZN\"].head(3)"
   ]
  },
  {
   "cell_type": "code",
   "execution_count": 227,
   "metadata": {
    "collapsed": true
   },
   "outputs": [],
   "source": [
    "pd.set_option(\"precision\", 1)"
   ]
  },
  {
   "cell_type": "code",
   "execution_count": 228,
   "metadata": {},
   "outputs": [
    {
     "data": {
      "text/html": [
       "<div>\n",
       "<style scoped>\n",
       "    .dataframe tbody tr th:only-of-type {\n",
       "        vertical-align: middle;\n",
       "    }\n",
       "\n",
       "    .dataframe tbody tr th {\n",
       "        vertical-align: top;\n",
       "    }\n",
       "\n",
       "    .dataframe thead th {\n",
       "        text-align: right;\n",
       "    }\n",
       "</style>\n",
       "<table border=\"1\" class=\"dataframe\">\n",
       "  <thead>\n",
       "    <tr style=\"text-align: right;\">\n",
       "      <th></th>\n",
       "      <th>open</th>\n",
       "      <th>high</th>\n",
       "      <th>low</th>\n",
       "      <th>close</th>\n",
       "      <th>volume</th>\n",
       "    </tr>\n",
       "    <tr>\n",
       "      <th>date</th>\n",
       "      <th></th>\n",
       "      <th></th>\n",
       "      <th></th>\n",
       "      <th></th>\n",
       "      <th></th>\n",
       "    </tr>\n",
       "  </thead>\n",
       "  <tbody>\n",
       "    <tr>\n",
       "      <th>2013-02-08</th>\n",
       "      <td>261.4</td>\n",
       "      <td>265.2</td>\n",
       "      <td>260.6</td>\n",
       "      <td>261.9</td>\n",
       "      <td>3.9e+06</td>\n",
       "    </tr>\n",
       "    <tr>\n",
       "      <th>2013-02-11</th>\n",
       "      <td>263.2</td>\n",
       "      <td>263.2</td>\n",
       "      <td>256.6</td>\n",
       "      <td>257.2</td>\n",
       "      <td>3.4e+06</td>\n",
       "    </tr>\n",
       "    <tr>\n",
       "      <th>2013-02-12</th>\n",
       "      <td>259.2</td>\n",
       "      <td>260.2</td>\n",
       "      <td>257.0</td>\n",
       "      <td>258.7</td>\n",
       "      <td>2.9e+06</td>\n",
       "    </tr>\n",
       "  </tbody>\n",
       "</table>\n",
       "</div>"
      ],
      "text/plain": [
       "             open   high    low  close   volume\n",
       "date                                           \n",
       "2013-02-08  261.4  265.2  260.6  261.9  3.9e+06\n",
       "2013-02-11  263.2  263.2  256.6  257.2  3.4e+06\n",
       "2013-02-12  259.2  260.2  257.0  258.7  2.9e+06"
      ]
     },
     "execution_count": 228,
     "metadata": {},
     "output_type": "execute_result"
    }
   ],
   "source": [
    "p[\"AMZN\"].head(3)"
   ]
  },
  {
   "cell_type": "code",
   "execution_count": 229,
   "metadata": {
    "collapsed": true
   },
   "outputs": [],
   "source": [
    "pd.set_option(\"precision\", 3)"
   ]
  },
  {
   "cell_type": "markdown",
   "metadata": {},
   "source": [
    "### 5. Extract with loc[  ] , iloc [  ]  and ix[  ]  methods"
   ]
  },
  {
   "cell_type": "markdown",
   "metadata": {},
   "source": [
    "**ITEMS:** Index(['FB', 'AMZN', 'MSFT'], dtype='object')\n",
    "\n",
    "**MAJOR** : DatetimeIndex(['2013-02-08', '2013-02-11', '2013-02-12', '2013-02-13',\n",
    "               '2013-02-14', '2013-02-15', '2013-02-19', '2013-02-20',\n",
    "               '2013-02-21', '2013-02-22',\n",
    "               ...\n",
    "               '2018-01-25', '2018-01-26', '2018-01-29', '2018-01-30',\n",
    "               '2018-01-31', '2018-02-01', '2018-02-02', '2018-02-05',\n",
    "               '2018-02-06', '2018-02-07'],\n",
    "               \n",
    "              dtype='datetime64[ns]', name='date', length=1259, freq=None)\n",
    "              \n",
    "**MINOR** : Index(['open', 'high', 'low', 'close', 'volume'], dtype='object')\n",
    "\n",
    "**[  items , major , minor ]**\n",
    "\n",
    "This is the reference when you want to use loc[ ], iloc[ ] and ix[ ] methods"
   ]
  },
  {
   "cell_type": "code",
   "execution_count": 231,
   "metadata": {},
   "outputs": [
    {
     "data": {
      "text/plain": [
       "<class 'pandas.core.panel.Panel'>\n",
       "Dimensions: 3 (items) x 1259 (major_axis) x 5 (minor_axis)\n",
       "Items axis: FB to MSFT\n",
       "Major_axis axis: 2013-02-08 00:00:00 to 2018-02-07 00:00:00\n",
       "Minor_axis axis: open to volume"
      ]
     },
     "execution_count": 231,
     "metadata": {},
     "output_type": "execute_result"
    }
   ],
   "source": [
    "p"
   ]
  },
  {
   "cell_type": "code",
   "execution_count": 205,
   "metadata": {},
   "outputs": [
    {
     "data": {
      "text/plain": [
       "28.89"
      ]
     },
     "execution_count": 205,
     "metadata": {},
     "output_type": "execute_result"
    }
   ],
   "source": [
    "p.loc[\"FB\",'2013-02-08' , \"open\"]"
   ]
  },
  {
   "cell_type": "code",
   "execution_count": 206,
   "metadata": {},
   "outputs": [
    {
     "data": {
      "text/plain": [
       "28.89"
      ]
     },
     "execution_count": 206,
     "metadata": {},
     "output_type": "execute_result"
    }
   ],
   "source": [
    "p.iloc[0,0,0]"
   ]
  },
  {
   "cell_type": "code",
   "execution_count": 207,
   "metadata": {},
   "outputs": [
    {
     "name": "stderr",
     "output_type": "stream",
     "text": [
      "C:\\Users\\SAM\\Anaconda3\\lib\\site-packages\\ipykernel_launcher.py:1: DeprecationWarning: \n",
      ".ix is deprecated. Please use\n",
      ".loc for label based indexing or\n",
      ".iloc for positional indexing\n",
      "\n",
      "See the documentation here:\n",
      "http://pandas.pydata.org/pandas-docs/stable/indexing.html#ix-indexer-is-deprecated\n",
      "  \"\"\"Entry point for launching an IPython kernel.\n"
     ]
    },
    {
     "data": {
      "text/plain": [
       "28.89"
      ]
     },
     "execution_count": 207,
     "metadata": {},
     "output_type": "execute_result"
    }
   ],
   "source": [
    "p.ix[\"FB\", 0 , \"open\"]"
   ]
  },
  {
   "cell_type": "markdown",
   "metadata": {},
   "source": [
    "### 6. Convert Panel into MultiIndex DataFrame (and vice versa )"
   ]
  },
  {
   "cell_type": "code",
   "execution_count": 208,
   "metadata": {},
   "outputs": [
    {
     "data": {
      "text/plain": [
       "<class 'pandas.core.panel.Panel'>\n",
       "Dimensions: 3 (items) x 1259 (major_axis) x 5 (minor_axis)\n",
       "Items axis: FB to MSFT\n",
       "Major_axis axis: 2013-02-08 00:00:00 to 2018-02-07 00:00:00\n",
       "Minor_axis axis: open to volume"
      ]
     },
     "execution_count": 208,
     "metadata": {},
     "output_type": "execute_result"
    }
   ],
   "source": [
    "p"
   ]
  },
  {
   "cell_type": "markdown",
   "metadata": {},
   "source": [
    "Major will be the first index and minor, the second index. The columns will be the Items list"
   ]
  },
  {
   "cell_type": "code",
   "execution_count": 209,
   "metadata": {},
   "outputs": [
    {
     "data": {
      "text/html": [
       "<div>\n",
       "<style scoped>\n",
       "    .dataframe tbody tr th:only-of-type {\n",
       "        vertical-align: middle;\n",
       "    }\n",
       "\n",
       "    .dataframe tbody tr th {\n",
       "        vertical-align: top;\n",
       "    }\n",
       "\n",
       "    .dataframe thead th {\n",
       "        text-align: right;\n",
       "    }\n",
       "</style>\n",
       "<table border=\"1\" class=\"dataframe\">\n",
       "  <thead>\n",
       "    <tr style=\"text-align: right;\">\n",
       "      <th></th>\n",
       "      <th></th>\n",
       "      <th>FB</th>\n",
       "      <th>AMZN</th>\n",
       "      <th>MSFT</th>\n",
       "    </tr>\n",
       "    <tr>\n",
       "      <th>date</th>\n",
       "      <th>minor</th>\n",
       "      <th></th>\n",
       "      <th></th>\n",
       "      <th></th>\n",
       "    </tr>\n",
       "  </thead>\n",
       "  <tbody>\n",
       "    <tr>\n",
       "      <th rowspan=\"5\" valign=\"top\">2013-02-08</th>\n",
       "      <th>open</th>\n",
       "      <td>2.889e+01</td>\n",
       "      <td>2.614e+02</td>\n",
       "      <td>2.735e+01</td>\n",
       "    </tr>\n",
       "    <tr>\n",
       "      <th>high</th>\n",
       "      <td>2.917e+01</td>\n",
       "      <td>2.652e+02</td>\n",
       "      <td>2.771e+01</td>\n",
       "    </tr>\n",
       "    <tr>\n",
       "      <th>low</th>\n",
       "      <td>2.851e+01</td>\n",
       "      <td>2.606e+02</td>\n",
       "      <td>2.731e+01</td>\n",
       "    </tr>\n",
       "    <tr>\n",
       "      <th>close</th>\n",
       "      <td>2.855e+01</td>\n",
       "      <td>2.619e+02</td>\n",
       "      <td>2.755e+01</td>\n",
       "    </tr>\n",
       "    <tr>\n",
       "      <th>volume</th>\n",
       "      <td>3.766e+07</td>\n",
       "      <td>3.879e+06</td>\n",
       "      <td>3.332e+07</td>\n",
       "    </tr>\n",
       "    <tr>\n",
       "      <th rowspan=\"5\" valign=\"top\">2013-02-11</th>\n",
       "      <th>open</th>\n",
       "      <td>2.861e+01</td>\n",
       "      <td>2.632e+02</td>\n",
       "      <td>2.765e+01</td>\n",
       "    </tr>\n",
       "    <tr>\n",
       "      <th>high</th>\n",
       "      <td>2.868e+01</td>\n",
       "      <td>2.632e+02</td>\n",
       "      <td>2.792e+01</td>\n",
       "    </tr>\n",
       "    <tr>\n",
       "      <th>low</th>\n",
       "      <td>2.804e+01</td>\n",
       "      <td>2.566e+02</td>\n",
       "      <td>2.750e+01</td>\n",
       "    </tr>\n",
       "    <tr>\n",
       "      <th>close</th>\n",
       "      <td>2.826e+01</td>\n",
       "      <td>2.572e+02</td>\n",
       "      <td>2.786e+01</td>\n",
       "    </tr>\n",
       "    <tr>\n",
       "      <th>volume</th>\n",
       "      <td>3.698e+07</td>\n",
       "      <td>3.403e+06</td>\n",
       "      <td>3.225e+07</td>\n",
       "    </tr>\n",
       "    <tr>\n",
       "      <th rowspan=\"5\" valign=\"top\">2013-02-12</th>\n",
       "      <th>open</th>\n",
       "      <td>2.767e+01</td>\n",
       "      <td>2.592e+02</td>\n",
       "      <td>2.788e+01</td>\n",
       "    </tr>\n",
       "    <tr>\n",
       "      <th>high</th>\n",
       "      <td>2.816e+01</td>\n",
       "      <td>2.602e+02</td>\n",
       "      <td>2.800e+01</td>\n",
       "    </tr>\n",
       "    <tr>\n",
       "      <th>low</th>\n",
       "      <td>2.710e+01</td>\n",
       "      <td>2.570e+02</td>\n",
       "      <td>2.775e+01</td>\n",
       "    </tr>\n",
       "    <tr>\n",
       "      <th>close</th>\n",
       "      <td>2.737e+01</td>\n",
       "      <td>2.587e+02</td>\n",
       "      <td>2.788e+01</td>\n",
       "    </tr>\n",
       "    <tr>\n",
       "      <th>volume</th>\n",
       "      <td>9.342e+07</td>\n",
       "      <td>2.939e+06</td>\n",
       "      <td>3.599e+07</td>\n",
       "    </tr>\n",
       "    <tr>\n",
       "      <th rowspan=\"5\" valign=\"top\">2013-02-13</th>\n",
       "      <th>open</th>\n",
       "      <td>2.736e+01</td>\n",
       "      <td>2.615e+02</td>\n",
       "      <td>2.793e+01</td>\n",
       "    </tr>\n",
       "    <tr>\n",
       "      <th>high</th>\n",
       "      <td>2.832e+01</td>\n",
       "      <td>2.700e+02</td>\n",
       "      <td>2.811e+01</td>\n",
       "    </tr>\n",
       "    <tr>\n",
       "      <th>low</th>\n",
       "      <td>2.731e+01</td>\n",
       "      <td>2.603e+02</td>\n",
       "      <td>2.788e+01</td>\n",
       "    </tr>\n",
       "    <tr>\n",
       "      <th>close</th>\n",
       "      <td>2.791e+01</td>\n",
       "      <td>2.695e+02</td>\n",
       "      <td>2.803e+01</td>\n",
       "    </tr>\n",
       "    <tr>\n",
       "      <th>volume</th>\n",
       "      <td>5.010e+07</td>\n",
       "      <td>5.293e+06</td>\n",
       "      <td>4.172e+07</td>\n",
       "    </tr>\n",
       "    <tr>\n",
       "      <th rowspan=\"5\" valign=\"top\">2013-02-14</th>\n",
       "      <th>open</th>\n",
       "      <td>2.802e+01</td>\n",
       "      <td>2.674e+02</td>\n",
       "      <td>2.792e+01</td>\n",
       "    </tr>\n",
       "    <tr>\n",
       "      <th>high</th>\n",
       "      <td>2.863e+01</td>\n",
       "      <td>2.706e+02</td>\n",
       "      <td>2.806e+01</td>\n",
       "    </tr>\n",
       "    <tr>\n",
       "      <th>low</th>\n",
       "      <td>2.801e+01</td>\n",
       "      <td>2.654e+02</td>\n",
       "      <td>2.787e+01</td>\n",
       "    </tr>\n",
       "    <tr>\n",
       "      <th>close</th>\n",
       "      <td>2.850e+01</td>\n",
       "      <td>2.692e+02</td>\n",
       "      <td>2.804e+01</td>\n",
       "    </tr>\n",
       "    <tr>\n",
       "      <th>volume</th>\n",
       "      <td>3.558e+07</td>\n",
       "      <td>3.463e+06</td>\n",
       "      <td>3.266e+07</td>\n",
       "    </tr>\n",
       "    <tr>\n",
       "      <th rowspan=\"5\" valign=\"top\">2013-02-15</th>\n",
       "      <th>open</th>\n",
       "      <td>2.852e+01</td>\n",
       "      <td>2.676e+02</td>\n",
       "      <td>2.804e+01</td>\n",
       "    </tr>\n",
       "    <tr>\n",
       "      <th>high</th>\n",
       "      <td>2.875e+01</td>\n",
       "      <td>2.689e+02</td>\n",
       "      <td>2.816e+01</td>\n",
       "    </tr>\n",
       "    <tr>\n",
       "      <th>low</th>\n",
       "      <td>2.809e+01</td>\n",
       "      <td>2.631e+02</td>\n",
       "      <td>2.788e+01</td>\n",
       "    </tr>\n",
       "    <tr>\n",
       "      <th>close</th>\n",
       "      <td>2.832e+01</td>\n",
       "      <td>2.651e+02</td>\n",
       "      <td>2.801e+01</td>\n",
       "    </tr>\n",
       "    <tr>\n",
       "      <th>volume</th>\n",
       "      <td>3.306e+07</td>\n",
       "      <td>3.980e+06</td>\n",
       "      <td>4.965e+07</td>\n",
       "    </tr>\n",
       "    <tr>\n",
       "      <th>...</th>\n",
       "      <th>...</th>\n",
       "      <td>...</td>\n",
       "      <td>...</td>\n",
       "      <td>...</td>\n",
       "    </tr>\n",
       "    <tr>\n",
       "      <th rowspan=\"5\" valign=\"top\">2018-01-31</th>\n",
       "      <th>open</th>\n",
       "      <td>1.884e+02</td>\n",
       "      <td>1.451e+03</td>\n",
       "      <td>9.375e+01</td>\n",
       "    </tr>\n",
       "    <tr>\n",
       "      <th>high</th>\n",
       "      <td>1.898e+02</td>\n",
       "      <td>1.473e+03</td>\n",
       "      <td>9.540e+01</td>\n",
       "    </tr>\n",
       "    <tr>\n",
       "      <th>low</th>\n",
       "      <td>1.852e+02</td>\n",
       "      <td>1.450e+03</td>\n",
       "      <td>9.351e+01</td>\n",
       "    </tr>\n",
       "    <tr>\n",
       "      <th>close</th>\n",
       "      <td>1.869e+02</td>\n",
       "      <td>1.451e+03</td>\n",
       "      <td>9.501e+01</td>\n",
       "    </tr>\n",
       "    <tr>\n",
       "      <th>volume</th>\n",
       "      <td>4.328e+07</td>\n",
       "      <td>6.425e+06</td>\n",
       "      <td>4.876e+07</td>\n",
       "    </tr>\n",
       "    <tr>\n",
       "      <th rowspan=\"5\" valign=\"top\">2018-02-01</th>\n",
       "      <th>open</th>\n",
       "      <td>1.882e+02</td>\n",
       "      <td>1.445e+03</td>\n",
       "      <td>9.479e+01</td>\n",
       "    </tr>\n",
       "    <tr>\n",
       "      <th>high</th>\n",
       "      <td>1.953e+02</td>\n",
       "      <td>1.460e+03</td>\n",
       "      <td>9.607e+01</td>\n",
       "    </tr>\n",
       "    <tr>\n",
       "      <th>low</th>\n",
       "      <td>1.879e+02</td>\n",
       "      <td>1.385e+03</td>\n",
       "      <td>9.358e+01</td>\n",
       "    </tr>\n",
       "    <tr>\n",
       "      <th>close</th>\n",
       "      <td>1.931e+02</td>\n",
       "      <td>1.390e+03</td>\n",
       "      <td>9.426e+01</td>\n",
       "    </tr>\n",
       "    <tr>\n",
       "      <th>volume</th>\n",
       "      <td>5.421e+07</td>\n",
       "      <td>9.114e+06</td>\n",
       "      <td>4.723e+07</td>\n",
       "    </tr>\n",
       "    <tr>\n",
       "      <th rowspan=\"5\" valign=\"top\">2018-02-02</th>\n",
       "      <th>open</th>\n",
       "      <td>1.920e+02</td>\n",
       "      <td>1.477e+03</td>\n",
       "      <td>9.364e+01</td>\n",
       "    </tr>\n",
       "    <tr>\n",
       "      <th>high</th>\n",
       "      <td>1.942e+02</td>\n",
       "      <td>1.498e+03</td>\n",
       "      <td>9.397e+01</td>\n",
       "    </tr>\n",
       "    <tr>\n",
       "      <th>low</th>\n",
       "      <td>1.900e+02</td>\n",
       "      <td>1.414e+03</td>\n",
       "      <td>9.150e+01</td>\n",
       "    </tr>\n",
       "    <tr>\n",
       "      <th>close</th>\n",
       "      <td>1.903e+02</td>\n",
       "      <td>1.430e+03</td>\n",
       "      <td>9.178e+01</td>\n",
       "    </tr>\n",
       "    <tr>\n",
       "      <th>volume</th>\n",
       "      <td>2.668e+07</td>\n",
       "      <td>1.113e+07</td>\n",
       "      <td>4.787e+07</td>\n",
       "    </tr>\n",
       "    <tr>\n",
       "      <th rowspan=\"5\" valign=\"top\">2018-02-05</th>\n",
       "      <th>open</th>\n",
       "      <td>1.869e+02</td>\n",
       "      <td>1.403e+03</td>\n",
       "      <td>9.056e+01</td>\n",
       "    </tr>\n",
       "    <tr>\n",
       "      <th>high</th>\n",
       "      <td>1.906e+02</td>\n",
       "      <td>1.459e+03</td>\n",
       "      <td>9.324e+01</td>\n",
       "    </tr>\n",
       "    <tr>\n",
       "      <th>low</th>\n",
       "      <td>1.806e+02</td>\n",
       "      <td>1.321e+03</td>\n",
       "      <td>8.800e+01</td>\n",
       "    </tr>\n",
       "    <tr>\n",
       "      <th>close</th>\n",
       "      <td>1.813e+02</td>\n",
       "      <td>1.390e+03</td>\n",
       "      <td>8.800e+01</td>\n",
       "    </tr>\n",
       "    <tr>\n",
       "      <th>volume</th>\n",
       "      <td>3.313e+07</td>\n",
       "      <td>1.149e+07</td>\n",
       "      <td>5.103e+07</td>\n",
       "    </tr>\n",
       "    <tr>\n",
       "      <th rowspan=\"5\" valign=\"top\">2018-02-06</th>\n",
       "      <th>open</th>\n",
       "      <td>1.786e+02</td>\n",
       "      <td>1.361e+03</td>\n",
       "      <td>8.689e+01</td>\n",
       "    </tr>\n",
       "    <tr>\n",
       "      <th>high</th>\n",
       "      <td>1.858e+02</td>\n",
       "      <td>1.444e+03</td>\n",
       "      <td>9.147e+01</td>\n",
       "    </tr>\n",
       "    <tr>\n",
       "      <th>low</th>\n",
       "      <td>1.777e+02</td>\n",
       "      <td>1.352e+03</td>\n",
       "      <td>8.525e+01</td>\n",
       "    </tr>\n",
       "    <tr>\n",
       "      <th>close</th>\n",
       "      <td>1.853e+02</td>\n",
       "      <td>1.443e+03</td>\n",
       "      <td>9.133e+01</td>\n",
       "    </tr>\n",
       "    <tr>\n",
       "      <th>volume</th>\n",
       "      <td>3.776e+07</td>\n",
       "      <td>1.107e+07</td>\n",
       "      <td>6.800e+07</td>\n",
       "    </tr>\n",
       "    <tr>\n",
       "      <th rowspan=\"5\" valign=\"top\">2018-02-07</th>\n",
       "      <th>open</th>\n",
       "      <td>1.842e+02</td>\n",
       "      <td>1.449e+03</td>\n",
       "      <td>9.049e+01</td>\n",
       "    </tr>\n",
       "    <tr>\n",
       "      <th>high</th>\n",
       "      <td>1.851e+02</td>\n",
       "      <td>1.461e+03</td>\n",
       "      <td>9.177e+01</td>\n",
       "    </tr>\n",
       "    <tr>\n",
       "      <th>low</th>\n",
       "      <td>1.799e+02</td>\n",
       "      <td>1.415e+03</td>\n",
       "      <td>8.920e+01</td>\n",
       "    </tr>\n",
       "    <tr>\n",
       "      <th>close</th>\n",
       "      <td>1.802e+02</td>\n",
       "      <td>1.417e+03</td>\n",
       "      <td>8.961e+01</td>\n",
       "    </tr>\n",
       "    <tr>\n",
       "      <th>volume</th>\n",
       "      <td>2.760e+07</td>\n",
       "      <td>7.163e+06</td>\n",
       "      <td>4.111e+07</td>\n",
       "    </tr>\n",
       "  </tbody>\n",
       "</table>\n",
       "<p>6295 rows × 3 columns</p>\n",
       "</div>"
      ],
      "text/plain": [
       "                          FB       AMZN       MSFT\n",
       "date       minor                                  \n",
       "2013-02-08 open    2.889e+01  2.614e+02  2.735e+01\n",
       "           high    2.917e+01  2.652e+02  2.771e+01\n",
       "           low     2.851e+01  2.606e+02  2.731e+01\n",
       "           close   2.855e+01  2.619e+02  2.755e+01\n",
       "           volume  3.766e+07  3.879e+06  3.332e+07\n",
       "2013-02-11 open    2.861e+01  2.632e+02  2.765e+01\n",
       "           high    2.868e+01  2.632e+02  2.792e+01\n",
       "           low     2.804e+01  2.566e+02  2.750e+01\n",
       "           close   2.826e+01  2.572e+02  2.786e+01\n",
       "           volume  3.698e+07  3.403e+06  3.225e+07\n",
       "2013-02-12 open    2.767e+01  2.592e+02  2.788e+01\n",
       "           high    2.816e+01  2.602e+02  2.800e+01\n",
       "           low     2.710e+01  2.570e+02  2.775e+01\n",
       "           close   2.737e+01  2.587e+02  2.788e+01\n",
       "           volume  9.342e+07  2.939e+06  3.599e+07\n",
       "2013-02-13 open    2.736e+01  2.615e+02  2.793e+01\n",
       "           high    2.832e+01  2.700e+02  2.811e+01\n",
       "           low     2.731e+01  2.603e+02  2.788e+01\n",
       "           close   2.791e+01  2.695e+02  2.803e+01\n",
       "           volume  5.010e+07  5.293e+06  4.172e+07\n",
       "2013-02-14 open    2.802e+01  2.674e+02  2.792e+01\n",
       "           high    2.863e+01  2.706e+02  2.806e+01\n",
       "           low     2.801e+01  2.654e+02  2.787e+01\n",
       "           close   2.850e+01  2.692e+02  2.804e+01\n",
       "           volume  3.558e+07  3.463e+06  3.266e+07\n",
       "2013-02-15 open    2.852e+01  2.676e+02  2.804e+01\n",
       "           high    2.875e+01  2.689e+02  2.816e+01\n",
       "           low     2.809e+01  2.631e+02  2.788e+01\n",
       "           close   2.832e+01  2.651e+02  2.801e+01\n",
       "           volume  3.306e+07  3.980e+06  4.965e+07\n",
       "...                      ...        ...        ...\n",
       "2018-01-31 open    1.884e+02  1.451e+03  9.375e+01\n",
       "           high    1.898e+02  1.473e+03  9.540e+01\n",
       "           low     1.852e+02  1.450e+03  9.351e+01\n",
       "           close   1.869e+02  1.451e+03  9.501e+01\n",
       "           volume  4.328e+07  6.425e+06  4.876e+07\n",
       "2018-02-01 open    1.882e+02  1.445e+03  9.479e+01\n",
       "           high    1.953e+02  1.460e+03  9.607e+01\n",
       "           low     1.879e+02  1.385e+03  9.358e+01\n",
       "           close   1.931e+02  1.390e+03  9.426e+01\n",
       "           volume  5.421e+07  9.114e+06  4.723e+07\n",
       "2018-02-02 open    1.920e+02  1.477e+03  9.364e+01\n",
       "           high    1.942e+02  1.498e+03  9.397e+01\n",
       "           low     1.900e+02  1.414e+03  9.150e+01\n",
       "           close   1.903e+02  1.430e+03  9.178e+01\n",
       "           volume  2.668e+07  1.113e+07  4.787e+07\n",
       "2018-02-05 open    1.869e+02  1.403e+03  9.056e+01\n",
       "           high    1.906e+02  1.459e+03  9.324e+01\n",
       "           low     1.806e+02  1.321e+03  8.800e+01\n",
       "           close   1.813e+02  1.390e+03  8.800e+01\n",
       "           volume  3.313e+07  1.149e+07  5.103e+07\n",
       "2018-02-06 open    1.786e+02  1.361e+03  8.689e+01\n",
       "           high    1.858e+02  1.444e+03  9.147e+01\n",
       "           low     1.777e+02  1.352e+03  8.525e+01\n",
       "           close   1.853e+02  1.443e+03  9.133e+01\n",
       "           volume  3.776e+07  1.107e+07  6.800e+07\n",
       "2018-02-07 open    1.842e+02  1.449e+03  9.049e+01\n",
       "           high    1.851e+02  1.461e+03  9.177e+01\n",
       "           low     1.799e+02  1.415e+03  8.920e+01\n",
       "           close   1.802e+02  1.417e+03  8.961e+01\n",
       "           volume  2.760e+07  7.163e+06  4.111e+07\n",
       "\n",
       "[6295 rows x 3 columns]"
      ]
     },
     "execution_count": 209,
     "metadata": {},
     "output_type": "execute_result"
    }
   ],
   "source": [
    "p2 = p.to_frame()\n",
    "p2"
   ]
  },
  {
   "cell_type": "markdown",
   "metadata": {},
   "source": [
    "**Multi Index to DataFrame**"
   ]
  },
  {
   "cell_type": "code",
   "execution_count": 210,
   "metadata": {},
   "outputs": [
    {
     "name": "stderr",
     "output_type": "stream",
     "text": [
      "C:\\Users\\SAM\\Anaconda3\\lib\\site-packages\\ipykernel_launcher.py:1: FutureWarning: \n",
      "Panel is deprecated and will be removed in a future version.\n",
      "The recommended way to represent these types of 3-dimensional data are with a MultiIndex on a DataFrame, via the Panel.to_frame() method\n",
      "Alternatively, you can use the xarray package http://xarray.pydata.org/en/stable/.\n",
      "Pandas provides a `.to_xarray()` method to help automate this conversion.\n",
      "\n",
      "  \"\"\"Entry point for launching an IPython kernel.\n"
     ]
    },
    {
     "data": {
      "text/plain": [
       "<class 'pandas.core.panel.Panel'>\n",
       "Dimensions: 3 (items) x 1259 (major_axis) x 5 (minor_axis)\n",
       "Items axis: FB to MSFT\n",
       "Major_axis axis: 2013-02-08 00:00:00 to 2018-02-07 00:00:00\n",
       "Minor_axis axis: open to volume"
      ]
     },
     "execution_count": 210,
     "metadata": {},
     "output_type": "execute_result"
    }
   ],
   "source": [
    "p2.to_panel()"
   ]
  },
  {
   "cell_type": "markdown",
   "metadata": {},
   "source": [
    "### 7. .major_xs() method\n",
    "\n",
    "- Takes the major axis data to retrieve data on Items and Minor axis.\n",
    "- Returns only Items and Minor axis data. Major axis will be cut out."
   ]
  },
  {
   "cell_type": "code",
   "execution_count": 211,
   "metadata": {},
   "outputs": [
    {
     "data": {
      "text/plain": [
       "DatetimeIndex(['2013-02-08', '2013-02-11', '2013-02-12', '2013-02-13',\n",
       "               '2013-02-14', '2013-02-15', '2013-02-19', '2013-02-20',\n",
       "               '2013-02-21', '2013-02-22',\n",
       "               ...\n",
       "               '2018-01-25', '2018-01-26', '2018-01-29', '2018-01-30',\n",
       "               '2018-01-31', '2018-02-01', '2018-02-02', '2018-02-05',\n",
       "               '2018-02-06', '2018-02-07'],\n",
       "              dtype='datetime64[ns]', name='date', length=1259, freq=None)"
      ]
     },
     "execution_count": 211,
     "metadata": {},
     "output_type": "execute_result"
    }
   ],
   "source": [
    "p.major_axis"
   ]
  },
  {
   "cell_type": "markdown",
   "metadata": {},
   "source": [
    "We can see the stock prices of every item (Facebook, Amazon, Microsoft) on 8th August 2012.\n"
   ]
  },
  {
   "cell_type": "code",
   "execution_count": 212,
   "metadata": {},
   "outputs": [
    {
     "data": {
      "text/html": [
       "<div>\n",
       "<style scoped>\n",
       "    .dataframe tbody tr th:only-of-type {\n",
       "        vertical-align: middle;\n",
       "    }\n",
       "\n",
       "    .dataframe tbody tr th {\n",
       "        vertical-align: top;\n",
       "    }\n",
       "\n",
       "    .dataframe thead th {\n",
       "        text-align: right;\n",
       "    }\n",
       "</style>\n",
       "<table border=\"1\" class=\"dataframe\">\n",
       "  <thead>\n",
       "    <tr style=\"text-align: right;\">\n",
       "      <th></th>\n",
       "      <th>FB</th>\n",
       "      <th>AMZN</th>\n",
       "      <th>MSFT</th>\n",
       "    </tr>\n",
       "  </thead>\n",
       "  <tbody>\n",
       "    <tr>\n",
       "      <th>open</th>\n",
       "      <td>2.889e+01</td>\n",
       "      <td>2.614e+02</td>\n",
       "      <td>2.735e+01</td>\n",
       "    </tr>\n",
       "    <tr>\n",
       "      <th>high</th>\n",
       "      <td>2.917e+01</td>\n",
       "      <td>2.652e+02</td>\n",
       "      <td>2.771e+01</td>\n",
       "    </tr>\n",
       "    <tr>\n",
       "      <th>low</th>\n",
       "      <td>2.851e+01</td>\n",
       "      <td>2.606e+02</td>\n",
       "      <td>2.731e+01</td>\n",
       "    </tr>\n",
       "    <tr>\n",
       "      <th>close</th>\n",
       "      <td>2.855e+01</td>\n",
       "      <td>2.619e+02</td>\n",
       "      <td>2.755e+01</td>\n",
       "    </tr>\n",
       "    <tr>\n",
       "      <th>volume</th>\n",
       "      <td>3.766e+07</td>\n",
       "      <td>3.879e+06</td>\n",
       "      <td>3.332e+07</td>\n",
       "    </tr>\n",
       "  </tbody>\n",
       "</table>\n",
       "</div>"
      ],
      "text/plain": [
       "               FB       AMZN       MSFT\n",
       "open    2.889e+01  2.614e+02  2.735e+01\n",
       "high    2.917e+01  2.652e+02  2.771e+01\n",
       "low     2.851e+01  2.606e+02  2.731e+01\n",
       "close   2.855e+01  2.619e+02  2.755e+01\n",
       "volume  3.766e+07  3.879e+06  3.332e+07"
      ]
     },
     "execution_count": 212,
     "metadata": {},
     "output_type": "execute_result"
    }
   ],
   "source": [
    "p.major_xs(\"2013-02-08\")"
   ]
  },
  {
   "cell_type": "code",
   "execution_count": 213,
   "metadata": {},
   "outputs": [
    {
     "data": {
      "text/html": [
       "<div>\n",
       "<style scoped>\n",
       "    .dataframe tbody tr th:only-of-type {\n",
       "        vertical-align: middle;\n",
       "    }\n",
       "\n",
       "    .dataframe tbody tr th {\n",
       "        vertical-align: top;\n",
       "    }\n",
       "\n",
       "    .dataframe thead th {\n",
       "        text-align: right;\n",
       "    }\n",
       "</style>\n",
       "<table border=\"1\" class=\"dataframe\">\n",
       "  <thead>\n",
       "    <tr style=\"text-align: right;\">\n",
       "      <th></th>\n",
       "      <th>FB</th>\n",
       "      <th>AMZN</th>\n",
       "      <th>MSFT</th>\n",
       "    </tr>\n",
       "  </thead>\n",
       "  <tbody>\n",
       "    <tr>\n",
       "      <th>open</th>\n",
       "      <td>1.920e+02</td>\n",
       "      <td>1.477e+03</td>\n",
       "      <td>9.364e+01</td>\n",
       "    </tr>\n",
       "    <tr>\n",
       "      <th>high</th>\n",
       "      <td>1.942e+02</td>\n",
       "      <td>1.498e+03</td>\n",
       "      <td>9.397e+01</td>\n",
       "    </tr>\n",
       "    <tr>\n",
       "      <th>low</th>\n",
       "      <td>1.900e+02</td>\n",
       "      <td>1.414e+03</td>\n",
       "      <td>9.150e+01</td>\n",
       "    </tr>\n",
       "    <tr>\n",
       "      <th>close</th>\n",
       "      <td>1.903e+02</td>\n",
       "      <td>1.430e+03</td>\n",
       "      <td>9.178e+01</td>\n",
       "    </tr>\n",
       "    <tr>\n",
       "      <th>volume</th>\n",
       "      <td>2.668e+07</td>\n",
       "      <td>1.113e+07</td>\n",
       "      <td>4.787e+07</td>\n",
       "    </tr>\n",
       "  </tbody>\n",
       "</table>\n",
       "</div>"
      ],
      "text/plain": [
       "               FB       AMZN       MSFT\n",
       "open    1.920e+02  1.477e+03  9.364e+01\n",
       "high    1.942e+02  1.498e+03  9.397e+01\n",
       "low     1.900e+02  1.414e+03  9.150e+01\n",
       "close   1.903e+02  1.430e+03  9.178e+01\n",
       "volume  2.668e+07  1.113e+07  4.787e+07"
      ]
     },
     "execution_count": 213,
     "metadata": {},
     "output_type": "execute_result"
    }
   ],
   "source": [
    "p.major_xs(\"2018-02-02\")"
   ]
  },
  {
   "cell_type": "markdown",
   "metadata": {},
   "source": [
    "### 8. .minor_xs() method\n",
    "- Returns the values of Major and Items\n",
    "- Uses Minor as a key.\n",
    "- Since we removed the minor axis, we are left with a 2-dimensional data. The value is returned in DataFrame."
   ]
  },
  {
   "cell_type": "code",
   "execution_count": 214,
   "metadata": {},
   "outputs": [
    {
     "data": {
      "text/plain": [
       "Index(['open', 'high', 'low', 'close', 'volume'], dtype='object')"
      ]
     },
     "execution_count": 214,
     "metadata": {},
     "output_type": "execute_result"
    }
   ],
   "source": [
    "p.minor_axis"
   ]
  },
  {
   "cell_type": "code",
   "execution_count": 215,
   "metadata": {},
   "outputs": [
    {
     "data": {
      "text/html": [
       "<div>\n",
       "<style scoped>\n",
       "    .dataframe tbody tr th:only-of-type {\n",
       "        vertical-align: middle;\n",
       "    }\n",
       "\n",
       "    .dataframe tbody tr th {\n",
       "        vertical-align: top;\n",
       "    }\n",
       "\n",
       "    .dataframe thead th {\n",
       "        text-align: right;\n",
       "    }\n",
       "</style>\n",
       "<table border=\"1\" class=\"dataframe\">\n",
       "  <thead>\n",
       "    <tr style=\"text-align: right;\">\n",
       "      <th></th>\n",
       "      <th>FB</th>\n",
       "      <th>AMZN</th>\n",
       "      <th>MSFT</th>\n",
       "    </tr>\n",
       "    <tr>\n",
       "      <th>date</th>\n",
       "      <th></th>\n",
       "      <th></th>\n",
       "      <th></th>\n",
       "    </tr>\n",
       "  </thead>\n",
       "  <tbody>\n",
       "    <tr>\n",
       "      <th>2013-02-08</th>\n",
       "      <td>28.890</td>\n",
       "      <td>261.40</td>\n",
       "      <td>27.350</td>\n",
       "    </tr>\n",
       "    <tr>\n",
       "      <th>2013-02-11</th>\n",
       "      <td>28.610</td>\n",
       "      <td>263.20</td>\n",
       "      <td>27.650</td>\n",
       "    </tr>\n",
       "    <tr>\n",
       "      <th>2013-02-12</th>\n",
       "      <td>27.670</td>\n",
       "      <td>259.19</td>\n",
       "      <td>27.880</td>\n",
       "    </tr>\n",
       "    <tr>\n",
       "      <th>2013-02-13</th>\n",
       "      <td>27.360</td>\n",
       "      <td>261.53</td>\n",
       "      <td>27.930</td>\n",
       "    </tr>\n",
       "    <tr>\n",
       "      <th>2013-02-14</th>\n",
       "      <td>28.020</td>\n",
       "      <td>267.37</td>\n",
       "      <td>27.920</td>\n",
       "    </tr>\n",
       "    <tr>\n",
       "      <th>2013-02-15</th>\n",
       "      <td>28.520</td>\n",
       "      <td>267.63</td>\n",
       "      <td>28.040</td>\n",
       "    </tr>\n",
       "    <tr>\n",
       "      <th>2013-02-19</th>\n",
       "      <td>28.230</td>\n",
       "      <td>265.91</td>\n",
       "      <td>27.880</td>\n",
       "    </tr>\n",
       "    <tr>\n",
       "      <th>2013-02-20</th>\n",
       "      <td>28.920</td>\n",
       "      <td>270.20</td>\n",
       "      <td>28.130</td>\n",
       "    </tr>\n",
       "    <tr>\n",
       "      <th>2013-02-21</th>\n",
       "      <td>28.280</td>\n",
       "      <td>265.12</td>\n",
       "      <td>27.740</td>\n",
       "    </tr>\n",
       "    <tr>\n",
       "      <th>2013-02-22</th>\n",
       "      <td>27.620</td>\n",
       "      <td>266.62</td>\n",
       "      <td>27.680</td>\n",
       "    </tr>\n",
       "    <tr>\n",
       "      <th>2013-02-25</th>\n",
       "      <td>27.160</td>\n",
       "      <td>266.94</td>\n",
       "      <td>27.970</td>\n",
       "    </tr>\n",
       "    <tr>\n",
       "      <th>2013-02-26</th>\n",
       "      <td>27.360</td>\n",
       "      <td>260.89</td>\n",
       "      <td>27.380</td>\n",
       "    </tr>\n",
       "    <tr>\n",
       "      <th>2013-02-27</th>\n",
       "      <td>27.340</td>\n",
       "      <td>259.40</td>\n",
       "      <td>27.420</td>\n",
       "    </tr>\n",
       "    <tr>\n",
       "      <th>2013-02-28</th>\n",
       "      <td>26.840</td>\n",
       "      <td>261.81</td>\n",
       "      <td>27.880</td>\n",
       "    </tr>\n",
       "    <tr>\n",
       "      <th>2013-03-01</th>\n",
       "      <td>27.050</td>\n",
       "      <td>263.27</td>\n",
       "      <td>27.720</td>\n",
       "    </tr>\n",
       "    <tr>\n",
       "      <th>2013-03-04</th>\n",
       "      <td>27.760</td>\n",
       "      <td>265.36</td>\n",
       "      <td>27.850</td>\n",
       "    </tr>\n",
       "    <tr>\n",
       "      <th>2013-03-05</th>\n",
       "      <td>27.880</td>\n",
       "      <td>274.00</td>\n",
       "      <td>28.290</td>\n",
       "    </tr>\n",
       "    <tr>\n",
       "      <th>2013-03-06</th>\n",
       "      <td>28.100</td>\n",
       "      <td>275.76</td>\n",
       "      <td>28.210</td>\n",
       "    </tr>\n",
       "    <tr>\n",
       "      <th>2013-03-07</th>\n",
       "      <td>27.570</td>\n",
       "      <td>274.10</td>\n",
       "      <td>28.110</td>\n",
       "    </tr>\n",
       "    <tr>\n",
       "      <th>2013-03-08</th>\n",
       "      <td>28.425</td>\n",
       "      <td>275.00</td>\n",
       "      <td>28.250</td>\n",
       "    </tr>\n",
       "    <tr>\n",
       "      <th>2013-03-11</th>\n",
       "      <td>28.010</td>\n",
       "      <td>273.43</td>\n",
       "      <td>27.940</td>\n",
       "    </tr>\n",
       "    <tr>\n",
       "      <th>2013-03-12</th>\n",
       "      <td>28.100</td>\n",
       "      <td>271.00</td>\n",
       "      <td>27.840</td>\n",
       "    </tr>\n",
       "    <tr>\n",
       "      <th>2013-03-13</th>\n",
       "      <td>27.620</td>\n",
       "      <td>275.24</td>\n",
       "      <td>27.870</td>\n",
       "    </tr>\n",
       "    <tr>\n",
       "      <th>2013-03-14</th>\n",
       "      <td>27.100</td>\n",
       "      <td>269.67</td>\n",
       "      <td>28.000</td>\n",
       "    </tr>\n",
       "    <tr>\n",
       "      <th>2013-03-15</th>\n",
       "      <td>27.030</td>\n",
       "      <td>264.98</td>\n",
       "      <td>28.030</td>\n",
       "    </tr>\n",
       "    <tr>\n",
       "      <th>2013-03-18</th>\n",
       "      <td>26.370</td>\n",
       "      <td>259.30</td>\n",
       "      <td>27.880</td>\n",
       "    </tr>\n",
       "    <tr>\n",
       "      <th>2013-03-19</th>\n",
       "      <td>26.530</td>\n",
       "      <td>258.40</td>\n",
       "      <td>28.120</td>\n",
       "    </tr>\n",
       "    <tr>\n",
       "      <th>2013-03-20</th>\n",
       "      <td>26.680</td>\n",
       "      <td>258.05</td>\n",
       "      <td>28.340</td>\n",
       "    </tr>\n",
       "    <tr>\n",
       "      <th>2013-03-21</th>\n",
       "      <td>25.660</td>\n",
       "      <td>256.11</td>\n",
       "      <td>28.110</td>\n",
       "    </tr>\n",
       "    <tr>\n",
       "      <th>2013-03-22</th>\n",
       "      <td>25.796</td>\n",
       "      <td>254.55</td>\n",
       "      <td>28.190</td>\n",
       "    </tr>\n",
       "    <tr>\n",
       "      <th>...</th>\n",
       "      <td>...</td>\n",
       "      <td>...</td>\n",
       "      <td>...</td>\n",
       "    </tr>\n",
       "    <tr>\n",
       "      <th>2017-12-26</th>\n",
       "      <td>176.630</td>\n",
       "      <td>1168.36</td>\n",
       "      <td>85.310</td>\n",
       "    </tr>\n",
       "    <tr>\n",
       "      <th>2017-12-27</th>\n",
       "      <td>176.550</td>\n",
       "      <td>1179.91</td>\n",
       "      <td>85.650</td>\n",
       "    </tr>\n",
       "    <tr>\n",
       "      <th>2017-12-28</th>\n",
       "      <td>177.950</td>\n",
       "      <td>1189.00</td>\n",
       "      <td>85.900</td>\n",
       "    </tr>\n",
       "    <tr>\n",
       "      <th>2017-12-29</th>\n",
       "      <td>178.000</td>\n",
       "      <td>1182.35</td>\n",
       "      <td>85.630</td>\n",
       "    </tr>\n",
       "    <tr>\n",
       "      <th>2018-01-02</th>\n",
       "      <td>177.680</td>\n",
       "      <td>1172.00</td>\n",
       "      <td>86.125</td>\n",
       "    </tr>\n",
       "    <tr>\n",
       "      <th>2018-01-03</th>\n",
       "      <td>181.880</td>\n",
       "      <td>1188.30</td>\n",
       "      <td>86.055</td>\n",
       "    </tr>\n",
       "    <tr>\n",
       "      <th>2018-01-04</th>\n",
       "      <td>184.900</td>\n",
       "      <td>1205.00</td>\n",
       "      <td>86.590</td>\n",
       "    </tr>\n",
       "    <tr>\n",
       "      <th>2018-01-05</th>\n",
       "      <td>185.590</td>\n",
       "      <td>1217.51</td>\n",
       "      <td>87.660</td>\n",
       "    </tr>\n",
       "    <tr>\n",
       "      <th>2018-01-08</th>\n",
       "      <td>187.200</td>\n",
       "      <td>1236.00</td>\n",
       "      <td>88.200</td>\n",
       "    </tr>\n",
       "    <tr>\n",
       "      <th>2018-01-09</th>\n",
       "      <td>188.700</td>\n",
       "      <td>1256.90</td>\n",
       "      <td>88.650</td>\n",
       "    </tr>\n",
       "    <tr>\n",
       "      <th>2018-01-10</th>\n",
       "      <td>186.940</td>\n",
       "      <td>1245.15</td>\n",
       "      <td>87.860</td>\n",
       "    </tr>\n",
       "    <tr>\n",
       "      <th>2018-01-11</th>\n",
       "      <td>188.400</td>\n",
       "      <td>1259.74</td>\n",
       "      <td>88.130</td>\n",
       "    </tr>\n",
       "    <tr>\n",
       "      <th>2018-01-12</th>\n",
       "      <td>178.060</td>\n",
       "      <td>1273.39</td>\n",
       "      <td>88.670</td>\n",
       "    </tr>\n",
       "    <tr>\n",
       "      <th>2018-01-16</th>\n",
       "      <td>181.500</td>\n",
       "      <td>1323.00</td>\n",
       "      <td>90.100</td>\n",
       "    </tr>\n",
       "    <tr>\n",
       "      <th>2018-01-17</th>\n",
       "      <td>179.260</td>\n",
       "      <td>1312.24</td>\n",
       "      <td>89.080</td>\n",
       "    </tr>\n",
       "    <tr>\n",
       "      <th>2018-01-18</th>\n",
       "      <td>178.130</td>\n",
       "      <td>1293.95</td>\n",
       "      <td>89.800</td>\n",
       "    </tr>\n",
       "    <tr>\n",
       "      <th>2018-01-19</th>\n",
       "      <td>180.850</td>\n",
       "      <td>1312.00</td>\n",
       "      <td>90.140</td>\n",
       "    </tr>\n",
       "    <tr>\n",
       "      <th>2018-01-22</th>\n",
       "      <td>180.800</td>\n",
       "      <td>1297.17</td>\n",
       "      <td>90.000</td>\n",
       "    </tr>\n",
       "    <tr>\n",
       "      <th>2018-01-23</th>\n",
       "      <td>186.050</td>\n",
       "      <td>1338.09</td>\n",
       "      <td>91.900</td>\n",
       "    </tr>\n",
       "    <tr>\n",
       "      <th>2018-01-24</th>\n",
       "      <td>189.890</td>\n",
       "      <td>1374.82</td>\n",
       "      <td>92.550</td>\n",
       "    </tr>\n",
       "    <tr>\n",
       "      <th>2018-01-25</th>\n",
       "      <td>187.950</td>\n",
       "      <td>1368.00</td>\n",
       "      <td>92.465</td>\n",
       "    </tr>\n",
       "    <tr>\n",
       "      <th>2018-01-26</th>\n",
       "      <td>187.750</td>\n",
       "      <td>1392.01</td>\n",
       "      <td>93.120</td>\n",
       "    </tr>\n",
       "    <tr>\n",
       "      <th>2018-01-29</th>\n",
       "      <td>188.750</td>\n",
       "      <td>1409.18</td>\n",
       "      <td>95.140</td>\n",
       "    </tr>\n",
       "    <tr>\n",
       "      <th>2018-01-30</th>\n",
       "      <td>183.010</td>\n",
       "      <td>1403.17</td>\n",
       "      <td>93.300</td>\n",
       "    </tr>\n",
       "    <tr>\n",
       "      <th>2018-01-31</th>\n",
       "      <td>188.370</td>\n",
       "      <td>1451.30</td>\n",
       "      <td>93.750</td>\n",
       "    </tr>\n",
       "    <tr>\n",
       "      <th>2018-02-01</th>\n",
       "      <td>188.220</td>\n",
       "      <td>1445.00</td>\n",
       "      <td>94.790</td>\n",
       "    </tr>\n",
       "    <tr>\n",
       "      <th>2018-02-02</th>\n",
       "      <td>192.040</td>\n",
       "      <td>1477.39</td>\n",
       "      <td>93.640</td>\n",
       "    </tr>\n",
       "    <tr>\n",
       "      <th>2018-02-05</th>\n",
       "      <td>186.930</td>\n",
       "      <td>1402.62</td>\n",
       "      <td>90.560</td>\n",
       "    </tr>\n",
       "    <tr>\n",
       "      <th>2018-02-06</th>\n",
       "      <td>178.570</td>\n",
       "      <td>1361.46</td>\n",
       "      <td>86.890</td>\n",
       "    </tr>\n",
       "    <tr>\n",
       "      <th>2018-02-07</th>\n",
       "      <td>184.150</td>\n",
       "      <td>1449.00</td>\n",
       "      <td>90.490</td>\n",
       "    </tr>\n",
       "  </tbody>\n",
       "</table>\n",
       "<p>1259 rows × 3 columns</p>\n",
       "</div>"
      ],
      "text/plain": [
       "                 FB     AMZN    MSFT\n",
       "date                                \n",
       "2013-02-08   28.890   261.40  27.350\n",
       "2013-02-11   28.610   263.20  27.650\n",
       "2013-02-12   27.670   259.19  27.880\n",
       "2013-02-13   27.360   261.53  27.930\n",
       "2013-02-14   28.020   267.37  27.920\n",
       "2013-02-15   28.520   267.63  28.040\n",
       "2013-02-19   28.230   265.91  27.880\n",
       "2013-02-20   28.920   270.20  28.130\n",
       "2013-02-21   28.280   265.12  27.740\n",
       "2013-02-22   27.620   266.62  27.680\n",
       "2013-02-25   27.160   266.94  27.970\n",
       "2013-02-26   27.360   260.89  27.380\n",
       "2013-02-27   27.340   259.40  27.420\n",
       "2013-02-28   26.840   261.81  27.880\n",
       "2013-03-01   27.050   263.27  27.720\n",
       "2013-03-04   27.760   265.36  27.850\n",
       "2013-03-05   27.880   274.00  28.290\n",
       "2013-03-06   28.100   275.76  28.210\n",
       "2013-03-07   27.570   274.10  28.110\n",
       "2013-03-08   28.425   275.00  28.250\n",
       "2013-03-11   28.010   273.43  27.940\n",
       "2013-03-12   28.100   271.00  27.840\n",
       "2013-03-13   27.620   275.24  27.870\n",
       "2013-03-14   27.100   269.67  28.000\n",
       "2013-03-15   27.030   264.98  28.030\n",
       "2013-03-18   26.370   259.30  27.880\n",
       "2013-03-19   26.530   258.40  28.120\n",
       "2013-03-20   26.680   258.05  28.340\n",
       "2013-03-21   25.660   256.11  28.110\n",
       "2013-03-22   25.796   254.55  28.190\n",
       "...             ...      ...     ...\n",
       "2017-12-26  176.630  1168.36  85.310\n",
       "2017-12-27  176.550  1179.91  85.650\n",
       "2017-12-28  177.950  1189.00  85.900\n",
       "2017-12-29  178.000  1182.35  85.630\n",
       "2018-01-02  177.680  1172.00  86.125\n",
       "2018-01-03  181.880  1188.30  86.055\n",
       "2018-01-04  184.900  1205.00  86.590\n",
       "2018-01-05  185.590  1217.51  87.660\n",
       "2018-01-08  187.200  1236.00  88.200\n",
       "2018-01-09  188.700  1256.90  88.650\n",
       "2018-01-10  186.940  1245.15  87.860\n",
       "2018-01-11  188.400  1259.74  88.130\n",
       "2018-01-12  178.060  1273.39  88.670\n",
       "2018-01-16  181.500  1323.00  90.100\n",
       "2018-01-17  179.260  1312.24  89.080\n",
       "2018-01-18  178.130  1293.95  89.800\n",
       "2018-01-19  180.850  1312.00  90.140\n",
       "2018-01-22  180.800  1297.17  90.000\n",
       "2018-01-23  186.050  1338.09  91.900\n",
       "2018-01-24  189.890  1374.82  92.550\n",
       "2018-01-25  187.950  1368.00  92.465\n",
       "2018-01-26  187.750  1392.01  93.120\n",
       "2018-01-29  188.750  1409.18  95.140\n",
       "2018-01-30  183.010  1403.17  93.300\n",
       "2018-01-31  188.370  1451.30  93.750\n",
       "2018-02-01  188.220  1445.00  94.790\n",
       "2018-02-02  192.040  1477.39  93.640\n",
       "2018-02-05  186.930  1402.62  90.560\n",
       "2018-02-06  178.570  1361.46  86.890\n",
       "2018-02-07  184.150  1449.00  90.490\n",
       "\n",
       "[1259 rows x 3 columns]"
      ]
     },
     "execution_count": 215,
     "metadata": {},
     "output_type": "execute_result"
    }
   ],
   "source": [
    "p.minor_xs(\"open\")"
   ]
  },
  {
   "cell_type": "markdown",
   "metadata": {},
   "source": [
    "### 9. .tranpose() method\n",
    "\n",
    "We can swap the structure of the panel according to our needs. For example, swapping Items axis with Minor axis.\n",
    "\n",
    "Lets look at our **current axis index **\n",
    "\n",
    "- 0 - Items  axis\n",
    "- 1 - Major axis\n",
    "- 2 - Minor axis"
   ]
  },
  {
   "cell_type": "code",
   "execution_count": 216,
   "metadata": {},
   "outputs": [
    {
     "data": {
      "text/plain": [
       "<class 'pandas.core.panel.Panel'>\n",
       "Dimensions: 3 (items) x 1259 (major_axis) x 5 (minor_axis)\n",
       "Items axis: FB to MSFT\n",
       "Major_axis axis: 2013-02-08 00:00:00 to 2018-02-07 00:00:00\n",
       "Minor_axis axis: open to volume"
      ]
     },
     "execution_count": 216,
     "metadata": {},
     "output_type": "execute_result"
    }
   ],
   "source": [
    "p"
   ]
  },
  {
   "cell_type": "markdown",
   "metadata": {},
   "source": [
    "The new structure of Panel that we want is:\n",
    "- Item axis: open to volume\n",
    "- Major axis: date\n",
    "- Minor axis: company names ( FB to MSFT )"
   ]
  },
  {
   "cell_type": "code",
   "execution_count": 217,
   "metadata": {},
   "outputs": [
    {
     "name": "stderr",
     "output_type": "stream",
     "text": [
      "C:\\Users\\SAM\\Anaconda3\\lib\\site-packages\\pandas\\core\\panel.py:1255: FutureWarning: \n",
      "Panel is deprecated and will be removed in a future version.\n",
      "The recommended way to represent these types of 3-dimensional data are with a MultiIndex on a DataFrame, via the Panel.to_frame() method\n",
      "Alternatively, you can use the xarray package http://xarray.pydata.org/en/stable/.\n",
      "Pandas provides a `.to_xarray()` method to help automate this conversion.\n",
      "\n",
      "  return super(Panel, self).transpose(*axes, **kwargs)\n"
     ]
    },
    {
     "data": {
      "text/plain": [
       "<class 'pandas.core.panel.Panel'>\n",
       "Dimensions: 5 (items) x 1259 (major_axis) x 3 (minor_axis)\n",
       "Items axis: open to volume\n",
       "Major_axis axis: 2013-02-08 00:00:00 to 2018-02-07 00:00:00\n",
       "Minor_axis axis: FB to MSFT"
      ]
     },
     "execution_count": 217,
     "metadata": {},
     "output_type": "execute_result"
    }
   ],
   "source": [
    "newPanel = p.transpose(2,1,0)\n",
    "newPanel"
   ]
  },
  {
   "cell_type": "code",
   "execution_count": 218,
   "metadata": {},
   "outputs": [
    {
     "data": {
      "text/html": [
       "<div>\n",
       "<style scoped>\n",
       "    .dataframe tbody tr th:only-of-type {\n",
       "        vertical-align: middle;\n",
       "    }\n",
       "\n",
       "    .dataframe tbody tr th {\n",
       "        vertical-align: top;\n",
       "    }\n",
       "\n",
       "    .dataframe thead th {\n",
       "        text-align: right;\n",
       "    }\n",
       "</style>\n",
       "<table border=\"1\" class=\"dataframe\">\n",
       "  <thead>\n",
       "    <tr style=\"text-align: right;\">\n",
       "      <th></th>\n",
       "      <th>FB</th>\n",
       "      <th>AMZN</th>\n",
       "      <th>MSFT</th>\n",
       "    </tr>\n",
       "    <tr>\n",
       "      <th>date</th>\n",
       "      <th></th>\n",
       "      <th></th>\n",
       "      <th></th>\n",
       "    </tr>\n",
       "  </thead>\n",
       "  <tbody>\n",
       "    <tr>\n",
       "      <th>2013-02-08</th>\n",
       "      <td>28.89</td>\n",
       "      <td>261.40</td>\n",
       "      <td>27.35</td>\n",
       "    </tr>\n",
       "    <tr>\n",
       "      <th>2013-02-11</th>\n",
       "      <td>28.61</td>\n",
       "      <td>263.20</td>\n",
       "      <td>27.65</td>\n",
       "    </tr>\n",
       "    <tr>\n",
       "      <th>2013-02-12</th>\n",
       "      <td>27.67</td>\n",
       "      <td>259.19</td>\n",
       "      <td>27.88</td>\n",
       "    </tr>\n",
       "    <tr>\n",
       "      <th>2013-02-13</th>\n",
       "      <td>27.36</td>\n",
       "      <td>261.53</td>\n",
       "      <td>27.93</td>\n",
       "    </tr>\n",
       "    <tr>\n",
       "      <th>2013-02-14</th>\n",
       "      <td>28.02</td>\n",
       "      <td>267.37</td>\n",
       "      <td>27.92</td>\n",
       "    </tr>\n",
       "  </tbody>\n",
       "</table>\n",
       "</div>"
      ],
      "text/plain": [
       "               FB    AMZN   MSFT\n",
       "date                            \n",
       "2013-02-08  28.89  261.40  27.35\n",
       "2013-02-11  28.61  263.20  27.65\n",
       "2013-02-12  27.67  259.19  27.88\n",
       "2013-02-13  27.36  261.53  27.93\n",
       "2013-02-14  28.02  267.37  27.92"
      ]
     },
     "execution_count": 218,
     "metadata": {},
     "output_type": "execute_result"
    }
   ],
   "source": [
    "newPanel[\"open\"].head()"
   ]
  },
  {
   "cell_type": "code",
   "execution_count": 219,
   "metadata": {},
   "outputs": [
    {
     "data": {
      "text/html": [
       "<div>\n",
       "<style scoped>\n",
       "    .dataframe tbody tr th:only-of-type {\n",
       "        vertical-align: middle;\n",
       "    }\n",
       "\n",
       "    .dataframe tbody tr th {\n",
       "        vertical-align: top;\n",
       "    }\n",
       "\n",
       "    .dataframe thead th {\n",
       "        text-align: right;\n",
       "    }\n",
       "</style>\n",
       "<table border=\"1\" class=\"dataframe\">\n",
       "  <thead>\n",
       "    <tr style=\"text-align: right;\">\n",
       "      <th></th>\n",
       "      <th>open</th>\n",
       "      <th>high</th>\n",
       "      <th>low</th>\n",
       "      <th>close</th>\n",
       "      <th>volume</th>\n",
       "    </tr>\n",
       "  </thead>\n",
       "  <tbody>\n",
       "    <tr>\n",
       "      <th>FB</th>\n",
       "      <td>28.89</td>\n",
       "      <td>29.17</td>\n",
       "      <td>28.510</td>\n",
       "      <td>28.545</td>\n",
       "      <td>3.766e+07</td>\n",
       "    </tr>\n",
       "    <tr>\n",
       "      <th>AMZN</th>\n",
       "      <td>261.40</td>\n",
       "      <td>265.25</td>\n",
       "      <td>260.555</td>\n",
       "      <td>261.950</td>\n",
       "      <td>3.879e+06</td>\n",
       "    </tr>\n",
       "    <tr>\n",
       "      <th>MSFT</th>\n",
       "      <td>27.35</td>\n",
       "      <td>27.71</td>\n",
       "      <td>27.310</td>\n",
       "      <td>27.550</td>\n",
       "      <td>3.332e+07</td>\n",
       "    </tr>\n",
       "  </tbody>\n",
       "</table>\n",
       "</div>"
      ],
      "text/plain": [
       "        open    high      low    close     volume\n",
       "FB     28.89   29.17   28.510   28.545  3.766e+07\n",
       "AMZN  261.40  265.25  260.555  261.950  3.879e+06\n",
       "MSFT   27.35   27.71   27.310   27.550  3.332e+07"
      ]
     },
     "execution_count": 219,
     "metadata": {},
     "output_type": "execute_result"
    }
   ],
   "source": [
    "newPanel.major_xs(\"2013-02-08\")"
   ]
  },
  {
   "cell_type": "markdown",
   "metadata": {},
   "source": [
    "### 10. .swapaxes() method\n",
    "\n",
    "In the transpose() method, we have to understand the index location of our axis. The swapaxes() method is a lot simpler. We can specify the 2 axes we want to swap."
   ]
  },
  {
   "cell_type": "code",
   "execution_count": 220,
   "metadata": {},
   "outputs": [
    {
     "data": {
      "text/plain": [
       "<class 'pandas.core.panel.Panel'>\n",
       "Dimensions: 3 (items) x 1259 (major_axis) x 5 (minor_axis)\n",
       "Items axis: FB to MSFT\n",
       "Major_axis axis: 2013-02-08 00:00:00 to 2018-02-07 00:00:00\n",
       "Minor_axis axis: open to volume"
      ]
     },
     "execution_count": 220,
     "metadata": {},
     "output_type": "execute_result"
    }
   ],
   "source": [
    "p"
   ]
  },
  {
   "cell_type": "markdown",
   "metadata": {},
   "source": [
    "We can get the same output as the transpose() method."
   ]
  },
  {
   "cell_type": "code",
   "execution_count": 221,
   "metadata": {},
   "outputs": [
    {
     "name": "stderr",
     "output_type": "stream",
     "text": [
      "C:\\Users\\SAM\\Anaconda3\\lib\\site-packages\\ipykernel_launcher.py:1: FutureWarning: \n",
      "Panel is deprecated and will be removed in a future version.\n",
      "The recommended way to represent these types of 3-dimensional data are with a MultiIndex on a DataFrame, via the Panel.to_frame() method\n",
      "Alternatively, you can use the xarray package http://xarray.pydata.org/en/stable/.\n",
      "Pandas provides a `.to_xarray()` method to help automate this conversion.\n",
      "\n",
      "  \"\"\"Entry point for launching an IPython kernel.\n"
     ]
    },
    {
     "data": {
      "text/plain": [
       "<class 'pandas.core.panel.Panel'>\n",
       "Dimensions: 5 (items) x 1259 (major_axis) x 3 (minor_axis)\n",
       "Items axis: open to volume\n",
       "Major_axis axis: 2013-02-08 00:00:00 to 2018-02-07 00:00:00\n",
       "Minor_axis axis: FB to MSFT"
      ]
     },
     "execution_count": 221,
     "metadata": {},
     "output_type": "execute_result"
    }
   ],
   "source": [
    "p.swapaxes(\"items\", \"minor\")"
   ]
  },
  {
   "cell_type": "code",
   "execution_count": null,
   "metadata": {
    "collapsed": true
   },
   "outputs": [],
   "source": []
  }
 ],
 "metadata": {
  "kernelspec": {
   "display_name": "Python 3",
   "language": "python",
   "name": "python3"
  },
  "language_info": {
   "codemirror_mode": {
    "name": "ipython",
    "version": 3
   },
   "file_extension": ".py",
   "mimetype": "text/x-python",
   "name": "python",
   "nbconvert_exporter": "python",
   "pygments_lexer": "ipython3",
   "version": "3.6.2"
  }
 },
 "nbformat": 4,
 "nbformat_minor": 2
}
