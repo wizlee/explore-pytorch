{
 "cells": [
  {
   "cell_type": "markdown",
   "metadata": {},
   "source": [
    "# Module 8: Working with Dates and Times Module\n",
    "\n",
    "Working with datetime type enables us to extract a lot of information. For example, the quarters of a year (Q1,Q2,Q3,Q4)\n",
    "\n",
    "But first, let's explore on Python built-in date and time."
   ]
  },
  {
   "cell_type": "code",
   "execution_count": 1,
   "metadata": {},
   "outputs": [],
   "source": [
    "import pandas as pd\n",
    "import datetime as dt"
   ]
  },
  {
   "cell_type": "markdown",
   "metadata": {},
   "source": [
    "Datetime is a built-in module.\n",
    "This module is not imported automatically for every python file to conserve/save memory.\n",
    "Hence, we need to import the module when we want to use it.\n",
    "Datetime module has unique object, attributes, and method. We will learn the basics of Python Datetime before we learn Pandas Datetime format.\n"
   ]
  },
  {
   "cell_type": "markdown",
   "metadata": {},
   "source": [
    "### 1. Review of Python's datetime Module\n",
    "- An internal library that Python loads on demand. This is to conserve memory.\n",
    "- Date() method creates an object to store a date. It can be year, month, day and etc.\n",
    "\n",
    "**date() method**\n",
    "\n",
    "Let's create a datetime object. The arguments are in order of year, month, and day.\n",
    "\n",
    "*Hint : Shift + Tab to read about the method*\n"
   ]
  },
  {
   "cell_type": "code",
   "execution_count": 2,
   "metadata": {},
   "outputs": [
    {
     "data": {
      "text/plain": [
       "datetime.date(2016, 4, 12)"
      ]
     },
     "execution_count": 2,
     "metadata": {},
     "output_type": "execute_result"
    }
   ],
   "source": [
    "someday = dt.date(2016,4,12)\n",
    "someday"
   ]
  },
  {
   "cell_type": "markdown",
   "metadata": {},
   "source": [
    "We can directly call the following attributes from the object."
   ]
  },
  {
   "cell_type": "code",
   "execution_count": 3,
   "metadata": {},
   "outputs": [
    {
     "data": {
      "text/plain": [
       "(12, 4, 2016)"
      ]
     },
     "execution_count": 3,
     "metadata": {},
     "output_type": "execute_result"
    }
   ],
   "source": [
    "someday.day , someday.month , someday.year"
   ]
  },
  {
   "cell_type": "markdown",
   "metadata": {},
   "source": [
    "**datetime() method**\n",
    "\n",
    "It is the same as date() method but with additional time parameter. The default values for the time ( hours and seconds ) are ( 0000h ) which is midnight."
   ]
  },
  {
   "cell_type": "code",
   "execution_count": 4,
   "metadata": {},
   "outputs": [
    {
     "data": {
      "text/plain": [
       "datetime.datetime(2016, 4, 12, 0, 0)"
      ]
     },
     "execution_count": 4,
     "metadata": {},
     "output_type": "execute_result"
    }
   ],
   "source": [
    "dt.datetime(2016,4,12)"
   ]
  },
  {
   "cell_type": "code",
   "execution_count": 5,
   "metadata": {},
   "outputs": [
    {
     "data": {
      "text/plain": [
       "datetime.datetime(2016, 4, 12, 8, 15)"
      ]
     },
     "execution_count": 5,
     "metadata": {},
     "output_type": "execute_result"
    }
   ],
   "source": [
    "sometime = dt.datetime(2016,4,12, 8, 15)\n",
    "sometime"
   ]
  },
  {
   "cell_type": "markdown",
   "metadata": {},
   "source": [
    "Casting or changing the datetime object to string will give a readable date format."
   ]
  },
  {
   "cell_type": "code",
   "execution_count": 6,
   "metadata": {},
   "outputs": [
    {
     "data": {
      "text/plain": [
       "'2016-04-12'"
      ]
     },
     "execution_count": 6,
     "metadata": {},
     "output_type": "execute_result"
    }
   ],
   "source": [
    "str(someday)"
   ]
  },
  {
   "cell_type": "markdown",
   "metadata": {},
   "source": [
    "### 2. Pandas Timestamp Object\n",
    "- Pandas version of Datetime\n",
    "- If the user does not provide the specific time, the default values will be midnight ( 0000H )\n",
    "- Pandas Datetime or Timestamp can do more analysis than Python Datetime module.\n",
    "\n",
    "\n",
    "**pd.Timestamp()**\n",
    "- argument can be Pandas Series or string.\n",
    "- For string argument, Pandas can recognize separator which are either dash ( - ) , comma ( , ) or slash ( / )\n"
   ]
  },
  {
   "cell_type": "code",
   "execution_count": 7,
   "metadata": {},
   "outputs": [
    {
     "data": {
      "text/plain": [
       "Timestamp('2016-04-12 00:00:00')"
      ]
     },
     "execution_count": 7,
     "metadata": {},
     "output_type": "execute_result"
    }
   ],
   "source": [
    "pd.Timestamp(\"2016-4-12\")"
   ]
  },
  {
   "cell_type": "code",
   "execution_count": 8,
   "metadata": {},
   "outputs": [
    {
     "data": {
      "text/plain": [
       "Timestamp('2016-04-12 00:00:00')"
      ]
     },
     "execution_count": 8,
     "metadata": {},
     "output_type": "execute_result"
    }
   ],
   "source": [
    "pd.Timestamp(\"4.12.2016\")"
   ]
  },
  {
   "cell_type": "code",
   "execution_count": 9,
   "metadata": {},
   "outputs": [
    {
     "data": {
      "text/plain": [
       "Timestamp('2016-04-12 12:12:00')"
      ]
     },
     "execution_count": 9,
     "metadata": {},
     "output_type": "execute_result"
    }
   ],
   "source": [
    "pd.Timestamp(\"2016/4/12 12:12\")"
   ]
  },
  {
   "cell_type": "markdown",
   "metadata": {},
   "source": [
    "Pandas Datetime can also read Python Datetime objects."
   ]
  },
  {
   "cell_type": "code",
   "execution_count": 10,
   "metadata": {},
   "outputs": [
    {
     "data": {
      "text/plain": [
       "datetime.date(2016, 4, 12)"
      ]
     },
     "execution_count": 10,
     "metadata": {},
     "output_type": "execute_result"
    }
   ],
   "source": [
    "someday"
   ]
  },
  {
   "cell_type": "code",
   "execution_count": 11,
   "metadata": {},
   "outputs": [
    {
     "data": {
      "text/plain": [
       "Timestamp('2016-04-12 00:00:00')"
      ]
     },
     "execution_count": 11,
     "metadata": {},
     "output_type": "execute_result"
    }
   ],
   "source": [
    "pd.Timestamp(someday)"
   ]
  },
  {
   "cell_type": "markdown",
   "metadata": {},
   "source": [
    "### 3. The Pandas DateTimeIndex Object\n",
    "\n",
    "- create dateTimeIndex object using DateTimeIndex() method\n",
    "- Change string type into datetime data type"
   ]
  },
  {
   "cell_type": "code",
   "execution_count": 12,
   "metadata": {},
   "outputs": [],
   "source": [
    "dates = [\"2015-10-5\", \"2016-5-10\", \"2019-1-20\"]"
   ]
  },
  {
   "cell_type": "code",
   "execution_count": 13,
   "metadata": {},
   "outputs": [
    {
     "data": {
      "text/plain": [
       "DatetimeIndex(['2015-10-05', '2016-05-10', '2019-01-20'], dtype='datetime64[ns]', freq=None)"
      ]
     },
     "execution_count": 13,
     "metadata": {},
     "output_type": "execute_result"
    }
   ],
   "source": [
    "dtIndex = pd.DatetimeIndex(dates)\n",
    "dtIndex"
   ]
  },
  {
   "cell_type": "markdown",
   "metadata": {},
   "source": [
    "We can also pass the Python Date/Datetime object to Pandas Datetime format."
   ]
  },
  {
   "cell_type": "code",
   "execution_count": 14,
   "metadata": {},
   "outputs": [
    {
     "data": {
      "text/plain": [
       "DatetimeIndex(['2015-10-05', '2016-05-10', '2019-01-20'], dtype='datetime64[ns]', freq=None)"
      ]
     },
     "execution_count": 14,
     "metadata": {},
     "output_type": "execute_result"
    }
   ],
   "source": [
    "dates2 = [dt.date(2015,10,5), dt.date(2016,5,10), dt.date(2019,1,20)]\n",
    "pd.DatetimeIndex(dates2)"
   ]
  },
  {
   "cell_type": "markdown",
   "metadata": {},
   "source": [
    "Let's create a Pandas Series with Datetime as index."
   ]
  },
  {
   "cell_type": "code",
   "execution_count": 15,
   "metadata": {},
   "outputs": [
    {
     "data": {
      "text/plain": [
       "2015-10-05    100\n",
       "2016-05-10    200\n",
       "2019-01-20    300\n",
       "dtype: int64"
      ]
     },
     "execution_count": 15,
     "metadata": {},
     "output_type": "execute_result"
    }
   ],
   "source": [
    "values = [100,200,300]\n",
    "pd.Series(values, dtIndex)"
   ]
  },
  {
   "cell_type": "markdown",
   "metadata": {},
   "source": [
    "### 4. pd.to_datetime() method\n",
    "- Converts existing data object into Pandas Datetime object.\n",
    "- to_datetime() can convert strings, Python Date object and Pandas Series."
   ]
  },
  {
   "cell_type": "code",
   "execution_count": 16,
   "metadata": {},
   "outputs": [
    {
     "data": {
      "text/plain": [
       "Timestamp('2016-05-10 00:00:00')"
      ]
     },
     "execution_count": 16,
     "metadata": {},
     "output_type": "execute_result"
    }
   ],
   "source": [
    "pd.to_datetime(\"2016-5-10\")"
   ]
  },
  {
   "cell_type": "code",
   "execution_count": 17,
   "metadata": {},
   "outputs": [
    {
     "data": {
      "text/plain": [
       "Timestamp('2015-10-05 00:00:00')"
      ]
     },
     "execution_count": 17,
     "metadata": {},
     "output_type": "execute_result"
    }
   ],
   "source": [
    "pd.to_datetime(dt.date(2015,10,5))"
   ]
  },
  {
   "cell_type": "code",
   "execution_count": 18,
   "metadata": {},
   "outputs": [
    {
     "data": {
      "text/plain": [
       "DatetimeIndex(['2016-05-10', '2019-01-20', '1998-07-12'], dtype='datetime64[ns]', freq=None)"
      ]
     },
     "execution_count": 18,
     "metadata": {},
     "output_type": "execute_result"
    }
   ],
   "source": [
    "pd.to_datetime([\"2016-5-10\", \"2019-1-20\", \"July 12th 1998\"])\n"
   ]
  },
  {
   "cell_type": "markdown",
   "metadata": {},
   "source": [
    "**Convert Pandas Series into Pandas Datetime object**"
   ]
  },
  {
   "cell_type": "code",
   "execution_count": 19,
   "metadata": {},
   "outputs": [
    {
     "data": {
      "text/plain": [
       "0         2019-1-20\n",
       "1    July 12th 1998\n",
       "2              2016\n",
       "dtype: object"
      ]
     },
     "execution_count": 19,
     "metadata": {},
     "output_type": "execute_result"
    }
   ],
   "source": [
    "s = pd.Series([\"2019-1-20\", \"July 12th 1998\", \"2016\"])\n",
    "s"
   ]
  },
  {
   "cell_type": "code",
   "execution_count": 20,
   "metadata": {},
   "outputs": [
    {
     "data": {
      "text/plain": [
       "0   2019-01-20\n",
       "1   1998-07-12\n",
       "2   2016-01-01\n",
       "dtype: datetime64[ns]"
      ]
     },
     "execution_count": 20,
     "metadata": {},
     "output_type": "execute_result"
    }
   ],
   "source": [
    "pd.to_datetime(s)"
   ]
  },
  {
   "cell_type": "markdown",
   "metadata": {},
   "source": [
    "**If we pass wrong format string to the method, it will prompt error**. \n",
    "\n",
    "However, we can fix the error by replacing it with NaT data, which means missing data. This can be done using the errors parameter by setting it to \"coerce\"."
   ]
  },
  {
   "cell_type": "code",
   "execution_count": 21,
   "metadata": {},
   "outputs": [],
   "source": [
    "s = pd.Series([\"2019-1-20\", \"July 12th 1998\", \"2016\", \"Hello World\"])"
   ]
  },
  {
   "cell_type": "code",
   "execution_count": 22,
   "metadata": {},
   "outputs": [
    {
     "ename": "ValueError",
     "evalue": "('Unknown string format:', 'Hello World')",
     "output_type": "error",
     "traceback": [
      "\u001b[1;31m---------------------------------------------------------------------------\u001b[0m",
      "\u001b[1;31mTypeError\u001b[0m                                 Traceback (most recent call last)",
      "\u001b[1;32m~\\Anaconda3\\lib\\site-packages\\pandas\\core\\arrays\\datetimes.py\u001b[0m in \u001b[0;36mobjects_to_datetime64ns\u001b[1;34m(data, dayfirst, yearfirst, utc, errors, require_iso8601, allow_object)\u001b[0m\n\u001b[0;32m   1978\u001b[0m         \u001b[1;32mtry\u001b[0m\u001b[1;33m:\u001b[0m\u001b[1;33m\u001b[0m\u001b[1;33m\u001b[0m\u001b[0m\n\u001b[1;32m-> 1979\u001b[1;33m             \u001b[0mvalues\u001b[0m\u001b[1;33m,\u001b[0m \u001b[0mtz_parsed\u001b[0m \u001b[1;33m=\u001b[0m \u001b[0mconversion\u001b[0m\u001b[1;33m.\u001b[0m\u001b[0mdatetime_to_datetime64\u001b[0m\u001b[1;33m(\u001b[0m\u001b[0mdata\u001b[0m\u001b[1;33m)\u001b[0m\u001b[1;33m\u001b[0m\u001b[1;33m\u001b[0m\u001b[0m\n\u001b[0m\u001b[0;32m   1980\u001b[0m             \u001b[1;31m# If tzaware, these values represent unix timestamps, so we\u001b[0m\u001b[1;33m\u001b[0m\u001b[1;33m\u001b[0m\u001b[1;33m\u001b[0m\u001b[0m\n",
      "\u001b[1;32mpandas\\_libs\\tslibs\\conversion.pyx\u001b[0m in \u001b[0;36mpandas._libs.tslibs.conversion.datetime_to_datetime64\u001b[1;34m()\u001b[0m\n",
      "\u001b[1;31mTypeError\u001b[0m: Unrecognized value type: <class 'str'>",
      "\nDuring handling of the above exception, another exception occurred:\n",
      "\u001b[1;31mValueError\u001b[0m                                Traceback (most recent call last)",
      "\u001b[1;32m<ipython-input-22-db78efd4cda4>\u001b[0m in \u001b[0;36m<module>\u001b[1;34m\u001b[0m\n\u001b[1;32m----> 1\u001b[1;33m \u001b[0mpd\u001b[0m\u001b[1;33m.\u001b[0m\u001b[0mto_datetime\u001b[0m\u001b[1;33m(\u001b[0m\u001b[0ms\u001b[0m\u001b[1;33m)\u001b[0m\u001b[1;33m\u001b[0m\u001b[1;33m\u001b[0m\u001b[0m\n\u001b[0m",
      "\u001b[1;32m~\\Anaconda3\\lib\\site-packages\\pandas\\util\\_decorators.py\u001b[0m in \u001b[0;36mwrapper\u001b[1;34m(*args, **kwargs)\u001b[0m\n\u001b[0;32m    206\u001b[0m                 \u001b[1;32melse\u001b[0m\u001b[1;33m:\u001b[0m\u001b[1;33m\u001b[0m\u001b[1;33m\u001b[0m\u001b[0m\n\u001b[0;32m    207\u001b[0m                     \u001b[0mkwargs\u001b[0m\u001b[1;33m[\u001b[0m\u001b[0mnew_arg_name\u001b[0m\u001b[1;33m]\u001b[0m \u001b[1;33m=\u001b[0m \u001b[0mnew_arg_value\u001b[0m\u001b[1;33m\u001b[0m\u001b[1;33m\u001b[0m\u001b[0m\n\u001b[1;32m--> 208\u001b[1;33m             \u001b[1;32mreturn\u001b[0m \u001b[0mfunc\u001b[0m\u001b[1;33m(\u001b[0m\u001b[1;33m*\u001b[0m\u001b[0margs\u001b[0m\u001b[1;33m,\u001b[0m \u001b[1;33m**\u001b[0m\u001b[0mkwargs\u001b[0m\u001b[1;33m)\u001b[0m\u001b[1;33m\u001b[0m\u001b[1;33m\u001b[0m\u001b[0m\n\u001b[0m\u001b[0;32m    209\u001b[0m \u001b[1;33m\u001b[0m\u001b[0m\n\u001b[0;32m    210\u001b[0m         \u001b[1;32mreturn\u001b[0m \u001b[0mwrapper\u001b[0m\u001b[1;33m\u001b[0m\u001b[1;33m\u001b[0m\u001b[0m\n",
      "\u001b[1;32m~\\Anaconda3\\lib\\site-packages\\pandas\\core\\tools\\datetimes.py\u001b[0m in \u001b[0;36mto_datetime\u001b[1;34m(arg, errors, dayfirst, yearfirst, utc, box, format, exact, unit, infer_datetime_format, origin, cache)\u001b[0m\n\u001b[0;32m    776\u001b[0m             \u001b[0mresult\u001b[0m \u001b[1;33m=\u001b[0m \u001b[0marg\u001b[0m\u001b[1;33m.\u001b[0m\u001b[0mmap\u001b[0m\u001b[1;33m(\u001b[0m\u001b[0mcache_array\u001b[0m\u001b[1;33m)\u001b[0m\u001b[1;33m\u001b[0m\u001b[1;33m\u001b[0m\u001b[0m\n\u001b[0;32m    777\u001b[0m         \u001b[1;32melse\u001b[0m\u001b[1;33m:\u001b[0m\u001b[1;33m\u001b[0m\u001b[1;33m\u001b[0m\u001b[0m\n\u001b[1;32m--> 778\u001b[1;33m             \u001b[0mvalues\u001b[0m \u001b[1;33m=\u001b[0m \u001b[0mconvert_listlike\u001b[0m\u001b[1;33m(\u001b[0m\u001b[0marg\u001b[0m\u001b[1;33m.\u001b[0m\u001b[0m_values\u001b[0m\u001b[1;33m,\u001b[0m \u001b[1;32mTrue\u001b[0m\u001b[1;33m,\u001b[0m \u001b[0mformat\u001b[0m\u001b[1;33m)\u001b[0m\u001b[1;33m\u001b[0m\u001b[1;33m\u001b[0m\u001b[0m\n\u001b[0m\u001b[0;32m    779\u001b[0m             \u001b[0mresult\u001b[0m \u001b[1;33m=\u001b[0m \u001b[0marg\u001b[0m\u001b[1;33m.\u001b[0m\u001b[0m_constructor\u001b[0m\u001b[1;33m(\u001b[0m\u001b[0mvalues\u001b[0m\u001b[1;33m,\u001b[0m \u001b[0mindex\u001b[0m\u001b[1;33m=\u001b[0m\u001b[0marg\u001b[0m\u001b[1;33m.\u001b[0m\u001b[0mindex\u001b[0m\u001b[1;33m,\u001b[0m \u001b[0mname\u001b[0m\u001b[1;33m=\u001b[0m\u001b[0marg\u001b[0m\u001b[1;33m.\u001b[0m\u001b[0mname\u001b[0m\u001b[1;33m)\u001b[0m\u001b[1;33m\u001b[0m\u001b[1;33m\u001b[0m\u001b[0m\n\u001b[0;32m    780\u001b[0m     \u001b[1;32melif\u001b[0m \u001b[0misinstance\u001b[0m\u001b[1;33m(\u001b[0m\u001b[0marg\u001b[0m\u001b[1;33m,\u001b[0m \u001b[1;33m(\u001b[0m\u001b[0mABCDataFrame\u001b[0m\u001b[1;33m,\u001b[0m \u001b[0mabc\u001b[0m\u001b[1;33m.\u001b[0m\u001b[0mMutableMapping\u001b[0m\u001b[1;33m)\u001b[0m\u001b[1;33m)\u001b[0m\u001b[1;33m:\u001b[0m\u001b[1;33m\u001b[0m\u001b[1;33m\u001b[0m\u001b[0m\n",
      "\u001b[1;32m~\\Anaconda3\\lib\\site-packages\\pandas\\core\\tools\\datetimes.py\u001b[0m in \u001b[0;36m_convert_listlike_datetimes\u001b[1;34m(arg, box, format, name, tz, unit, errors, infer_datetime_format, dayfirst, yearfirst, exact)\u001b[0m\n\u001b[0;32m    461\u001b[0m             \u001b[0merrors\u001b[0m\u001b[1;33m=\u001b[0m\u001b[0merrors\u001b[0m\u001b[1;33m,\u001b[0m\u001b[1;33m\u001b[0m\u001b[1;33m\u001b[0m\u001b[0m\n\u001b[0;32m    462\u001b[0m             \u001b[0mrequire_iso8601\u001b[0m\u001b[1;33m=\u001b[0m\u001b[0mrequire_iso8601\u001b[0m\u001b[1;33m,\u001b[0m\u001b[1;33m\u001b[0m\u001b[1;33m\u001b[0m\u001b[0m\n\u001b[1;32m--> 463\u001b[1;33m             \u001b[0mallow_object\u001b[0m\u001b[1;33m=\u001b[0m\u001b[1;32mTrue\u001b[0m\u001b[1;33m,\u001b[0m\u001b[1;33m\u001b[0m\u001b[1;33m\u001b[0m\u001b[0m\n\u001b[0m\u001b[0;32m    464\u001b[0m         )\n\u001b[0;32m    465\u001b[0m \u001b[1;33m\u001b[0m\u001b[0m\n",
      "\u001b[1;32m~\\Anaconda3\\lib\\site-packages\\pandas\\core\\arrays\\datetimes.py\u001b[0m in \u001b[0;36mobjects_to_datetime64ns\u001b[1;34m(data, dayfirst, yearfirst, utc, errors, require_iso8601, allow_object)\u001b[0m\n\u001b[0;32m   1982\u001b[0m             \u001b[1;32mreturn\u001b[0m \u001b[0mvalues\u001b[0m\u001b[1;33m.\u001b[0m\u001b[0mview\u001b[0m\u001b[1;33m(\u001b[0m\u001b[1;34m\"i8\"\u001b[0m\u001b[1;33m)\u001b[0m\u001b[1;33m,\u001b[0m \u001b[0mtz_parsed\u001b[0m\u001b[1;33m\u001b[0m\u001b[1;33m\u001b[0m\u001b[0m\n\u001b[0;32m   1983\u001b[0m         \u001b[1;32mexcept\u001b[0m \u001b[1;33m(\u001b[0m\u001b[0mValueError\u001b[0m\u001b[1;33m,\u001b[0m \u001b[0mTypeError\u001b[0m\u001b[1;33m)\u001b[0m\u001b[1;33m:\u001b[0m\u001b[1;33m\u001b[0m\u001b[1;33m\u001b[0m\u001b[0m\n\u001b[1;32m-> 1984\u001b[1;33m             \u001b[1;32mraise\u001b[0m \u001b[0me\u001b[0m\u001b[1;33m\u001b[0m\u001b[1;33m\u001b[0m\u001b[0m\n\u001b[0m\u001b[0;32m   1985\u001b[0m \u001b[1;33m\u001b[0m\u001b[0m\n\u001b[0;32m   1986\u001b[0m     \u001b[1;32mif\u001b[0m \u001b[0mtz_parsed\u001b[0m \u001b[1;32mis\u001b[0m \u001b[1;32mnot\u001b[0m \u001b[1;32mNone\u001b[0m\u001b[1;33m:\u001b[0m\u001b[1;33m\u001b[0m\u001b[1;33m\u001b[0m\u001b[0m\n",
      "\u001b[1;32m~\\Anaconda3\\lib\\site-packages\\pandas\\core\\arrays\\datetimes.py\u001b[0m in \u001b[0;36mobjects_to_datetime64ns\u001b[1;34m(data, dayfirst, yearfirst, utc, errors, require_iso8601, allow_object)\u001b[0m\n\u001b[0;32m   1973\u001b[0m             \u001b[0mdayfirst\u001b[0m\u001b[1;33m=\u001b[0m\u001b[0mdayfirst\u001b[0m\u001b[1;33m,\u001b[0m\u001b[1;33m\u001b[0m\u001b[1;33m\u001b[0m\u001b[0m\n\u001b[0;32m   1974\u001b[0m             \u001b[0myearfirst\u001b[0m\u001b[1;33m=\u001b[0m\u001b[0myearfirst\u001b[0m\u001b[1;33m,\u001b[0m\u001b[1;33m\u001b[0m\u001b[1;33m\u001b[0m\u001b[0m\n\u001b[1;32m-> 1975\u001b[1;33m             \u001b[0mrequire_iso8601\u001b[0m\u001b[1;33m=\u001b[0m\u001b[0mrequire_iso8601\u001b[0m\u001b[1;33m,\u001b[0m\u001b[1;33m\u001b[0m\u001b[1;33m\u001b[0m\u001b[0m\n\u001b[0m\u001b[0;32m   1976\u001b[0m         )\n\u001b[0;32m   1977\u001b[0m     \u001b[1;32mexcept\u001b[0m \u001b[0mValueError\u001b[0m \u001b[1;32mas\u001b[0m \u001b[0me\u001b[0m\u001b[1;33m:\u001b[0m\u001b[1;33m\u001b[0m\u001b[1;33m\u001b[0m\u001b[0m\n",
      "\u001b[1;32mpandas\\_libs\\tslib.pyx\u001b[0m in \u001b[0;36mpandas._libs.tslib.array_to_datetime\u001b[1;34m()\u001b[0m\n",
      "\u001b[1;32mpandas\\_libs\\tslib.pyx\u001b[0m in \u001b[0;36mpandas._libs.tslib.array_to_datetime\u001b[1;34m()\u001b[0m\n",
      "\u001b[1;32mpandas\\_libs\\tslib.pyx\u001b[0m in \u001b[0;36mpandas._libs.tslib.array_to_datetime_object\u001b[1;34m()\u001b[0m\n",
      "\u001b[1;32mpandas\\_libs\\tslib.pyx\u001b[0m in \u001b[0;36mpandas._libs.tslib.array_to_datetime_object\u001b[1;34m()\u001b[0m\n",
      "\u001b[1;32mpandas\\_libs\\tslibs\\parsing.pyx\u001b[0m in \u001b[0;36mpandas._libs.tslibs.parsing.parse_datetime_string\u001b[1;34m()\u001b[0m\n",
      "\u001b[1;32m~\\Anaconda3\\lib\\site-packages\\dateutil\\parser\\_parser.py\u001b[0m in \u001b[0;36mparse\u001b[1;34m(timestr, parserinfo, **kwargs)\u001b[0m\n\u001b[0;32m   1356\u001b[0m         \u001b[1;32mreturn\u001b[0m \u001b[0mparser\u001b[0m\u001b[1;33m(\u001b[0m\u001b[0mparserinfo\u001b[0m\u001b[1;33m)\u001b[0m\u001b[1;33m.\u001b[0m\u001b[0mparse\u001b[0m\u001b[1;33m(\u001b[0m\u001b[0mtimestr\u001b[0m\u001b[1;33m,\u001b[0m \u001b[1;33m**\u001b[0m\u001b[0mkwargs\u001b[0m\u001b[1;33m)\u001b[0m\u001b[1;33m\u001b[0m\u001b[1;33m\u001b[0m\u001b[0m\n\u001b[0;32m   1357\u001b[0m     \u001b[1;32melse\u001b[0m\u001b[1;33m:\u001b[0m\u001b[1;33m\u001b[0m\u001b[1;33m\u001b[0m\u001b[0m\n\u001b[1;32m-> 1358\u001b[1;33m         \u001b[1;32mreturn\u001b[0m \u001b[0mDEFAULTPARSER\u001b[0m\u001b[1;33m.\u001b[0m\u001b[0mparse\u001b[0m\u001b[1;33m(\u001b[0m\u001b[0mtimestr\u001b[0m\u001b[1;33m,\u001b[0m \u001b[1;33m**\u001b[0m\u001b[0mkwargs\u001b[0m\u001b[1;33m)\u001b[0m\u001b[1;33m\u001b[0m\u001b[1;33m\u001b[0m\u001b[0m\n\u001b[0m\u001b[0;32m   1359\u001b[0m \u001b[1;33m\u001b[0m\u001b[0m\n\u001b[0;32m   1360\u001b[0m \u001b[1;33m\u001b[0m\u001b[0m\n",
      "\u001b[1;32m~\\Anaconda3\\lib\\site-packages\\dateutil\\parser\\_parser.py\u001b[0m in \u001b[0;36mparse\u001b[1;34m(self, timestr, default, ignoretz, tzinfos, **kwargs)\u001b[0m\n\u001b[0;32m    647\u001b[0m \u001b[1;33m\u001b[0m\u001b[0m\n\u001b[0;32m    648\u001b[0m         \u001b[1;32mif\u001b[0m \u001b[0mres\u001b[0m \u001b[1;32mis\u001b[0m \u001b[1;32mNone\u001b[0m\u001b[1;33m:\u001b[0m\u001b[1;33m\u001b[0m\u001b[1;33m\u001b[0m\u001b[0m\n\u001b[1;32m--> 649\u001b[1;33m             \u001b[1;32mraise\u001b[0m \u001b[0mValueError\u001b[0m\u001b[1;33m(\u001b[0m\u001b[1;34m\"Unknown string format:\"\u001b[0m\u001b[1;33m,\u001b[0m \u001b[0mtimestr\u001b[0m\u001b[1;33m)\u001b[0m\u001b[1;33m\u001b[0m\u001b[1;33m\u001b[0m\u001b[0m\n\u001b[0m\u001b[0;32m    650\u001b[0m \u001b[1;33m\u001b[0m\u001b[0m\n\u001b[0;32m    651\u001b[0m         \u001b[1;32mif\u001b[0m \u001b[0mlen\u001b[0m\u001b[1;33m(\u001b[0m\u001b[0mres\u001b[0m\u001b[1;33m)\u001b[0m \u001b[1;33m==\u001b[0m \u001b[1;36m0\u001b[0m\u001b[1;33m:\u001b[0m\u001b[1;33m\u001b[0m\u001b[1;33m\u001b[0m\u001b[0m\n",
      "\u001b[1;31mValueError\u001b[0m: ('Unknown string format:', 'Hello World')"
     ]
    }
   ],
   "source": [
    "pd.to_datetime(s)"
   ]
  },
  {
   "cell_type": "code",
   "execution_count": 23,
   "metadata": {},
   "outputs": [
    {
     "data": {
      "text/plain": [
       "0   2019-01-20\n",
       "1   1998-07-12\n",
       "2   2016-01-01\n",
       "3          NaT\n",
       "dtype: datetime64[ns]"
      ]
     },
     "execution_count": 23,
     "metadata": {},
     "output_type": "execute_result"
    }
   ],
   "source": [
    "pd.to_datetime(s, errors=\"coerce\")"
   ]
  },
  {
   "cell_type": "markdown",
   "metadata": {},
   "source": [
    "**UNIX time**\n",
    "\n",
    "Pandas can also read UNIX Time. Unix time (also known as POSIX time or UNIX Epoch time) is a system for describing a point in time.\n",
    "It is the number of seconds that have elapsed since 00:00:00 Thursday, 1 January 1970, Coordinated Universal Time (UTC), minus leap seconds.\n",
    "\n",
    "Try:https://www.epochconverter.com/"
   ]
  },
  {
   "cell_type": "code",
   "execution_count": 24,
   "metadata": {},
   "outputs": [
    {
     "data": {
      "text/plain": [
       "Timestamp('2019-08-04 01:08:42')"
      ]
     },
     "execution_count": 24,
     "metadata": {},
     "output_type": "execute_result"
    }
   ],
   "source": [
    "pd.to_datetime(1564880922, unit=\"s\")"
   ]
  },
  {
   "cell_type": "markdown",
   "metadata": {},
   "source": [
    "### 5. Create Range of Dates with the pd.date_range() Method\n",
    "Requires at least 2 parameters, start and end:\n",
    "\n",
    "- start : starting day\n",
    "- end : upper bound for the day generated\n",
    "- freq : how the internal is calculated. The default value is \"D\" which stands for Day. \"2D\" stands for 2 Days.\n",
    "\n",
    "For full list of freq : https://pandas.pydata.org/pandas-docs/stable/user_guide/timeseries.html#timeseries-offset-aliases\n",
    "\n",
    "**START + END + FREQ**"
   ]
  },
  {
   "cell_type": "code",
   "execution_count": 25,
   "metadata": {},
   "outputs": [
    {
     "data": {
      "text/plain": [
       "DatetimeIndex(['2019-01-02', '2019-01-04', '2019-01-06', '2019-01-08',\n",
       "               '2019-01-10'],\n",
       "              dtype='datetime64[ns]', freq='2D')"
      ]
     },
     "execution_count": 25,
     "metadata": {},
     "output_type": "execute_result"
    }
   ],
   "source": [
    "pd.date_range(start=\"2019-1-2\", end=\"2019-1-10\", freq=\"2D\")"
   ]
  },
  {
   "cell_type": "markdown",
   "metadata": {},
   "source": [
    "We can also generate days on weekdays or business days. This can be done by specifying freq= \"B“."
   ]
  },
  {
   "cell_type": "code",
   "execution_count": 26,
   "metadata": {},
   "outputs": [
    {
     "data": {
      "text/plain": [
       "DatetimeIndex(['2019-01-02', '2019-01-03', '2019-01-04', '2019-01-07',\n",
       "               '2019-01-08', '2019-01-09', '2019-01-10'],\n",
       "              dtype='datetime64[ns]', freq='B')"
      ]
     },
     "execution_count": 26,
     "metadata": {},
     "output_type": "execute_result"
    }
   ],
   "source": [
    "pd.date_range(start=\"2019-1-2\", end=\"2019-1-10\", freq=\"B\")"
   ]
  },
  {
   "cell_type": "markdown",
   "metadata": {},
   "source": [
    "Let's generate the dates of all Fridays on February 2020."
   ]
  },
  {
   "cell_type": "code",
   "execution_count": 27,
   "metadata": {},
   "outputs": [
    {
     "data": {
      "text/plain": [
       "DatetimeIndex(['2020-02-07', '2020-02-14', '2020-02-21', '2020-02-28'], dtype='datetime64[ns]', freq='W-FRI')"
      ]
     },
     "execution_count": 27,
     "metadata": {},
     "output_type": "execute_result"
    }
   ],
   "source": [
    "pd.date_range(start=\"1 Feb 2020\", end=\"28 Feb 2020\", freq=\"W-FRI\")"
   ]
  },
  {
   "cell_type": "markdown",
   "metadata": {},
   "source": [
    "Generate ten days with 6 Hours interval."
   ]
  },
  {
   "cell_type": "code",
   "execution_count": 28,
   "metadata": {},
   "outputs": [
    {
     "data": {
      "text/plain": [
       "DatetimeIndex(['2020-02-01 00:00:00', '2020-02-01 06:00:00',\n",
       "               '2020-02-01 12:00:00', '2020-02-01 18:00:00',\n",
       "               '2020-02-02 00:00:00', '2020-02-02 06:00:00',\n",
       "               '2020-02-02 12:00:00', '2020-02-02 18:00:00',\n",
       "               '2020-02-03 00:00:00', '2020-02-03 06:00:00',\n",
       "               '2020-02-03 12:00:00', '2020-02-03 18:00:00',\n",
       "               '2020-02-04 00:00:00', '2020-02-04 06:00:00',\n",
       "               '2020-02-04 12:00:00', '2020-02-04 18:00:00',\n",
       "               '2020-02-05 00:00:00', '2020-02-05 06:00:00',\n",
       "               '2020-02-05 12:00:00', '2020-02-05 18:00:00',\n",
       "               '2020-02-06 00:00:00', '2020-02-06 06:00:00',\n",
       "               '2020-02-06 12:00:00', '2020-02-06 18:00:00',\n",
       "               '2020-02-07 00:00:00', '2020-02-07 06:00:00',\n",
       "               '2020-02-07 12:00:00', '2020-02-07 18:00:00',\n",
       "               '2020-02-08 00:00:00', '2020-02-08 06:00:00',\n",
       "               '2020-02-08 12:00:00', '2020-02-08 18:00:00',\n",
       "               '2020-02-09 00:00:00', '2020-02-09 06:00:00',\n",
       "               '2020-02-09 12:00:00', '2020-02-09 18:00:00',\n",
       "               '2020-02-10 00:00:00'],\n",
       "              dtype='datetime64[ns]', freq='6H')"
      ]
     },
     "execution_count": 28,
     "metadata": {},
     "output_type": "execute_result"
    }
   ],
   "source": [
    "pd.date_range(start=\"1 Feb 2020\", end=\"10 Feb 2020\", freq=\"6H\")"
   ]
  },
  {
   "cell_type": "markdown",
   "metadata": {},
   "source": [
    "Generating last day of every month in the year 2020.\n",
    "\n",
    "**freq=\"M\"** stands for Month."
   ]
  },
  {
   "cell_type": "code",
   "execution_count": 29,
   "metadata": {
    "scrolled": true
   },
   "outputs": [
    {
     "data": {
      "text/plain": [
       "DatetimeIndex(['2020-01-31', '2020-02-29', '2020-03-31', '2020-04-30',\n",
       "               '2020-05-31', '2020-06-30', '2020-07-31', '2020-08-31',\n",
       "               '2020-09-30', '2020-10-31', '2020-11-30', '2020-12-31'],\n",
       "              dtype='datetime64[ns]', freq='M')"
      ]
     },
     "execution_count": 29,
     "metadata": {},
     "output_type": "execute_result"
    }
   ],
   "source": [
    "pd.date_range(start=\"1 Jan 2020\", end=\"31 Dec 2020\", freq=\"M\")"
   ]
  },
  {
   "cell_type": "markdown",
   "metadata": {},
   "source": [
    "**START + PERIODS + FREQ**\n",
    "\n",
    "**periods parameter :** Number of dates we want to generate from starting date\n",
    "\n",
    "For example, if we want to generate **25 days** from 12 July 1998, we need to specify the start parameter as \"12 July 1998\" and set ** periods parameter to 25."
   ]
  },
  {
   "cell_type": "code",
   "execution_count": 30,
   "metadata": {},
   "outputs": [
    {
     "data": {
      "text/plain": [
       "DatetimeIndex(['1998-07-12', '1998-07-13', '1998-07-14', '1998-07-15',\n",
       "               '1998-07-16', '1998-07-17', '1998-07-18', '1998-07-19',\n",
       "               '1998-07-20', '1998-07-21', '1998-07-22', '1998-07-23',\n",
       "               '1998-07-24', '1998-07-25', '1998-07-26', '1998-07-27',\n",
       "               '1998-07-28', '1998-07-29', '1998-07-30', '1998-07-31',\n",
       "               '1998-08-01', '1998-08-02', '1998-08-03', '1998-08-04',\n",
       "               '1998-08-05'],\n",
       "              dtype='datetime64[ns]', freq='D')"
      ]
     },
     "execution_count": 30,
     "metadata": {},
     "output_type": "execute_result"
    }
   ],
   "source": [
    "pd.date_range(start=\"12 July 1998\", periods=25, freq=\"D\")"
   ]
  },
  {
   "cell_type": "markdown",
   "metadata": {},
   "source": [
    "We can also generate **25 Business days** ( Weekdays ) from 12 July 1998.\n",
    "\n",
    "Since 12 July is Sunday, the dates will start counting on 13 July."
   ]
  },
  {
   "cell_type": "code",
   "execution_count": 31,
   "metadata": {},
   "outputs": [
    {
     "data": {
      "text/plain": [
       "DatetimeIndex(['1998-07-13', '1998-07-14', '1998-07-15', '1998-07-16',\n",
       "               '1998-07-17', '1998-07-20', '1998-07-21', '1998-07-22',\n",
       "               '1998-07-23', '1998-07-24', '1998-07-27', '1998-07-28',\n",
       "               '1998-07-29', '1998-07-30', '1998-07-31', '1998-08-03',\n",
       "               '1998-08-04', '1998-08-05', '1998-08-06', '1998-08-07',\n",
       "               '1998-08-10', '1998-08-11', '1998-08-12', '1998-08-13',\n",
       "               '1998-08-14'],\n",
       "              dtype='datetime64[ns]', freq='B')"
      ]
     },
     "execution_count": 31,
     "metadata": {},
     "output_type": "execute_result"
    }
   ],
   "source": [
    "pd.date_range(start=\"12 July 1998\", periods=25, freq=\"B\")"
   ]
  },
  {
   "cell_type": "markdown",
   "metadata": {},
   "source": [
    "To generate 25 dates of the last days of every month, we use parameter freq=\"M\"."
   ]
  },
  {
   "cell_type": "code",
   "execution_count": 32,
   "metadata": {},
   "outputs": [
    {
     "data": {
      "text/plain": [
       "DatetimeIndex(['1998-07-31', '1998-08-31', '1998-09-30', '1998-10-31',\n",
       "               '1998-11-30', '1998-12-31', '1999-01-31', '1999-02-28',\n",
       "               '1999-03-31', '1999-04-30', '1999-05-31', '1999-06-30',\n",
       "               '1999-07-31', '1999-08-31', '1999-09-30', '1999-10-31',\n",
       "               '1999-11-30', '1999-12-31', '2000-01-31', '2000-02-29',\n",
       "               '2000-03-31', '2000-04-30', '2000-05-31', '2000-06-30',\n",
       "               '2000-07-31'],\n",
       "              dtype='datetime64[ns]', freq='M')"
      ]
     },
     "execution_count": 32,
     "metadata": {},
     "output_type": "execute_result"
    }
   ],
   "source": [
    "pd.date_range(start=\"12 July 1998\" , periods=25, freq=\"M\")"
   ]
  },
  {
   "cell_type": "markdown",
   "metadata": {},
   "source": [
    "Generate 25 dates with interval of 12 Hours."
   ]
  },
  {
   "cell_type": "code",
   "execution_count": 33,
   "metadata": {},
   "outputs": [
    {
     "data": {
      "text/plain": [
       "DatetimeIndex(['1998-12-07 00:00:00', '1998-12-07 12:00:00',\n",
       "               '1998-12-08 00:00:00', '1998-12-08 12:00:00',\n",
       "               '1998-12-09 00:00:00', '1998-12-09 12:00:00',\n",
       "               '1998-12-10 00:00:00', '1998-12-10 12:00:00',\n",
       "               '1998-12-11 00:00:00', '1998-12-11 12:00:00',\n",
       "               '1998-12-12 00:00:00', '1998-12-12 12:00:00',\n",
       "               '1998-12-13 00:00:00', '1998-12-13 12:00:00',\n",
       "               '1998-12-14 00:00:00', '1998-12-14 12:00:00',\n",
       "               '1998-12-15 00:00:00', '1998-12-15 12:00:00',\n",
       "               '1998-12-16 00:00:00', '1998-12-16 12:00:00',\n",
       "               '1998-12-17 00:00:00', '1998-12-17 12:00:00',\n",
       "               '1998-12-18 00:00:00', '1998-12-18 12:00:00',\n",
       "               '1998-12-19 00:00:00'],\n",
       "              dtype='datetime64[ns]', freq='12H')"
      ]
     },
     "execution_count": 33,
     "metadata": {},
     "output_type": "execute_result"
    }
   ],
   "source": [
    "pd.date_range(start=\"12/7/1998\", periods=25, freq=\"12H\")"
   ]
  },
  {
   "cell_type": "code",
   "execution_count": 34,
   "metadata": {},
   "outputs": [
    {
     "data": {
      "text/plain": [
       "DatetimeIndex(['1998-07-31', '1998-08-31', '1998-09-30', '1998-10-31',\n",
       "               '1998-11-30', '1998-12-31', '1999-01-31', '1999-02-28',\n",
       "               '1999-03-31', '1999-04-30', '1999-05-31', '1999-06-30',\n",
       "               '1999-07-31', '1999-08-31', '1999-09-30', '1999-10-31',\n",
       "               '1999-11-30', '1999-12-31', '2000-01-31', '2000-02-29',\n",
       "               '2000-03-31', '2000-04-30', '2000-05-31', '2000-06-30',\n",
       "               '2000-07-31'],\n",
       "              dtype='datetime64[ns]', freq='M')"
      ]
     },
     "execution_count": 34,
     "metadata": {},
     "output_type": "execute_result"
    }
   ],
   "source": [
    "pd.date_range(start=\"12 July 1998\" , periods=25, freq=\"M\" )"
   ]
  },
  {
   "cell_type": "markdown",
   "metadata": {},
   "source": [
    "**END + PERIODS + FREQ**\n",
    "\n",
    "We can specify the end dates and the number of periods we want, then it will generate a list of dates which will end before the end date.\n",
    "\n",
    "For example, the code below will generate 10 dates with an interval of 1 day. The end date is 31 Dec 2019. Hence, the calculated starting date is 22 Dec 2019."
   ]
  },
  {
   "cell_type": "code",
   "execution_count": 35,
   "metadata": {},
   "outputs": [
    {
     "data": {
      "text/plain": [
       "DatetimeIndex(['2019-12-22', '2019-12-23', '2019-12-24', '2019-12-25',\n",
       "               '2019-12-26', '2019-12-27', '2019-12-28', '2019-12-29',\n",
       "               '2019-12-30', '2019-12-31'],\n",
       "              dtype='datetime64[ns]', freq='D')"
      ]
     },
     "execution_count": 35,
     "metadata": {},
     "output_type": "execute_result"
    }
   ],
   "source": [
    "pd.date_range(end=\"31 Dec 2019\", periods=10, freq=\"D\")"
   ]
  },
  {
   "cell_type": "markdown",
   "metadata": {},
   "source": [
    "**Freq=\"MS\"** means start of each months\n",
    "\n",
    "Notice the last date is 1 Dec 2019, because our end date is 31 Dec 2019. Hence, dates after the end date will not be generated."
   ]
  },
  {
   "cell_type": "code",
   "execution_count": 36,
   "metadata": {},
   "outputs": [
    {
     "data": {
      "text/plain": [
       "DatetimeIndex(['2019-03-01', '2019-04-01', '2019-05-01', '2019-06-01',\n",
       "               '2019-07-01', '2019-08-01', '2019-09-01', '2019-10-01',\n",
       "               '2019-11-01', '2019-12-01'],\n",
       "              dtype='datetime64[ns]', freq='MS')"
      ]
     },
     "execution_count": 36,
     "metadata": {},
     "output_type": "execute_result"
    }
   ],
   "source": [
    "pd.date_range(end=\"31 Dec 2019\", periods=10, freq=\"MS\")"
   ]
  },
  {
   "cell_type": "markdown",
   "metadata": {},
   "source": [
    "### 6 .dt Accessor\n",
    "\n",
    "In the previous chapter, we learned how to change a columns' data type from string to datetime. This is to enable us to do more operations on the date. \n",
    "\n",
    "Let's generate a list of dates and pass it into Pandas Series."
   ]
  },
  {
   "cell_type": "code",
   "execution_count": 37,
   "metadata": {},
   "outputs": [],
   "source": [
    "list_dates = pd.date_range(start=\"1-1-2019\", end=\"10-1-2019\", freq=\"B\")"
   ]
  },
  {
   "cell_type": "code",
   "execution_count": 38,
   "metadata": {},
   "outputs": [
    {
     "data": {
      "text/plain": [
       "0   2019-01-01\n",
       "1   2019-01-02\n",
       "2   2019-01-03\n",
       "3   2019-01-04\n",
       "4   2019-01-07\n",
       "dtype: datetime64[ns]"
      ]
     },
     "execution_count": 38,
     "metadata": {},
     "output_type": "execute_result"
    }
   ],
   "source": [
    "s = pd.Series(list_dates)\n",
    "s.head()"
   ]
  },
  {
   "cell_type": "code",
   "execution_count": 39,
   "metadata": {},
   "outputs": [
    {
     "data": {
      "text/plain": [
       "196"
      ]
     },
     "execution_count": 39,
     "metadata": {},
     "output_type": "execute_result"
    }
   ],
   "source": [
    "len(s)"
   ]
  },
  {
   "cell_type": "markdown",
   "metadata": {},
   "source": [
    "Now we have a list of dates in Pandas Series. We need to use **.dt** to access some of the attributes\n",
    "\n",
    "**s.dt.day** will return the days from the Series. Since the Series is already in datetime type, we do not need to do additional operations."
   ]
  },
  {
   "cell_type": "code",
   "execution_count": 40,
   "metadata": {},
   "outputs": [
    {
     "data": {
      "text/plain": [
       "0    1\n",
       "1    2\n",
       "2    3\n",
       "3    4\n",
       "4    7\n",
       "dtype: int64"
      ]
     },
     "execution_count": 40,
     "metadata": {},
     "output_type": "execute_result"
    }
   ],
   "source": [
    "s.dt.day.head()"
   ]
  },
  {
   "cell_type": "markdown",
   "metadata": {},
   "source": [
    "s.dt.is_quater_start will return a list of Booleans. It will return TRUE if the date is the first day of a quarter."
   ]
  },
  {
   "cell_type": "code",
   "execution_count": 41,
   "metadata": {},
   "outputs": [
    {
     "data": {
      "text/plain": [
       "0     2019-01-01\n",
       "64    2019-04-01\n",
       "129   2019-07-01\n",
       "195   2019-10-01\n",
       "dtype: datetime64[ns]"
      ]
     },
     "execution_count": 41,
     "metadata": {},
     "output_type": "execute_result"
    }
   ],
   "source": [
    "mask = s.dt.is_quarter_start\n",
    "s[mask]"
   ]
  },
  {
   "cell_type": "markdown",
   "metadata": {},
   "source": [
    "Generating Business days/Weekday, will gives us the days from Monday to Friday."
   ]
  },
  {
   "cell_type": "code",
   "execution_count": 42,
   "metadata": {},
   "outputs": [
    {
     "data": {
      "text/plain": [
       "0        Tuesday\n",
       "1      Wednesday\n",
       "2       Thursday\n",
       "3         Friday\n",
       "4         Monday\n",
       "         ...    \n",
       "191    Wednesday\n",
       "192     Thursday\n",
       "193       Friday\n",
       "194       Monday\n",
       "195      Tuesday\n",
       "Length: 196, dtype: object"
      ]
     },
     "execution_count": 42,
     "metadata": {},
     "output_type": "execute_result"
    }
   ],
   "source": [
    "s.dt.day_name()"
   ]
  },
  {
   "cell_type": "markdown",
   "metadata": {},
   "source": [
    "### 7.  Install Pandas-datareader library\n",
    "\n",
    "pandas_datareader provides a consistent, simple API for you to collect data from these platforms. We can get stock prices for many companies.\n",
    "\n",
    "- Open Anaconda Command Prompt\n",
    "- Run command - **conda install pandas-datareader**\n",
    "- wait until it is done\n"
   ]
  },
  {
   "cell_type": "markdown",
   "metadata": {},
   "source": [
    "### 8. Import Financial Datasets with Pandas Data Reader Library\n",
    "\n",
    "\n",
    "- Unfortunately,  Google finance and Morningstar have been deprecated due to massive changes in their API and there has been no stable replacement.\n",
    "- Full documentation : https://pydata.github.io/pandas-datareader/stable"
   ]
  },
  {
   "cell_type": "code",
   "execution_count": 43,
   "metadata": {},
   "outputs": [],
   "source": [
    "import pandas as pd\n",
    "import datetime as dt\n",
    "from pandas_datareader import data"
   ]
  },
  {
   "cell_type": "markdown",
   "metadata": {},
   "source": [
    "### FRED (Federal Reserve Economic Data)\n",
    "\n",
    "source : https://pydata.github.io/pandas-datareader/stable/remote_data.html#fred"
   ]
  },
  {
   "attachments": {
    "image.png": {
     "image/png": "[encoded data removed]"
    }
   },
   "cell_type": "markdown",
   "metadata": {},
   "source": [
    "From FRED Official WEbsite, https://fred.stlouisfed.org/series/CPIAUCSL\n",
    "![image.png](attachment:image.png)\n",
    "\n",
    "We can see the code on the right of the topic. To retrieve the data using Pandas DataReader, we need to use the code."
   ]
  },
  {
   "cell_type": "code",
   "execution_count": 44,
   "metadata": {},
   "outputs": [
    {
     "data": {
      "text/html": [
       "<div>\n",
       "<style scoped>\n",
       "    .dataframe tbody tr th:only-of-type {\n",
       "        vertical-align: middle;\n",
       "    }\n",
       "\n",
       "    .dataframe tbody tr th {\n",
       "        vertical-align: top;\n",
       "    }\n",
       "\n",
       "    .dataframe thead th {\n",
       "        text-align: right;\n",
       "    }\n",
       "</style>\n",
       "<table border=\"1\" class=\"dataframe\">\n",
       "  <thead>\n",
       "    <tr style=\"text-align: right;\">\n",
       "      <th></th>\n",
       "      <th>CPIAUCSL</th>\n",
       "    </tr>\n",
       "    <tr>\n",
       "      <th>DATE</th>\n",
       "      <th></th>\n",
       "    </tr>\n",
       "  </thead>\n",
       "  <tbody>\n",
       "    <tr>\n",
       "      <td>2014-11-01</td>\n",
       "      <td>236.983</td>\n",
       "    </tr>\n",
       "    <tr>\n",
       "      <td>2014-12-01</td>\n",
       "      <td>236.252</td>\n",
       "    </tr>\n",
       "    <tr>\n",
       "      <td>2015-01-01</td>\n",
       "      <td>234.718</td>\n",
       "    </tr>\n",
       "    <tr>\n",
       "      <td>2015-02-01</td>\n",
       "      <td>235.236</td>\n",
       "    </tr>\n",
       "    <tr>\n",
       "      <td>2015-03-01</td>\n",
       "      <td>236.005</td>\n",
       "    </tr>\n",
       "    <tr>\n",
       "      <td>2015-04-01</td>\n",
       "      <td>236.156</td>\n",
       "    </tr>\n",
       "    <tr>\n",
       "      <td>2015-05-01</td>\n",
       "      <td>236.974</td>\n",
       "    </tr>\n",
       "    <tr>\n",
       "      <td>2015-06-01</td>\n",
       "      <td>237.684</td>\n",
       "    </tr>\n",
       "    <tr>\n",
       "      <td>2015-07-01</td>\n",
       "      <td>238.053</td>\n",
       "    </tr>\n",
       "    <tr>\n",
       "      <td>2015-08-01</td>\n",
       "      <td>238.028</td>\n",
       "    </tr>\n",
       "    <tr>\n",
       "      <td>2015-09-01</td>\n",
       "      <td>237.506</td>\n",
       "    </tr>\n",
       "    <tr>\n",
       "      <td>2015-10-01</td>\n",
       "      <td>237.781</td>\n",
       "    </tr>\n",
       "    <tr>\n",
       "      <td>2015-11-01</td>\n",
       "      <td>238.016</td>\n",
       "    </tr>\n",
       "    <tr>\n",
       "      <td>2015-12-01</td>\n",
       "      <td>237.817</td>\n",
       "    </tr>\n",
       "    <tr>\n",
       "      <td>2016-01-01</td>\n",
       "      <td>237.833</td>\n",
       "    </tr>\n",
       "    <tr>\n",
       "      <td>2016-02-01</td>\n",
       "      <td>237.469</td>\n",
       "    </tr>\n",
       "    <tr>\n",
       "      <td>2016-03-01</td>\n",
       "      <td>238.038</td>\n",
       "    </tr>\n",
       "    <tr>\n",
       "      <td>2016-04-01</td>\n",
       "      <td>238.827</td>\n",
       "    </tr>\n",
       "    <tr>\n",
       "      <td>2016-05-01</td>\n",
       "      <td>239.464</td>\n",
       "    </tr>\n",
       "    <tr>\n",
       "      <td>2016-06-01</td>\n",
       "      <td>240.167</td>\n",
       "    </tr>\n",
       "    <tr>\n",
       "      <td>2016-07-01</td>\n",
       "      <td>240.150</td>\n",
       "    </tr>\n",
       "    <tr>\n",
       "      <td>2016-08-01</td>\n",
       "      <td>240.602</td>\n",
       "    </tr>\n",
       "    <tr>\n",
       "      <td>2016-09-01</td>\n",
       "      <td>241.051</td>\n",
       "    </tr>\n",
       "    <tr>\n",
       "      <td>2016-10-01</td>\n",
       "      <td>241.691</td>\n",
       "    </tr>\n",
       "    <tr>\n",
       "      <td>2016-11-01</td>\n",
       "      <td>242.029</td>\n",
       "    </tr>\n",
       "    <tr>\n",
       "      <td>2016-12-01</td>\n",
       "      <td>242.772</td>\n",
       "    </tr>\n",
       "    <tr>\n",
       "      <td>2017-01-01</td>\n",
       "      <td>243.780</td>\n",
       "    </tr>\n",
       "    <tr>\n",
       "      <td>2017-02-01</td>\n",
       "      <td>243.961</td>\n",
       "    </tr>\n",
       "    <tr>\n",
       "      <td>2017-03-01</td>\n",
       "      <td>243.749</td>\n",
       "    </tr>\n",
       "    <tr>\n",
       "      <td>2017-04-01</td>\n",
       "      <td>244.051</td>\n",
       "    </tr>\n",
       "    <tr>\n",
       "      <td>2017-05-01</td>\n",
       "      <td>243.962</td>\n",
       "    </tr>\n",
       "    <tr>\n",
       "      <td>2017-06-01</td>\n",
       "      <td>244.182</td>\n",
       "    </tr>\n",
       "    <tr>\n",
       "      <td>2017-07-01</td>\n",
       "      <td>244.390</td>\n",
       "    </tr>\n",
       "    <tr>\n",
       "      <td>2017-08-01</td>\n",
       "      <td>245.297</td>\n",
       "    </tr>\n",
       "    <tr>\n",
       "      <td>2017-09-01</td>\n",
       "      <td>246.418</td>\n",
       "    </tr>\n",
       "    <tr>\n",
       "      <td>2017-10-01</td>\n",
       "      <td>246.587</td>\n",
       "    </tr>\n",
       "    <tr>\n",
       "      <td>2017-11-01</td>\n",
       "      <td>247.332</td>\n",
       "    </tr>\n",
       "    <tr>\n",
       "      <td>2017-12-01</td>\n",
       "      <td>247.901</td>\n",
       "    </tr>\n",
       "    <tr>\n",
       "      <td>2018-01-01</td>\n",
       "      <td>248.884</td>\n",
       "    </tr>\n",
       "    <tr>\n",
       "      <td>2018-02-01</td>\n",
       "      <td>249.369</td>\n",
       "    </tr>\n",
       "    <tr>\n",
       "      <td>2018-03-01</td>\n",
       "      <td>249.498</td>\n",
       "    </tr>\n",
       "    <tr>\n",
       "      <td>2018-04-01</td>\n",
       "      <td>249.956</td>\n",
       "    </tr>\n",
       "    <tr>\n",
       "      <td>2018-05-01</td>\n",
       "      <td>250.646</td>\n",
       "    </tr>\n",
       "    <tr>\n",
       "      <td>2018-06-01</td>\n",
       "      <td>251.134</td>\n",
       "    </tr>\n",
       "    <tr>\n",
       "      <td>2018-07-01</td>\n",
       "      <td>251.597</td>\n",
       "    </tr>\n",
       "    <tr>\n",
       "      <td>2018-08-01</td>\n",
       "      <td>251.879</td>\n",
       "    </tr>\n",
       "    <tr>\n",
       "      <td>2018-09-01</td>\n",
       "      <td>252.010</td>\n",
       "    </tr>\n",
       "    <tr>\n",
       "      <td>2018-10-01</td>\n",
       "      <td>252.794</td>\n",
       "    </tr>\n",
       "    <tr>\n",
       "      <td>2018-11-01</td>\n",
       "      <td>252.760</td>\n",
       "    </tr>\n",
       "    <tr>\n",
       "      <td>2018-12-01</td>\n",
       "      <td>252.723</td>\n",
       "    </tr>\n",
       "    <tr>\n",
       "      <td>2019-01-01</td>\n",
       "      <td>252.673</td>\n",
       "    </tr>\n",
       "    <tr>\n",
       "      <td>2019-02-01</td>\n",
       "      <td>253.113</td>\n",
       "    </tr>\n",
       "    <tr>\n",
       "      <td>2019-03-01</td>\n",
       "      <td>254.148</td>\n",
       "    </tr>\n",
       "    <tr>\n",
       "      <td>2019-04-01</td>\n",
       "      <td>254.958</td>\n",
       "    </tr>\n",
       "    <tr>\n",
       "      <td>2019-05-01</td>\n",
       "      <td>255.155</td>\n",
       "    </tr>\n",
       "    <tr>\n",
       "      <td>2019-06-01</td>\n",
       "      <td>255.305</td>\n",
       "    </tr>\n",
       "    <tr>\n",
       "      <td>2019-07-01</td>\n",
       "      <td>256.161</td>\n",
       "    </tr>\n",
       "    <tr>\n",
       "      <td>2019-08-01</td>\n",
       "      <td>256.300</td>\n",
       "    </tr>\n",
       "    <tr>\n",
       "      <td>2019-09-01</td>\n",
       "      <td>256.358</td>\n",
       "    </tr>\n",
       "  </tbody>\n",
       "</table>\n",
       "</div>"
      ],
      "text/plain": [
       "            CPIAUCSL\n",
       "DATE                \n",
       "2014-11-01   236.983\n",
       "2014-12-01   236.252\n",
       "2015-01-01   234.718\n",
       "2015-02-01   235.236\n",
       "2015-03-01   236.005\n",
       "2015-04-01   236.156\n",
       "2015-05-01   236.974\n",
       "2015-06-01   237.684\n",
       "2015-07-01   238.053\n",
       "2015-08-01   238.028\n",
       "2015-09-01   237.506\n",
       "2015-10-01   237.781\n",
       "2015-11-01   238.016\n",
       "2015-12-01   237.817\n",
       "2016-01-01   237.833\n",
       "2016-02-01   237.469\n",
       "2016-03-01   238.038\n",
       "2016-04-01   238.827\n",
       "2016-05-01   239.464\n",
       "2016-06-01   240.167\n",
       "2016-07-01   240.150\n",
       "2016-08-01   240.602\n",
       "2016-09-01   241.051\n",
       "2016-10-01   241.691\n",
       "2016-11-01   242.029\n",
       "2016-12-01   242.772\n",
       "2017-01-01   243.780\n",
       "2017-02-01   243.961\n",
       "2017-03-01   243.749\n",
       "2017-04-01   244.051\n",
       "2017-05-01   243.962\n",
       "2017-06-01   244.182\n",
       "2017-07-01   244.390\n",
       "2017-08-01   245.297\n",
       "2017-09-01   246.418\n",
       "2017-10-01   246.587\n",
       "2017-11-01   247.332\n",
       "2017-12-01   247.901\n",
       "2018-01-01   248.884\n",
       "2018-02-01   249.369\n",
       "2018-03-01   249.498\n",
       "2018-04-01   249.956\n",
       "2018-05-01   250.646\n",
       "2018-06-01   251.134\n",
       "2018-07-01   251.597\n",
       "2018-08-01   251.879\n",
       "2018-09-01   252.010\n",
       "2018-10-01   252.794\n",
       "2018-11-01   252.760\n",
       "2018-12-01   252.723\n",
       "2019-01-01   252.673\n",
       "2019-02-01   253.113\n",
       "2019-03-01   254.148\n",
       "2019-04-01   254.958\n",
       "2019-05-01   255.155\n",
       "2019-06-01   255.305\n",
       "2019-07-01   256.161\n",
       "2019-08-01   256.300\n",
       "2019-09-01   256.358"
      ]
     },
     "execution_count": 44,
     "metadata": {},
     "output_type": "execute_result"
    }
   ],
   "source": [
    "data.get_data_fred('CPIAUCSL')"
   ]
  },
  {
   "cell_type": "code",
   "execution_count": 45,
   "metadata": {},
   "outputs": [
    {
     "data": {
      "text/html": [
       "<div>\n",
       "<style scoped>\n",
       "    .dataframe tbody tr th:only-of-type {\n",
       "        vertical-align: middle;\n",
       "    }\n",
       "\n",
       "    .dataframe tbody tr th {\n",
       "        vertical-align: top;\n",
       "    }\n",
       "\n",
       "    .dataframe thead th {\n",
       "        text-align: right;\n",
       "    }\n",
       "</style>\n",
       "<table border=\"1\" class=\"dataframe\">\n",
       "  <thead>\n",
       "    <tr style=\"text-align: right;\">\n",
       "      <th></th>\n",
       "      <th>GDP</th>\n",
       "    </tr>\n",
       "    <tr>\n",
       "      <th>DATE</th>\n",
       "      <th></th>\n",
       "    </tr>\n",
       "  </thead>\n",
       "  <tbody>\n",
       "    <tr>\n",
       "      <td>1990-04-01</td>\n",
       "      <td>5960.028</td>\n",
       "    </tr>\n",
       "    <tr>\n",
       "      <td>1990-07-01</td>\n",
       "      <td>6015.116</td>\n",
       "    </tr>\n",
       "    <tr>\n",
       "      <td>1990-10-01</td>\n",
       "      <td>6004.733</td>\n",
       "    </tr>\n",
       "    <tr>\n",
       "      <td>1991-01-01</td>\n",
       "      <td>6035.178</td>\n",
       "    </tr>\n",
       "    <tr>\n",
       "      <td>1991-04-01</td>\n",
       "      <td>6126.862</td>\n",
       "    </tr>\n",
       "    <tr>\n",
       "      <td>...</td>\n",
       "      <td>...</td>\n",
       "    </tr>\n",
       "    <tr>\n",
       "      <td>2018-01-01</td>\n",
       "      <td>20163.159</td>\n",
       "    </tr>\n",
       "    <tr>\n",
       "      <td>2018-04-01</td>\n",
       "      <td>20510.177</td>\n",
       "    </tr>\n",
       "    <tr>\n",
       "      <td>2018-07-01</td>\n",
       "      <td>20749.752</td>\n",
       "    </tr>\n",
       "    <tr>\n",
       "      <td>2018-10-01</td>\n",
       "      <td>20897.804</td>\n",
       "    </tr>\n",
       "    <tr>\n",
       "      <td>2019-01-01</td>\n",
       "      <td>21098.827</td>\n",
       "    </tr>\n",
       "  </tbody>\n",
       "</table>\n",
       "<p>116 rows × 1 columns</p>\n",
       "</div>"
      ],
      "text/plain": [
       "                  GDP\n",
       "DATE                 \n",
       "1990-04-01   5960.028\n",
       "1990-07-01   6015.116\n",
       "1990-10-01   6004.733\n",
       "1991-01-01   6035.178\n",
       "1991-04-01   6126.862\n",
       "...               ...\n",
       "2018-01-01  20163.159\n",
       "2018-04-01  20510.177\n",
       "2018-07-01  20749.752\n",
       "2018-10-01  20897.804\n",
       "2019-01-01  21098.827\n",
       "\n",
       "[116 rows x 1 columns]"
      ]
     },
     "execution_count": 45,
     "metadata": {},
     "output_type": "execute_result"
    }
   ],
   "source": [
    "from pandas_datareader import data \n",
    "start=\"1990-1-2\"\n",
    "end=\"2019-1-10\"\n",
    "gdp = data.DataReader('GDP', 'fred', start, end)\n",
    "gdp"
   ]
  },
  {
   "cell_type": "markdown",
   "metadata": {},
   "source": [
    "### Fama/French\n",
    "\n",
    "source : https://pydata.github.io/pandas-datareader/stable/remote_data.html#fama-french"
   ]
  },
  {
   "cell_type": "code",
   "execution_count": 46,
   "metadata": {},
   "outputs": [
    {
     "data": {
      "text/plain": [
       "{0:          Cnsmr  Manuf  HiTec  Hlth   Other\n",
       " Date                                      \n",
       " 2014-11   6.26  -2.04   4.00   2.66   2.73\n",
       " 2014-12   0.08   0.35  -1.38  -0.88   1.13\n",
       " 2015-01  -0.72  -3.11  -3.63   1.56  -6.19\n",
       " 2015-02   5.57   3.83   8.44   4.31   6.89\n",
       " 2015-03  -0.49  -1.91  -2.40   0.84  -0.77\n",
       " 2015-04  -1.05   1.79   1.77  -1.40   0.48\n",
       " 2015-05   1.14  -1.16   1.79   4.88   1.73\n",
       " 2015-06  -0.92  -3.07  -2.88   0.08  -0.32\n",
       " 2015-07   4.20  -3.28   2.19   3.66   2.02\n",
       " 2015-08  -5.00  -4.74  -6.40  -8.34  -6.18\n",
       " 2015-09  -1.51  -3.96  -1.70  -7.29  -3.07\n",
       " 2015-10   5.43   8.69   9.80   7.72   6.51\n",
       " 2015-11   0.29  -0.08   0.57   0.72   1.20\n",
       " 2015-12   0.13  -4.66  -2.59   0.38  -2.67\n",
       " 2016-01  -3.30  -3.46  -5.05  -9.40  -8.23\n",
       " 2016-02   0.51   1.39  -0.51  -1.06  -0.07\n",
       " 2016-03   5.81   8.10   7.91   2.92   7.05\n",
       " 2016-04  -0.13   3.49  -3.06   3.56   2.33\n",
       " 2016-05   0.74  -0.19   4.08   2.47   0.93\n",
       " 2016-06   1.73   2.65  -0.90   0.14  -2.70\n",
       " 2016-07   2.46   1.21   6.65   6.01   3.52\n",
       " 2016-08  -1.00   0.37   0.79  -3.21   3.36\n",
       " 2016-09  -1.44   1.05   2.03   0.35  -1.24\n",
       " 2016-10  -2.52  -2.31  -1.46  -7.44   0.61\n",
       " 2016-11   1.53   5.29   1.65   1.38  11.30\n",
       " 2016-12   1.33   1.57   1.62   0.85   2.93\n",
       " 2017-01   1.37   0.68   4.43   2.21   0.98\n",
       " 2017-02   2.99   2.26   3.95   7.10   3.74\n",
       " 2017-03   0.78  -0.18   1.91  -0.15  -1.68\n",
       " 2017-04   1.81   0.31   2.22   1.09   0.24\n",
       " 2017-05   2.00   0.32   3.11  -0.43  -0.43\n",
       " 2017-06  -1.18   0.29  -2.13   5.56   4.19\n",
       " 2017-07  -0.10   2.30   4.07   0.53   1.44\n",
       " 2017-08  -1.55  -0.81   1.97   1.79  -0.39\n",
       " 2017-09   1.73   4.68   0.17   1.50   4.31\n",
       " 2017-10   1.66   2.21   4.62  -2.24   2.04\n",
       " 2017-11   5.90   3.14   1.46   2.36   3.76\n",
       " 2017-12   2.02   1.59   0.56  -0.23   1.42\n",
       " 2018-01   6.32   2.55   6.84   6.38   5.90\n",
       " 2018-02  -5.31  -5.95  -1.21  -3.90  -3.31\n",
       " 2018-03  -2.31   0.12  -3.18  -2.00  -2.65\n",
       " 2018-04   1.07   1.32  -0.48  -0.28   0.44\n",
       " 2018-05   0.59   2.41   5.76   2.43   1.20\n",
       " 2018-06   3.30   0.13   0.52   1.52  -1.01\n",
       " 2018-07   2.70   3.34   2.32   6.09   4.00\n",
       " 2018-08   4.71  -0.78   6.72   4.46   2.44\n",
       " 2018-09   0.32   1.61   0.00   1.99  -1.22\n",
       " 2018-10  -5.97  -8.81  -7.68  -8.84  -6.59\n",
       " 2018-11   2.06   2.43  -1.03   6.30   3.07\n",
       " 2018-12  -9.87  -9.09  -8.24  -8.41 -10.62\n",
       " 2019-01   8.10   9.03   9.00   5.01   9.18\n",
       " 2019-02   1.23   4.23   5.24   3.05   2.77\n",
       " 2019-03   2.84   0.72   3.27   0.62  -1.27\n",
       " 2019-04   4.12   2.45   6.07  -3.05   6.61\n",
       " 2019-05  -6.34  -8.31  -7.82  -3.46  -6.21\n",
       " 2019-06   6.89   7.37   7.49   7.26   6.71\n",
       " 2019-07   1.19  -0.40   3.37  -1.81   1.55\n",
       " 2019-08  -0.59  -2.30  -2.35  -0.45  -4.39\n",
       " 2019-09   1.29   3.93   1.16  -0.54   1.98,\n",
       " 1:          Cnsmr  Manuf  HiTec  Hlth   Other\n",
       " Date                                      \n",
       " 2014-11   2.11  -5.45   1.54   0.52   0.40\n",
       " 2014-12   1.50  -1.91   1.86   5.27   2.88\n",
       " 2015-01  -2.71  -5.65  -3.25   2.73  -4.95\n",
       " 2015-02   4.79   7.56   7.35   9.24   5.00\n",
       " 2015-03   1.33  -2.38  -1.19   1.11   1.13\n",
       " 2015-04  -1.59   4.39   1.29  -4.17  -0.13\n",
       " 2015-05   0.15  -2.66   2.13   5.39   0.47\n",
       " 2015-06  -0.18  -3.83  -1.25   2.56   1.29\n",
       " 2015-07  -1.80  -8.57  -3.69  -0.41  -1.26\n",
       " 2015-08  -4.57  -2.33  -5.64  -7.14  -4.04\n",
       " 2015-09  -5.33  -9.56  -3.15 -11.49  -2.62\n",
       " 2015-10   4.39   7.56   5.93   2.88   4.87\n",
       " 2015-11  -0.42  -1.22   2.36   7.65   2.26\n",
       " 2015-12  -3.52  -7.31  -3.63  -5.74  -4.04\n",
       " 2016-01  -6.55  -8.09  -8.51 -18.49  -7.63\n",
       " 2016-02   3.39  -0.11   0.90  -3.03   0.32\n",
       " 2016-03   6.97  13.25   6.60   7.56   7.33\n",
       " 2016-04   0.64   8.36   1.31   5.13   3.46\n",
       " 2016-05  -2.27  -1.88   3.28   1.31   1.03\n",
       " 2016-06   0.98   1.43   1.60  -4.43  -1.18\n",
       " 2016-07   6.37   4.44   6.76   6.14   5.13\n",
       " 2016-08   1.66   2.69   2.58   0.88   2.81\n",
       " 2016-09  -0.70   1.79   1.86   7.89   0.87\n",
       " 2016-10  -4.17  -4.58  -5.15 -13.64  -2.13\n",
       " 2016-11   8.11  11.82   5.01   5.27  13.00\n",
       " 2016-12   1.87   1.60   0.74  -2.61   5.43\n",
       " 2017-01  -2.40   2.08   3.52   4.83   0.83\n",
       " 2017-02  -0.12  -0.52   2.04   6.35   1.57\n",
       " 2017-03   0.74  -0.38   1.62   2.14  -0.56\n",
       " 2017-04   1.63  -0.87   2.30  -3.09   0.43\n",
       " 2017-05  -2.38  -2.56   1.47  -4.91  -2.68\n",
       " 2017-06   1.00   0.71   1.19  10.27   4.63\n",
       " 2017-07  -1.81   0.85   1.46  -2.72   0.28\n",
       " 2017-08  -3.52  -3.74  -0.81   1.31  -1.90\n",
       " 2017-09   6.41   8.76   5.68   8.33   6.85\n",
       " 2017-10  -1.98   0.64   1.75  -2.31   0.71\n",
       " 2017-11   6.43   3.40   1.92   2.50   3.26\n",
       " 2017-12   2.87   2.27   1.21   1.00  -0.17\n",
       " 2018-01   1.67   0.33   3.98   6.89   2.64\n",
       " 2018-02  -4.74  -6.60  -1.63  -3.55  -4.01\n",
       " 2018-03   0.53   1.65   0.16   0.23   1.29\n",
       " 2018-04   0.91   2.29  -0.01  -0.21   0.97\n",
       " 2018-05   3.87   5.11   5.53   7.52   3.44\n",
       " 2018-06   4.10   1.76   1.28  -2.47   0.49\n",
       " 2018-07   0.17   1.61  -0.15  -1.55   1.00\n",
       " 2018-08   4.32  -0.84   7.34   5.84   1.83\n",
       " 2018-09  -2.06  -0.35  -1.97  -1.19  -2.42\n",
       " 2018-10  -8.26 -11.71 -10.29 -14.41  -8.07\n",
       " 2018-11  -1.35  -2.17   0.49  -0.38   0.57\n",
       " 2018-12 -12.93 -14.04 -10.29 -18.38 -11.22\n",
       " 2019-01  12.22  14.35  15.43  17.84  13.23\n",
       " 2019-02   4.30   4.12   6.38   6.56   4.55\n",
       " 2019-03  -3.38  -1.86  -0.83   3.00  -3.21\n",
       " 2019-04   2.55   2.49   4.72  -2.69   4.29\n",
       " 2019-05 -10.57 -11.16  -7.94  -8.37  -6.04\n",
       " 2019-06   6.37   6.78   5.06   4.41   5.57\n",
       " 2019-07  -0.03  -2.85   0.82  -4.95   0.69\n",
       " 2019-08  -3.94  -8.64  -5.41  -5.01  -4.52\n",
       " 2019-09   5.63   5.70   0.19  -2.97   3.24,\n",
       " 2:       Cnsmr  Manuf  HiTec  Hlth   Other\n",
       " Date                                   \n",
       " 2014  12.71   2.77  14.57  24.49  12.21\n",
       " 2015   6.75 -11.84   3.80   6.07  -1.32\n",
       " 2016   5.51  20.33  13.79  -4.47  20.16\n",
       " 2017  18.66  18.00  29.49  20.42  21.23\n",
       " 2018  -3.62 -11.23  -1.01   4.22  -9.18,\n",
       " 3:       Cnsmr  Manuf  HiTec  Hlth   Other\n",
       " Date                                   \n",
       " 2014   5.08  -9.10   2.24  14.29   7.58\n",
       " 2015  -9.57 -23.00  -3.59   0.42  -2.60\n",
       " 2016  16.31  32.70  17.08 -11.50  30.60\n",
       " 2017   6.46  10.58  25.85  24.93  13.65\n",
       " 2018 -14.33 -22.32  -6.98 -22.52 -13.71,\n",
       " 4:          Cnsmr  Manuf  HiTec  Hlth   Other\n",
       " Date                                      \n",
       " 2014-11    560    673    755    525   1101\n",
       " 2014-12    556    671    747    524   1094\n",
       " 2015-01    553    669    741    521   1090\n",
       " 2015-02    549    665    736    518   1085\n",
       " 2015-03    546    662    732    515   1078\n",
       " 2015-04    545    662    727    512   1071\n",
       " 2015-05    543    661    722    508   1070\n",
       " 2015-06    541    657    717    507   1064\n",
       " 2015-07    554    671    756    598   1127\n",
       " 2015-08    549    668    753    596   1124\n",
       " 2015-09    548    660    750    594   1120\n",
       " 2015-10    545    656    741    589   1109\n",
       " 2015-11    545    654    737    586   1103\n",
       " 2015-12    543    650    731    583   1093\n",
       " 2016-01    540    639    726    581   1085\n",
       " 2016-02    538    636    719    577   1077\n",
       " 2016-03    537    631    716    577   1068\n",
       " 2016-04    531    625    713    576   1066\n",
       " 2016-05    527    621    703    571   1057\n",
       " 2016-06    526    619    698    569   1052\n",
       " 2016-07    540    623    720    621   1102\n",
       " 2016-08    537    622    714    615   1092\n",
       " 2016-09    535    616    706    610   1083\n",
       " 2016-10    531    614    700    605   1080\n",
       " 2016-11    530    612    689    601   1077\n",
       " 2016-12    528    610    682    598   1068\n",
       " 2017-01    527    607    677    597   1066\n",
       " 2017-02    525    605    671    592   1061\n",
       " 2017-03    521    603    668    587   1056\n",
       " 2017-04    519    597    663    584   1049\n",
       " 2017-05    517    594    660    582   1040\n",
       " 2017-06    513    591    656    580   1030\n",
       " 2017-07    528    624    691    621   1098\n",
       " 2017-08    527    622    683    618   1096\n",
       " 2017-09    522    617    676    616   1091\n",
       " 2017-10    522    615    668    610   1079\n",
       " 2017-11    520    612    660    606   1069\n",
       " 2017-12    515    610    657    601   1059\n",
       " 2018-01    511    610    654    601   1054\n",
       " 2018-02    510    607    649    595   1049\n",
       " 2018-03    506    605    646    592   1046\n",
       " 2018-04    502    601    643    588   1039\n",
       " 2018-05    501    599    639    587   1037\n",
       " 2018-06    498    596    636    585   1032\n",
       " 2018-07    513    615    677    649   1087\n",
       " 2018-08    512    614    672    646   1082\n",
       " 2018-09    511    613    670    644   1079\n",
       " 2018-10    506    609    666    641   1071\n",
       " 2018-11    503    603    663    638   1064\n",
       " 2018-12    500    601    655    635   1060\n",
       " 2019-01    498    599    650    633   1052\n",
       " 2019-02    498    595    642    631   1049\n",
       " 2019-03    495    593    635    628   1044\n",
       " 2019-04    492    589    631    624   1038\n",
       " 2019-05    490    586    630    624   1034\n",
       " 2019-06    488    585    628    621   1033\n",
       " 2019-07    504    596    657    685   1072\n",
       " 2019-08    501    593    652    684   1066\n",
       " 2019-09    497    591    647    683   1057,\n",
       " 5:            Cnsmr    Manuf     HiTec    Hlth     Other\n",
       " Date                                                 \n",
       " 2014-11  6871.86  7259.79   7794.47  4834.06  5319.82\n",
       " 2014-12  7298.51  7107.05   8149.52  4962.30  5487.58\n",
       " 2015-01  7308.69  7134.09   8085.51  4918.29  5559.97\n",
       " 2015-02  7294.65  6944.07   7819.91  5009.22  5230.10\n",
       " 2015-03  7711.33  7216.09   8507.07  5081.58  5615.59\n",
       " 2015-04  7665.66  7067.25   8344.92  5128.38  5596.78\n",
       " 2015-05  7584.87  7196.83   8531.99  5046.85  5624.43\n",
       " 2015-06  7640.25  7120.85   8722.00  5278.23  5742.43\n",
       " 2015-07  7189.64  6712.33   7996.09  4746.48  5377.48\n",
       " 2015-08  7528.14  6489.62   8184.47  4919.55  5493.76\n",
       " 2015-09  7153.60  6232.70   7676.19  4489.62  5162.96\n",
       " 2015-10  7062.18  6009.57   7626.16  4177.46  5033.96\n",
       " 2015-11  7438.36  6542.07   8405.24  4490.15  5376.17\n",
       " 2015-12  7475.76  6538.62   8474.65  4533.42  5481.24\n",
       " 2016-01  7506.30  6328.55   8298.77  4550.76  5327.62\n",
       " 2016-02  7269.45  6080.65   7891.98  4137.60  4916.30\n",
       " 2016-03  7282.72  6176.17   7862.52  4084.18  4931.83\n",
       " 2016-04  7767.22  6683.27   8505.01  4204.35  5277.21\n",
       " 2016-05  7765.18  6953.67   8235.58  4389.51  5433.39\n",
       " 2016-06  7824.45  6935.39   8599.28  4496.37  5492.27\n",
       " 2016-07  7872.59  7000.33   8249.89  4126.73  5021.71\n",
       " 2016-08  8101.50  7085.63   8849.29  4410.35  5230.42\n",
       " 2016-09  8026.69  7090.02   8904.82  4269.49  5424.16\n",
       " 2016-10  7954.93  7158.23   9155.64  4312.32  5354.79\n",
       " 2016-11  7762.60  7002.63   9115.41  4013.45  5397.63\n",
       " 2016-12  7882.31  7366.76   9295.32  4072.43  6041.76\n",
       " 2017-01  7983.02  7492.13   9502.56  4070.43  6217.35\n",
       " 2017-02  8115.24  7508.85   9987.57  4182.00  6298.71\n",
       " 2017-03  8394.38  7675.42  10380.07  4498.51  6546.70\n",
       " 2017-04  8445.18  7703.56  10648.78  4505.40  6465.21\n",
       " 2017-05  8623.59  7754.70  10917.25  4566.38  6524.29\n",
       " 2017-06  8801.46  7768.06  11226.50  4551.40  6530.84\n",
       " 2017-07  8151.65  7466.56  10457.51  4483.60  6414.25\n",
       " 2017-08  8126.73  7641.87  10992.49  4521.28  6513.23\n",
       " 2017-09  8022.87  7358.65  11302.95  4605.61  6499.82\n",
       " 2017-10  8147.78  7717.67  11436.93  4692.56  6838.71\n",
       " 2017-11  8299.74  7907.94  12055.54  4614.06  7034.24\n",
       " 2017-12  8851.94  8154.46  12266.33  4711.61  7344.67\n",
       " 2018-01  9073.77  8274.34  12377.18  4695.66  7474.19\n",
       " 2018-02  9653.12  8520.31  13300.71  5036.41  7939.35\n",
       " 2018-03  9184.85  8010.51  13161.52  4818.73  7676.19\n",
       " 2018-04  9000.91  8057.87  12774.17  4747.67  7507.50\n",
       " 2018-05  9108.27  8182.92  12753.00  4727.34  7549.76\n",
       " 2018-06  9084.69  8364.83  13403.49  4845.48  7660.57\n",
       " 2018-07  8927.67  8356.56  12790.89  4521.82  7127.51\n",
       " 2018-08  9179.50  8639.55  13163.16  4810.82  7435.40\n",
       " 2018-09  9612.41  8555.50  14070.85  5030.74  7620.89\n",
       " 2018-10  9693.91  8622.02  14141.35  5141.05  7567.55\n",
       " 2018-11  9162.02  7875.40  13070.84  4697.89  7040.75\n",
       " 2018-12  9278.42  8060.40  13037.70  5004.33  7263.01\n",
       " 2019-01  8374.36  7329.48  12020.38  4586.21  6526.85\n",
       " 2019-02  9046.27  8017.58  13231.50  4808.43  7132.33\n",
       " 2019-03  9195.82  8351.56  13901.83  4969.76  7344.83\n",
       " 2019-04  9489.44  8443.61  14415.51  5026.26  7281.15\n",
       " 2019-05  9913.24  8685.23  15283.56  4867.80  7783.33\n",
       " 2019-06  9305.44  7934.16  14108.45  4710.74  7291.37\n",
       " 2019-07  9673.12  8411.09  14285.78  4621.54  7452.34\n",
       " 2019-08  9836.68  8349.36  14838.39  4539.33  7598.75\n",
       " 2019-09  9836.21  8148.77  14569.42  4515.42  7287.61,\n",
       " 6:       Cnsmr  Manuf  HiTec  Hlth   Other\n",
       " Date                                   \n",
       " 2014   0.27   0.40   0.29   0.23   0.56\n",
       " 2015   0.25   0.45   0.27   0.20   0.55\n",
       " 2016   0.24   0.42   0.29   0.22   0.60\n",
       " 2017   0.25   0.38   0.24   0.20   0.48\n",
       " 2018   0.23   0.38   0.22   0.20   0.46\n",
       " 2019   0.22   0.41   0.21   0.19   0.46,\n",
       " 7:       Cnsmr  Manuf  HiTec  Hlth   Other\n",
       " Date                                   \n",
       " 2014   0.28   0.44   0.30   0.25   0.57\n",
       " 2015   0.25   0.42   0.27   0.21   0.56\n",
       " 2016   0.25   0.48   0.30   0.23   0.57\n",
       " 2017   0.25   0.37   0.27   0.23   0.51\n",
       " 2018   0.22   0.39   0.23   0.20   0.45\n",
       " 2019   0.25   0.45   0.25   0.21   0.53,\n",
       " 'DESCR': '5 Industry Portfolios\\n---------------------\\n\\nThis file was created by CMPT_IND_RETS using the 201909 CRSP database. It contains value- and equal-weighted returns for 5 industry portfolios. The portfolios are constructed at the end of June. The annual returns are from January to December. Missing data are indicated by -99.99 or -999. Copyright 2019 Kenneth R. French\\n\\n  0 : Average Value Weighted Returns -- Monthly (59 rows x 5 cols)\\n  1 : Average Equal Weighted Returns -- Monthly (59 rows x 5 cols)\\n  2 : Average Value Weighted Returns -- Annual (5 rows x 5 cols)\\n  3 : Average Equal Weighted Returns -- Annual (5 rows x 5 cols)\\n  4 : Number of Firms in Portfolios (59 rows x 5 cols)\\n  5 : Average Firm Size (59 rows x 5 cols)\\n  6 : Sum of BE / Sum of ME (6 rows x 5 cols)\\n  7 : Value-Weighted Average of BE/ME (6 rows x 5 cols)'}"
      ]
     },
     "execution_count": 46,
     "metadata": {},
     "output_type": "execute_result"
    }
   ],
   "source": [
    "from pandas_datareader import data \n",
    "ds = data.DataReader('5_Industry_Portfolios', 'famafrench')\n",
    "ds"
   ]
  },
  {
   "cell_type": "code",
   "execution_count": 47,
   "metadata": {},
   "outputs": [
    {
     "data": {
      "text/plain": [
       "dict_keys([0, 1, 2, 3, 4, 5, 6, 7, 'DESCR'])"
      ]
     },
     "execution_count": 47,
     "metadata": {},
     "output_type": "execute_result"
    }
   ],
   "source": [
    "ds.keys()"
   ]
  },
  {
   "cell_type": "code",
   "execution_count": 48,
   "metadata": {},
   "outputs": [
    {
     "data": {
      "text/plain": [
       "'5 Industry Portfolios\\n---------------------\\n\\nThis file was created by CMPT_IND_RETS using the 201909 CRSP database. It contains value- and equal-weighted returns for 5 industry portfolios. The portfolios are constructed at the end of June. The annual returns are from January to December. Missing data are indicated by -99.99 or -999. Copyright 2019 Kenneth R. French\\n\\n  0 : Average Value Weighted Returns -- Monthly (59 rows x 5 cols)\\n  1 : Average Equal Weighted Returns -- Monthly (59 rows x 5 cols)\\n  2 : Average Value Weighted Returns -- Annual (5 rows x 5 cols)\\n  3 : Average Equal Weighted Returns -- Annual (5 rows x 5 cols)\\n  4 : Number of Firms in Portfolios (59 rows x 5 cols)\\n  5 : Average Firm Size (59 rows x 5 cols)\\n  6 : Sum of BE / Sum of ME (6 rows x 5 cols)\\n  7 : Value-Weighted Average of BE/ME (6 rows x 5 cols)'"
      ]
     },
     "execution_count": 48,
     "metadata": {},
     "output_type": "execute_result"
    }
   ],
   "source": [
    "ds[\"DESCR\"]"
   ]
  },
  {
   "cell_type": "markdown",
   "metadata": {},
   "source": [
    "### World Bank\n",
    "\n",
    "- Using wb.search, we can search any data that we want.\n",
    "- To use it, we need to specify the keyword in a string. If we have multiple keywords, we can separate them with **\".\"** .\n",
    "- Then, we can download the data using the ID column as a reference."
   ]
  },
  {
   "cell_type": "code",
   "execution_count": 52,
   "metadata": {},
   "outputs": [
    {
     "data": {
      "text/html": [
       "<div>\n",
       "<style scoped>\n",
       "    .dataframe tbody tr th:only-of-type {\n",
       "        vertical-align: middle;\n",
       "    }\n",
       "\n",
       "    .dataframe tbody tr th {\n",
       "        vertical-align: top;\n",
       "    }\n",
       "\n",
       "    .dataframe thead th {\n",
       "        text-align: right;\n",
       "    }\n",
       "</style>\n",
       "<table border=\"1\" class=\"dataframe\">\n",
       "  <thead>\n",
       "    <tr style=\"text-align: right;\">\n",
       "      <th></th>\n",
       "      <th>id</th>\n",
       "      <th>name</th>\n",
       "      <th>unit</th>\n",
       "      <th>source</th>\n",
       "      <th>sourceNote</th>\n",
       "      <th>sourceOrganization</th>\n",
       "      <th>topics</th>\n",
       "    </tr>\n",
       "  </thead>\n",
       "  <tbody>\n",
       "    <tr>\n",
       "      <td>641</td>\n",
       "      <td>5.51.01.10.gdp</td>\n",
       "      <td>Per capita GDP growth</td>\n",
       "      <td></td>\n",
       "      <td>Statistical Capacity Indicators</td>\n",
       "      <td>GDP per capita is the sum of gross value added...</td>\n",
       "      <td>b'World Development Indicator (WDI) databank. ...</td>\n",
       "      <td></td>\n",
       "    </tr>\n",
       "    <tr>\n",
       "      <td>643</td>\n",
       "      <td>6.0.GDP_current</td>\n",
       "      <td>GDP (current $)</td>\n",
       "      <td></td>\n",
       "      <td>LAC Equity Lab</td>\n",
       "      <td>GDP is the sum of gross value added by all res...</td>\n",
       "      <td>b'World Development Indicators (World Bank)'</td>\n",
       "      <td>Economy &amp; Growth</td>\n",
       "    </tr>\n",
       "    <tr>\n",
       "      <td>644</td>\n",
       "      <td>6.0.GDP_growth</td>\n",
       "      <td>GDP growth (annual %)</td>\n",
       "      <td></td>\n",
       "      <td>LAC Equity Lab</td>\n",
       "      <td>Annual percentage growth rate of GDP at market...</td>\n",
       "      <td>b'World Development Indicators (World Bank)'</td>\n",
       "      <td>Economy &amp; Growth</td>\n",
       "    </tr>\n",
       "    <tr>\n",
       "      <td>645</td>\n",
       "      <td>6.0.GDP_usd</td>\n",
       "      <td>GDP (constant 2005 $)</td>\n",
       "      <td></td>\n",
       "      <td>LAC Equity Lab</td>\n",
       "      <td>GDP is the sum of gross value added by all res...</td>\n",
       "      <td>b'World Development Indicators (World Bank)'</td>\n",
       "      <td>Economy &amp; Growth</td>\n",
       "    </tr>\n",
       "    <tr>\n",
       "      <td>646</td>\n",
       "      <td>6.0.GDPpc_constant</td>\n",
       "      <td>GDP per capita, PPP (constant 2011 internation...</td>\n",
       "      <td></td>\n",
       "      <td>LAC Equity Lab</td>\n",
       "      <td>GDP per capita based on purchasing power parit...</td>\n",
       "      <td>b'World Development Indicators (World Bank)'</td>\n",
       "      <td>Economy &amp; Growth</td>\n",
       "    </tr>\n",
       "    <tr>\n",
       "      <td>...</td>\n",
       "      <td>...</td>\n",
       "      <td>...</td>\n",
       "      <td>...</td>\n",
       "      <td>...</td>\n",
       "      <td>...</td>\n",
       "      <td>...</td>\n",
       "      <td>...</td>\n",
       "    </tr>\n",
       "    <tr>\n",
       "      <td>13449</td>\n",
       "      <td>UIS.XUNIT.GDPCAP.23.FSGOV</td>\n",
       "      <td>Initial government funding per secondary stude...</td>\n",
       "      <td></td>\n",
       "      <td>Education Statistics</td>\n",
       "      <td></td>\n",
       "      <td>b''</td>\n",
       "      <td></td>\n",
       "    </tr>\n",
       "    <tr>\n",
       "      <td>13450</td>\n",
       "      <td>UIS.XUNIT.GDPCAP.23.FSHH</td>\n",
       "      <td>Initial household funding per secondary studen...</td>\n",
       "      <td></td>\n",
       "      <td>Education Statistics</td>\n",
       "      <td></td>\n",
       "      <td>b''</td>\n",
       "      <td></td>\n",
       "    </tr>\n",
       "    <tr>\n",
       "      <td>13451</td>\n",
       "      <td>UIS.XUNIT.GDPCAP.3.FSGOV</td>\n",
       "      <td>Initial government funding per upper secondary...</td>\n",
       "      <td></td>\n",
       "      <td>Education Statistics</td>\n",
       "      <td>Average total (current, capital and transfers)...</td>\n",
       "      <td>b'UNESCO Institute for Statistics'</td>\n",
       "      <td></td>\n",
       "    </tr>\n",
       "    <tr>\n",
       "      <td>13452</td>\n",
       "      <td>UIS.XUNIT.GDPCAP.5T8.FSGOV</td>\n",
       "      <td>Initial government funding per tertiary studen...</td>\n",
       "      <td></td>\n",
       "      <td>Education Statistics</td>\n",
       "      <td></td>\n",
       "      <td>b''</td>\n",
       "      <td></td>\n",
       "    </tr>\n",
       "    <tr>\n",
       "      <td>13453</td>\n",
       "      <td>UIS.XUNIT.GDPCAP.5T8.FSHH</td>\n",
       "      <td>Initial household funding per tertiary student...</td>\n",
       "      <td></td>\n",
       "      <td>Education Statistics</td>\n",
       "      <td></td>\n",
       "      <td>b''</td>\n",
       "      <td></td>\n",
       "    </tr>\n",
       "  </tbody>\n",
       "</table>\n",
       "<p>494 rows × 7 columns</p>\n",
       "</div>"
      ],
      "text/plain": [
       "                               id  \\\n",
       "641                5.51.01.10.gdp   \n",
       "643               6.0.GDP_current   \n",
       "644                6.0.GDP_growth   \n",
       "645                   6.0.GDP_usd   \n",
       "646            6.0.GDPpc_constant   \n",
       "...                           ...   \n",
       "13449   UIS.XUNIT.GDPCAP.23.FSGOV   \n",
       "13450    UIS.XUNIT.GDPCAP.23.FSHH   \n",
       "13451    UIS.XUNIT.GDPCAP.3.FSGOV   \n",
       "13452  UIS.XUNIT.GDPCAP.5T8.FSGOV   \n",
       "13453   UIS.XUNIT.GDPCAP.5T8.FSHH   \n",
       "\n",
       "                                                    name unit  \\\n",
       "641                                Per capita GDP growth        \n",
       "643                                      GDP (current $)        \n",
       "644                                GDP growth (annual %)        \n",
       "645                                GDP (constant 2005 $)        \n",
       "646    GDP per capita, PPP (constant 2011 internation...        \n",
       "...                                                  ...  ...   \n",
       "13449  Initial government funding per secondary stude...        \n",
       "13450  Initial household funding per secondary studen...        \n",
       "13451  Initial government funding per upper secondary...        \n",
       "13452  Initial government funding per tertiary studen...        \n",
       "13453  Initial household funding per tertiary student...        \n",
       "\n",
       "                                source  \\\n",
       "641    Statistical Capacity Indicators   \n",
       "643                     LAC Equity Lab   \n",
       "644                     LAC Equity Lab   \n",
       "645                     LAC Equity Lab   \n",
       "646                     LAC Equity Lab   \n",
       "...                                ...   \n",
       "13449             Education Statistics   \n",
       "13450             Education Statistics   \n",
       "13451             Education Statistics   \n",
       "13452             Education Statistics   \n",
       "13453             Education Statistics   \n",
       "\n",
       "                                              sourceNote  \\\n",
       "641    GDP per capita is the sum of gross value added...   \n",
       "643    GDP is the sum of gross value added by all res...   \n",
       "644    Annual percentage growth rate of GDP at market...   \n",
       "645    GDP is the sum of gross value added by all res...   \n",
       "646    GDP per capita based on purchasing power parit...   \n",
       "...                                                  ...   \n",
       "13449                                                      \n",
       "13450                                                      \n",
       "13451  Average total (current, capital and transfers)...   \n",
       "13452                                                      \n",
       "13453                                                      \n",
       "\n",
       "                                      sourceOrganization            topics  \n",
       "641    b'World Development Indicator (WDI) databank. ...                    \n",
       "643         b'World Development Indicators (World Bank)'  Economy & Growth  \n",
       "644         b'World Development Indicators (World Bank)'  Economy & Growth  \n",
       "645         b'World Development Indicators (World Bank)'  Economy & Growth  \n",
       "646         b'World Development Indicators (World Bank)'  Economy & Growth  \n",
       "...                                                  ...               ...  \n",
       "13449                                                b''                    \n",
       "13450                                                b''                    \n",
       "13451                 b'UNESCO Institute for Statistics'                    \n",
       "13452                                                b''                    \n",
       "13453                                                b''                    \n",
       "\n",
       "[494 rows x 7 columns]"
      ]
     },
     "execution_count": 52,
     "metadata": {},
     "output_type": "execute_result"
    }
   ],
   "source": [
    "from pandas_datareader import wb\n",
    "matches = wb.search('gdp')\n",
    "matches"
   ]
  },
  {
   "cell_type": "code",
   "execution_count": 53,
   "metadata": {},
   "outputs": [],
   "source": [
    "data = wb.download(indicator='6.0.GDP_usd',  start=1995, end=2010)"
   ]
  },
  {
   "cell_type": "code",
   "execution_count": 54,
   "metadata": {},
   "outputs": [
    {
     "data": {
      "text/html": [
       "<div>\n",
       "<style scoped>\n",
       "    .dataframe tbody tr th:only-of-type {\n",
       "        vertical-align: middle;\n",
       "    }\n",
       "\n",
       "    .dataframe tbody tr th {\n",
       "        vertical-align: top;\n",
       "    }\n",
       "\n",
       "    .dataframe thead th {\n",
       "        text-align: right;\n",
       "    }\n",
       "</style>\n",
       "<table border=\"1\" class=\"dataframe\">\n",
       "  <thead>\n",
       "    <tr style=\"text-align: right;\">\n",
       "      <th></th>\n",
       "      <th></th>\n",
       "      <th>6.0.GDP_usd</th>\n",
       "    </tr>\n",
       "    <tr>\n",
       "      <th>country</th>\n",
       "      <th>year</th>\n",
       "      <th></th>\n",
       "    </tr>\n",
       "  </thead>\n",
       "  <tbody>\n",
       "    <tr>\n",
       "      <td rowspan=\"11\" valign=\"top\">Mexico</td>\n",
       "      <td>2010</td>\n",
       "      <td>9.534405e+11</td>\n",
       "    </tr>\n",
       "    <tr>\n",
       "      <td>2009</td>\n",
       "      <td>9.063198e+11</td>\n",
       "    </tr>\n",
       "    <tr>\n",
       "      <td>2008</td>\n",
       "      <td>9.514536e+11</td>\n",
       "    </tr>\n",
       "    <tr>\n",
       "      <td>2007</td>\n",
       "      <td>9.385028e+11</td>\n",
       "    </tr>\n",
       "    <tr>\n",
       "      <td>2006</td>\n",
       "      <td>9.091831e+11</td>\n",
       "    </tr>\n",
       "    <tr>\n",
       "      <td>2005</td>\n",
       "      <td>8.663465e+11</td>\n",
       "    </tr>\n",
       "    <tr>\n",
       "      <td>2004</td>\n",
       "      <td>8.408472e+11</td>\n",
       "    </tr>\n",
       "    <tr>\n",
       "      <td>2003</td>\n",
       "      <td>8.062145e+11</td>\n",
       "    </tr>\n",
       "    <tr>\n",
       "      <td>2002</td>\n",
       "      <td>7.949056e+11</td>\n",
       "    </tr>\n",
       "    <tr>\n",
       "      <td>2001</td>\n",
       "      <td>7.938584e+11</td>\n",
       "    </tr>\n",
       "    <tr>\n",
       "      <td>2000</td>\n",
       "      <td>7.986944e+11</td>\n",
       "    </tr>\n",
       "  </tbody>\n",
       "</table>\n",
       "</div>"
      ],
      "text/plain": [
       "               6.0.GDP_usd\n",
       "country year              \n",
       "Mexico  2010  9.534405e+11\n",
       "        2009  9.063198e+11\n",
       "        2008  9.514536e+11\n",
       "        2007  9.385028e+11\n",
       "        2006  9.091831e+11\n",
       "        2005  8.663465e+11\n",
       "        2004  8.408472e+11\n",
       "        2003  8.062145e+11\n",
       "        2002  7.949056e+11\n",
       "        2001  7.938584e+11\n",
       "        2000  7.986944e+11"
      ]
     },
     "execution_count": 54,
     "metadata": {},
     "output_type": "execute_result"
    }
   ],
   "source": [
    "data"
   ]
  },
  {
   "cell_type": "markdown",
   "metadata": {},
   "source": [
    "### Historical data — Moscow Exchange "
   ]
  },
  {
   "cell_type": "code",
   "execution_count": 55,
   "metadata": {},
   "outputs": [
    {
     "data": {
      "text/html": [
       "<div>\n",
       "<style scoped>\n",
       "    .dataframe tbody tr th:only-of-type {\n",
       "        vertical-align: middle;\n",
       "    }\n",
       "\n",
       "    .dataframe tbody tr th {\n",
       "        vertical-align: top;\n",
       "    }\n",
       "\n",
       "    .dataframe thead th {\n",
       "        text-align: right;\n",
       "    }\n",
       "</style>\n",
       "<table border=\"1\" class=\"dataframe\">\n",
       "  <thead>\n",
       "    <tr style=\"text-align: right;\">\n",
       "      <th></th>\n",
       "      <th>BOARDID</th>\n",
       "      <th>SHORTNAME</th>\n",
       "      <th>SECID</th>\n",
       "      <th>OPEN</th>\n",
       "      <th>LOW</th>\n",
       "      <th>HIGH</th>\n",
       "      <th>CLOSE</th>\n",
       "      <th>NUMTRADES</th>\n",
       "      <th>VOLRUR</th>\n",
       "      <th>WAPRICE</th>\n",
       "    </tr>\n",
       "    <tr>\n",
       "      <th>TRADEDATE</th>\n",
       "      <th></th>\n",
       "      <th></th>\n",
       "      <th></th>\n",
       "      <th></th>\n",
       "      <th></th>\n",
       "      <th></th>\n",
       "      <th></th>\n",
       "      <th></th>\n",
       "      <th></th>\n",
       "      <th></th>\n",
       "    </tr>\n",
       "  </thead>\n",
       "  <tbody>\n",
       "    <tr>\n",
       "      <td>2017-07-03</td>\n",
       "      <td>CNGD</td>\n",
       "      <td>USDRUB_TOM</td>\n",
       "      <td>USD000UTSTOM</td>\n",
       "      <td>58.98</td>\n",
       "      <td>58.840</td>\n",
       "      <td>59.4250</td>\n",
       "      <td>59.3600</td>\n",
       "      <td>24</td>\n",
       "      <td>1.864785e+09</td>\n",
       "      <td>NaN</td>\n",
       "    </tr>\n",
       "    <tr>\n",
       "      <td>2017-07-04</td>\n",
       "      <td>CETS</td>\n",
       "      <td>USDRUB_TOM</td>\n",
       "      <td>USD000UTSTOM</td>\n",
       "      <td>59.30</td>\n",
       "      <td>59.135</td>\n",
       "      <td>59.4575</td>\n",
       "      <td>59.4125</td>\n",
       "      <td>21053</td>\n",
       "      <td>1.090265e+11</td>\n",
       "      <td>59.2700</td>\n",
       "    </tr>\n",
       "    <tr>\n",
       "      <td>2017-07-04</td>\n",
       "      <td>CNGD</td>\n",
       "      <td>USDRUB_TOM</td>\n",
       "      <td>USD000UTSTOM</td>\n",
       "      <td>59.36</td>\n",
       "      <td>58.930</td>\n",
       "      <td>59.3600</td>\n",
       "      <td>59.3575</td>\n",
       "      <td>37</td>\n",
       "      <td>1.046416e+09</td>\n",
       "      <td>NaN</td>\n",
       "    </tr>\n",
       "    <tr>\n",
       "      <td>2017-07-05</td>\n",
       "      <td>CETS</td>\n",
       "      <td>USDRUB_TOM</td>\n",
       "      <td>USD000UTSTOM</td>\n",
       "      <td>59.30</td>\n",
       "      <td>59.300</td>\n",
       "      <td>60.2600</td>\n",
       "      <td>59.9825</td>\n",
       "      <td>50108</td>\n",
       "      <td>2.874226e+11</td>\n",
       "      <td>59.9234</td>\n",
       "    </tr>\n",
       "    <tr>\n",
       "      <td>2017-07-05</td>\n",
       "      <td>CNGD</td>\n",
       "      <td>USDRUB_TOM</td>\n",
       "      <td>USD000UTSTOM</td>\n",
       "      <td>59.34</td>\n",
       "      <td>59.265</td>\n",
       "      <td>60.1800</td>\n",
       "      <td>60.1800</td>\n",
       "      <td>35</td>\n",
       "      <td>6.339036e+09</td>\n",
       "      <td>NaN</td>\n",
       "    </tr>\n",
       "  </tbody>\n",
       "</table>\n",
       "</div>"
      ],
      "text/plain": [
       "           BOARDID   SHORTNAME         SECID   OPEN     LOW     HIGH    CLOSE  \\\n",
       "TRADEDATE                                                                       \n",
       "2017-07-03    CNGD  USDRUB_TOM  USD000UTSTOM  58.98  58.840  59.4250  59.3600   \n",
       "2017-07-04    CETS  USDRUB_TOM  USD000UTSTOM  59.30  59.135  59.4575  59.4125   \n",
       "2017-07-04    CNGD  USDRUB_TOM  USD000UTSTOM  59.36  58.930  59.3600  59.3575   \n",
       "2017-07-05    CETS  USDRUB_TOM  USD000UTSTOM  59.30  59.300  60.2600  59.9825   \n",
       "2017-07-05    CNGD  USDRUB_TOM  USD000UTSTOM  59.34  59.265  60.1800  60.1800   \n",
       "\n",
       "            NUMTRADES        VOLRUR  WAPRICE  \n",
       "TRADEDATE                                     \n",
       "2017-07-03         24  1.864785e+09      NaN  \n",
       "2017-07-04      21053  1.090265e+11  59.2700  \n",
       "2017-07-04         37  1.046416e+09      NaN  \n",
       "2017-07-05      50108  2.874226e+11  59.9234  \n",
       "2017-07-05         35  6.339036e+09      NaN  "
      ]
     },
     "execution_count": 55,
     "metadata": {},
     "output_type": "execute_result"
    }
   ],
   "source": [
    "from pandas_datareader import data \n",
    "f = data.DataReader('USD000UTSTOM', 'moex', start='2017-07-01', end='2017-07-31')\n",
    "f.head()"
   ]
  },
  {
   "cell_type": "markdown",
   "metadata": {},
   "source": [
    "### 9. Selecting DataFrame with DataTimeIndex\n",
    "\n",
    "Let's use the data from Moscow Exchange."
   ]
  },
  {
   "cell_type": "code",
   "execution_count": 56,
   "metadata": {},
   "outputs": [
    {
     "data": {
      "text/html": [
       "<div>\n",
       "<style scoped>\n",
       "    .dataframe tbody tr th:only-of-type {\n",
       "        vertical-align: middle;\n",
       "    }\n",
       "\n",
       "    .dataframe tbody tr th {\n",
       "        vertical-align: top;\n",
       "    }\n",
       "\n",
       "    .dataframe thead th {\n",
       "        text-align: right;\n",
       "    }\n",
       "</style>\n",
       "<table border=\"1\" class=\"dataframe\">\n",
       "  <thead>\n",
       "    <tr style=\"text-align: right;\">\n",
       "      <th></th>\n",
       "      <th>GDP</th>\n",
       "    </tr>\n",
       "    <tr>\n",
       "      <th>DATE</th>\n",
       "      <th></th>\n",
       "    </tr>\n",
       "  </thead>\n",
       "  <tbody>\n",
       "    <tr>\n",
       "      <td>1990-01-01</td>\n",
       "      <td>5872.701</td>\n",
       "    </tr>\n",
       "    <tr>\n",
       "      <td>1990-04-01</td>\n",
       "      <td>5960.028</td>\n",
       "    </tr>\n",
       "    <tr>\n",
       "      <td>1990-07-01</td>\n",
       "      <td>6015.116</td>\n",
       "    </tr>\n",
       "    <tr>\n",
       "      <td>1990-10-01</td>\n",
       "      <td>6004.733</td>\n",
       "    </tr>\n",
       "    <tr>\n",
       "      <td>1991-01-01</td>\n",
       "      <td>6035.178</td>\n",
       "    </tr>\n",
       "  </tbody>\n",
       "</table>\n",
       "</div>"
      ],
      "text/plain": [
       "                 GDP\n",
       "DATE                \n",
       "1990-01-01  5872.701\n",
       "1990-04-01  5960.028\n",
       "1990-07-01  6015.116\n",
       "1990-10-01  6004.733\n",
       "1991-01-01  6035.178"
      ]
     },
     "execution_count": 56,
     "metadata": {},
     "output_type": "execute_result"
    }
   ],
   "source": [
    "from pandas_datareader import data \n",
    "gdp = data.DataReader('GDP', 'fred', start=\"1990-01-01\", end=\"2018-12-01\")\n",
    "gdp.head()"
   ]
  },
  {
   "cell_type": "markdown",
   "metadata": {},
   "source": [
    "Extracting specific data/row"
   ]
  },
  {
   "cell_type": "code",
   "execution_count": 57,
   "metadata": {},
   "outputs": [
    {
     "data": {
      "text/plain": [
       "GDP    5872.701\n",
       "Name: 1990-01-01 00:00:00, dtype: float64"
      ]
     },
     "execution_count": 57,
     "metadata": {},
     "output_type": "execute_result"
    }
   ],
   "source": [
    "gdp.loc[\"1990-01-01\"]"
   ]
  },
  {
   "cell_type": "markdown",
   "metadata": {},
   "source": [
    "Extracting a range of data"
   ]
  },
  {
   "cell_type": "code",
   "execution_count": 58,
   "metadata": {},
   "outputs": [
    {
     "data": {
      "text/html": [
       "<div>\n",
       "<style scoped>\n",
       "    .dataframe tbody tr th:only-of-type {\n",
       "        vertical-align: middle;\n",
       "    }\n",
       "\n",
       "    .dataframe tbody tr th {\n",
       "        vertical-align: top;\n",
       "    }\n",
       "\n",
       "    .dataframe thead th {\n",
       "        text-align: right;\n",
       "    }\n",
       "</style>\n",
       "<table border=\"1\" class=\"dataframe\">\n",
       "  <thead>\n",
       "    <tr style=\"text-align: right;\">\n",
       "      <th></th>\n",
       "      <th>GDP</th>\n",
       "    </tr>\n",
       "    <tr>\n",
       "      <th>DATE</th>\n",
       "      <th></th>\n",
       "    </tr>\n",
       "  </thead>\n",
       "  <tbody>\n",
       "    <tr>\n",
       "      <td>1998-01-01</td>\n",
       "      <td>8866.480</td>\n",
       "    </tr>\n",
       "    <tr>\n",
       "      <td>1998-04-01</td>\n",
       "      <td>8969.699</td>\n",
       "    </tr>\n",
       "    <tr>\n",
       "      <td>1998-07-01</td>\n",
       "      <td>9121.097</td>\n",
       "    </tr>\n",
       "    <tr>\n",
       "      <td>1998-10-01</td>\n",
       "      <td>9293.991</td>\n",
       "    </tr>\n",
       "    <tr>\n",
       "      <td>1999-01-01</td>\n",
       "      <td>9417.264</td>\n",
       "    </tr>\n",
       "    <tr>\n",
       "      <td>1999-04-01</td>\n",
       "      <td>9524.152</td>\n",
       "    </tr>\n",
       "    <tr>\n",
       "      <td>1999-07-01</td>\n",
       "      <td>9681.856</td>\n",
       "    </tr>\n",
       "    <tr>\n",
       "      <td>1999-10-01</td>\n",
       "      <td>9899.378</td>\n",
       "    </tr>\n",
       "    <tr>\n",
       "      <td>2000-01-01</td>\n",
       "      <td>10002.857</td>\n",
       "    </tr>\n",
       "    <tr>\n",
       "      <td>2000-04-01</td>\n",
       "      <td>10247.679</td>\n",
       "    </tr>\n",
       "    <tr>\n",
       "      <td>2000-07-01</td>\n",
       "      <td>10319.825</td>\n",
       "    </tr>\n",
       "    <tr>\n",
       "      <td>2000-10-01</td>\n",
       "      <td>10439.025</td>\n",
       "    </tr>\n",
       "    <tr>\n",
       "      <td>2001-01-01</td>\n",
       "      <td>10472.879</td>\n",
       "    </tr>\n",
       "    <tr>\n",
       "      <td>2001-04-01</td>\n",
       "      <td>10597.822</td>\n",
       "    </tr>\n",
       "    <tr>\n",
       "      <td>2001-07-01</td>\n",
       "      <td>10596.294</td>\n",
       "    </tr>\n",
       "    <tr>\n",
       "      <td>2001-10-01</td>\n",
       "      <td>10660.294</td>\n",
       "    </tr>\n",
       "    <tr>\n",
       "      <td>2002-01-01</td>\n",
       "      <td>10788.952</td>\n",
       "    </tr>\n",
       "    <tr>\n",
       "      <td>2002-04-01</td>\n",
       "      <td>10893.207</td>\n",
       "    </tr>\n",
       "    <tr>\n",
       "      <td>2002-07-01</td>\n",
       "      <td>10992.051</td>\n",
       "    </tr>\n",
       "    <tr>\n",
       "      <td>2002-10-01</td>\n",
       "      <td>11071.463</td>\n",
       "    </tr>\n",
       "    <tr>\n",
       "      <td>2003-01-01</td>\n",
       "      <td>11183.507</td>\n",
       "    </tr>\n",
       "    <tr>\n",
       "      <td>2003-04-01</td>\n",
       "      <td>11312.875</td>\n",
       "    </tr>\n",
       "    <tr>\n",
       "      <td>2003-07-01</td>\n",
       "      <td>11567.326</td>\n",
       "    </tr>\n",
       "    <tr>\n",
       "      <td>2003-10-01</td>\n",
       "      <td>11769.275</td>\n",
       "    </tr>\n",
       "    <tr>\n",
       "      <td>2004-01-01</td>\n",
       "      <td>11920.169</td>\n",
       "    </tr>\n",
       "    <tr>\n",
       "      <td>2004-04-01</td>\n",
       "      <td>12108.987</td>\n",
       "    </tr>\n",
       "    <tr>\n",
       "      <td>2004-07-01</td>\n",
       "      <td>12303.340</td>\n",
       "    </tr>\n",
       "    <tr>\n",
       "      <td>2004-10-01</td>\n",
       "      <td>12522.425</td>\n",
       "    </tr>\n",
       "    <tr>\n",
       "      <td>2005-01-01</td>\n",
       "      <td>12761.337</td>\n",
       "    </tr>\n",
       "    <tr>\n",
       "      <td>2005-04-01</td>\n",
       "      <td>12910.022</td>\n",
       "    </tr>\n",
       "    <tr>\n",
       "      <td>2005-07-01</td>\n",
       "      <td>13142.873</td>\n",
       "    </tr>\n",
       "    <tr>\n",
       "      <td>2005-10-01</td>\n",
       "      <td>13332.316</td>\n",
       "    </tr>\n",
       "    <tr>\n",
       "      <td>2006-01-01</td>\n",
       "      <td>13603.933</td>\n",
       "    </tr>\n",
       "    <tr>\n",
       "      <td>2006-04-01</td>\n",
       "      <td>13749.806</td>\n",
       "    </tr>\n",
       "    <tr>\n",
       "      <td>2006-07-01</td>\n",
       "      <td>13867.469</td>\n",
       "    </tr>\n",
       "    <tr>\n",
       "      <td>2006-10-01</td>\n",
       "      <td>14037.228</td>\n",
       "    </tr>\n",
       "    <tr>\n",
       "      <td>2007-01-01</td>\n",
       "      <td>14208.569</td>\n",
       "    </tr>\n",
       "    <tr>\n",
       "      <td>2007-04-01</td>\n",
       "      <td>14382.363</td>\n",
       "    </tr>\n",
       "    <tr>\n",
       "      <td>2007-07-01</td>\n",
       "      <td>14535.003</td>\n",
       "    </tr>\n",
       "    <tr>\n",
       "      <td>2007-10-01</td>\n",
       "      <td>14681.501</td>\n",
       "    </tr>\n",
       "    <tr>\n",
       "      <td>2008-01-01</td>\n",
       "      <td>14651.039</td>\n",
       "    </tr>\n",
       "    <tr>\n",
       "      <td>2008-04-01</td>\n",
       "      <td>14805.611</td>\n",
       "    </tr>\n",
       "    <tr>\n",
       "      <td>2008-07-01</td>\n",
       "      <td>14835.187</td>\n",
       "    </tr>\n",
       "    <tr>\n",
       "      <td>2008-10-01</td>\n",
       "      <td>14559.543</td>\n",
       "    </tr>\n",
       "    <tr>\n",
       "      <td>2009-01-01</td>\n",
       "      <td>14394.547</td>\n",
       "    </tr>\n",
       "    <tr>\n",
       "      <td>2009-04-01</td>\n",
       "      <td>14352.850</td>\n",
       "    </tr>\n",
       "    <tr>\n",
       "      <td>2009-07-01</td>\n",
       "      <td>14420.312</td>\n",
       "    </tr>\n",
       "    <tr>\n",
       "      <td>2009-10-01</td>\n",
       "      <td>14628.021</td>\n",
       "    </tr>\n",
       "    <tr>\n",
       "      <td>2010-01-01</td>\n",
       "      <td>14721.350</td>\n",
       "    </tr>\n",
       "    <tr>\n",
       "      <td>2010-04-01</td>\n",
       "      <td>14926.098</td>\n",
       "    </tr>\n",
       "    <tr>\n",
       "      <td>2010-07-01</td>\n",
       "      <td>15079.917</td>\n",
       "    </tr>\n",
       "    <tr>\n",
       "      <td>2010-10-01</td>\n",
       "      <td>15240.843</td>\n",
       "    </tr>\n",
       "    <tr>\n",
       "      <td>2011-01-01</td>\n",
       "      <td>15285.828</td>\n",
       "    </tr>\n",
       "    <tr>\n",
       "      <td>2011-04-01</td>\n",
       "      <td>15496.189</td>\n",
       "    </tr>\n",
       "  </tbody>\n",
       "</table>\n",
       "</div>"
      ],
      "text/plain": [
       "                  GDP\n",
       "DATE                 \n",
       "1998-01-01   8866.480\n",
       "1998-04-01   8969.699\n",
       "1998-07-01   9121.097\n",
       "1998-10-01   9293.991\n",
       "1999-01-01   9417.264\n",
       "1999-04-01   9524.152\n",
       "1999-07-01   9681.856\n",
       "1999-10-01   9899.378\n",
       "2000-01-01  10002.857\n",
       "2000-04-01  10247.679\n",
       "2000-07-01  10319.825\n",
       "2000-10-01  10439.025\n",
       "2001-01-01  10472.879\n",
       "2001-04-01  10597.822\n",
       "2001-07-01  10596.294\n",
       "2001-10-01  10660.294\n",
       "2002-01-01  10788.952\n",
       "2002-04-01  10893.207\n",
       "2002-07-01  10992.051\n",
       "2002-10-01  11071.463\n",
       "2003-01-01  11183.507\n",
       "2003-04-01  11312.875\n",
       "2003-07-01  11567.326\n",
       "2003-10-01  11769.275\n",
       "2004-01-01  11920.169\n",
       "2004-04-01  12108.987\n",
       "2004-07-01  12303.340\n",
       "2004-10-01  12522.425\n",
       "2005-01-01  12761.337\n",
       "2005-04-01  12910.022\n",
       "2005-07-01  13142.873\n",
       "2005-10-01  13332.316\n",
       "2006-01-01  13603.933\n",
       "2006-04-01  13749.806\n",
       "2006-07-01  13867.469\n",
       "2006-10-01  14037.228\n",
       "2007-01-01  14208.569\n",
       "2007-04-01  14382.363\n",
       "2007-07-01  14535.003\n",
       "2007-10-01  14681.501\n",
       "2008-01-01  14651.039\n",
       "2008-04-01  14805.611\n",
       "2008-07-01  14835.187\n",
       "2008-10-01  14559.543\n",
       "2009-01-01  14394.547\n",
       "2009-04-01  14352.850\n",
       "2009-07-01  14420.312\n",
       "2009-10-01  14628.021\n",
       "2010-01-01  14721.350\n",
       "2010-04-01  14926.098\n",
       "2010-07-01  15079.917\n",
       "2010-10-01  15240.843\n",
       "2011-01-01  15285.828\n",
       "2011-04-01  15496.189"
      ]
     },
     "execution_count": 58,
     "metadata": {},
     "output_type": "execute_result"
    }
   ],
   "source": [
    "gdp.loc[\"1998-01-01\" : \"2011-04-01\"]"
   ]
  },
  {
   "cell_type": "markdown",
   "metadata": {},
   "source": [
    "**Extract only data in 1 April**\n",
    "- First, we have to create a data range.\n",
    "- Then, we need to compare the date using isin() method which will return a list of Boolean values.\n",
    "- Use the Booleans list to extract the specific rows."
   ]
  },
  {
   "cell_type": "code",
   "execution_count": 59,
   "metadata": {},
   "outputs": [
    {
     "data": {
      "text/plain": [
       "DatetimeIndex(['1998-04-01', '1999-04-01', '2000-04-01', '2001-04-01',\n",
       "               '2002-04-01', '2003-04-01', '2004-04-01', '2005-04-01',\n",
       "               '2006-04-01', '2007-04-01', '2008-04-01', '2009-04-01',\n",
       "               '2010-04-01', '2011-04-01', '2012-04-01', '2013-04-01',\n",
       "               '2014-04-01', '2015-04-01', '2016-04-01', '2017-04-01'],\n",
       "              dtype='datetime64[ns]', freq='<DateOffset: years=1>')"
      ]
     },
     "execution_count": 59,
     "metadata": {},
     "output_type": "execute_result"
    }
   ],
   "source": [
    "dates =  pd.date_range(start=\"1998-04-01\", end=\"2017-04-01\", freq=pd.DateOffset(years = 1))\n",
    "dates"
   ]
  },
  {
   "cell_type": "code",
   "execution_count": 60,
   "metadata": {},
   "outputs": [
    {
     "data": {
      "text/plain": [
       "array([False, False, False, False, False, False, False, False, False,\n",
       "       False, False, False, False, False, False, False, False, False,\n",
       "       False, False, False, False, False, False, False, False, False,\n",
       "       False, False, False, False, False, False,  True, False, False,\n",
       "       False,  True, False, False, False,  True, False, False, False,\n",
       "        True, False, False, False,  True, False, False, False,  True,\n",
       "       False, False, False,  True, False, False, False,  True, False,\n",
       "       False, False,  True, False, False, False,  True, False, False,\n",
       "       False,  True, False, False, False,  True, False, False, False,\n",
       "        True, False, False, False,  True, False, False, False,  True,\n",
       "       False, False, False,  True, False, False, False,  True, False,\n",
       "       False, False,  True, False, False, False,  True, False, False,\n",
       "       False,  True, False, False, False, False, False, False])"
      ]
     },
     "execution_count": 60,
     "metadata": {},
     "output_type": "execute_result"
    }
   ],
   "source": [
    "mask = gdp.index.isin(dates)\n",
    "mask"
   ]
  },
  {
   "cell_type": "code",
   "execution_count": 61,
   "metadata": {},
   "outputs": [
    {
     "data": {
      "text/html": [
       "<div>\n",
       "<style scoped>\n",
       "    .dataframe tbody tr th:only-of-type {\n",
       "        vertical-align: middle;\n",
       "    }\n",
       "\n",
       "    .dataframe tbody tr th {\n",
       "        vertical-align: top;\n",
       "    }\n",
       "\n",
       "    .dataframe thead th {\n",
       "        text-align: right;\n",
       "    }\n",
       "</style>\n",
       "<table border=\"1\" class=\"dataframe\">\n",
       "  <thead>\n",
       "    <tr style=\"text-align: right;\">\n",
       "      <th></th>\n",
       "      <th>GDP</th>\n",
       "    </tr>\n",
       "    <tr>\n",
       "      <th>DATE</th>\n",
       "      <th></th>\n",
       "    </tr>\n",
       "  </thead>\n",
       "  <tbody>\n",
       "    <tr>\n",
       "      <td>1998-04-01</td>\n",
       "      <td>8969.699</td>\n",
       "    </tr>\n",
       "    <tr>\n",
       "      <td>1999-04-01</td>\n",
       "      <td>9524.152</td>\n",
       "    </tr>\n",
       "    <tr>\n",
       "      <td>2000-04-01</td>\n",
       "      <td>10247.679</td>\n",
       "    </tr>\n",
       "    <tr>\n",
       "      <td>2001-04-01</td>\n",
       "      <td>10597.822</td>\n",
       "    </tr>\n",
       "    <tr>\n",
       "      <td>2002-04-01</td>\n",
       "      <td>10893.207</td>\n",
       "    </tr>\n",
       "    <tr>\n",
       "      <td>2003-04-01</td>\n",
       "      <td>11312.875</td>\n",
       "    </tr>\n",
       "    <tr>\n",
       "      <td>2004-04-01</td>\n",
       "      <td>12108.987</td>\n",
       "    </tr>\n",
       "    <tr>\n",
       "      <td>2005-04-01</td>\n",
       "      <td>12910.022</td>\n",
       "    </tr>\n",
       "    <tr>\n",
       "      <td>2006-04-01</td>\n",
       "      <td>13749.806</td>\n",
       "    </tr>\n",
       "    <tr>\n",
       "      <td>2007-04-01</td>\n",
       "      <td>14382.363</td>\n",
       "    </tr>\n",
       "    <tr>\n",
       "      <td>2008-04-01</td>\n",
       "      <td>14805.611</td>\n",
       "    </tr>\n",
       "    <tr>\n",
       "      <td>2009-04-01</td>\n",
       "      <td>14352.850</td>\n",
       "    </tr>\n",
       "    <tr>\n",
       "      <td>2010-04-01</td>\n",
       "      <td>14926.098</td>\n",
       "    </tr>\n",
       "    <tr>\n",
       "      <td>2011-04-01</td>\n",
       "      <td>15496.189</td>\n",
       "    </tr>\n",
       "    <tr>\n",
       "      <td>2012-04-01</td>\n",
       "      <td>16152.257</td>\n",
       "    </tr>\n",
       "    <tr>\n",
       "      <td>2013-04-01</td>\n",
       "      <td>16637.926</td>\n",
       "    </tr>\n",
       "    <tr>\n",
       "      <td>2014-04-01</td>\n",
       "      <td>17432.909</td>\n",
       "    </tr>\n",
       "    <tr>\n",
       "      <td>2015-04-01</td>\n",
       "      <td>18219.405</td>\n",
       "    </tr>\n",
       "    <tr>\n",
       "      <td>2016-04-01</td>\n",
       "      <td>18637.253</td>\n",
       "    </tr>\n",
       "    <tr>\n",
       "      <td>2017-04-01</td>\n",
       "      <td>19356.649</td>\n",
       "    </tr>\n",
       "  </tbody>\n",
       "</table>\n",
       "</div>"
      ],
      "text/plain": [
       "                  GDP\n",
       "DATE                 \n",
       "1998-04-01   8969.699\n",
       "1999-04-01   9524.152\n",
       "2000-04-01  10247.679\n",
       "2001-04-01  10597.822\n",
       "2002-04-01  10893.207\n",
       "2003-04-01  11312.875\n",
       "2004-04-01  12108.987\n",
       "2005-04-01  12910.022\n",
       "2006-04-01  13749.806\n",
       "2007-04-01  14382.363\n",
       "2008-04-01  14805.611\n",
       "2009-04-01  14352.850\n",
       "2010-04-01  14926.098\n",
       "2011-04-01  15496.189\n",
       "2012-04-01  16152.257\n",
       "2013-04-01  16637.926\n",
       "2014-04-01  17432.909\n",
       "2015-04-01  18219.405\n",
       "2016-04-01  18637.253\n",
       "2017-04-01  19356.649"
      ]
     },
     "execution_count": 61,
     "metadata": {},
     "output_type": "execute_result"
    }
   ],
   "source": [
    "gdp[mask]"
   ]
  },
  {
   "cell_type": "markdown",
   "metadata": {},
   "source": [
    "### 10. Timestamp Object Attributes\n",
    "\n",
    "We will be using the GDP Datasets from FRED.\n",
    "\n",
    "- Previously, we have learned about Timestamp attributes.\n",
    "- Let's see how those attributes can help us understand the date more."
   ]
  },
  {
   "cell_type": "code",
   "execution_count": 62,
   "metadata": {},
   "outputs": [
    {
     "data": {
      "text/html": [
       "<div>\n",
       "<style scoped>\n",
       "    .dataframe tbody tr th:only-of-type {\n",
       "        vertical-align: middle;\n",
       "    }\n",
       "\n",
       "    .dataframe tbody tr th {\n",
       "        vertical-align: top;\n",
       "    }\n",
       "\n",
       "    .dataframe thead th {\n",
       "        text-align: right;\n",
       "    }\n",
       "</style>\n",
       "<table border=\"1\" class=\"dataframe\">\n",
       "  <thead>\n",
       "    <tr style=\"text-align: right;\">\n",
       "      <th></th>\n",
       "      <th>GDP</th>\n",
       "    </tr>\n",
       "    <tr>\n",
       "      <th>DATE</th>\n",
       "      <th></th>\n",
       "    </tr>\n",
       "  </thead>\n",
       "  <tbody>\n",
       "    <tr>\n",
       "      <td>1990-01-01</td>\n",
       "      <td>5872.701</td>\n",
       "    </tr>\n",
       "    <tr>\n",
       "      <td>1990-04-01</td>\n",
       "      <td>5960.028</td>\n",
       "    </tr>\n",
       "    <tr>\n",
       "      <td>1990-07-01</td>\n",
       "      <td>6015.116</td>\n",
       "    </tr>\n",
       "    <tr>\n",
       "      <td>1990-10-01</td>\n",
       "      <td>6004.733</td>\n",
       "    </tr>\n",
       "    <tr>\n",
       "      <td>1991-01-01</td>\n",
       "      <td>6035.178</td>\n",
       "    </tr>\n",
       "  </tbody>\n",
       "</table>\n",
       "</div>"
      ],
      "text/plain": [
       "                 GDP\n",
       "DATE                \n",
       "1990-01-01  5872.701\n",
       "1990-04-01  5960.028\n",
       "1990-07-01  6015.116\n",
       "1990-10-01  6004.733\n",
       "1991-01-01  6035.178"
      ]
     },
     "execution_count": 62,
     "metadata": {},
     "output_type": "execute_result"
    }
   ],
   "source": [
    "from pandas_datareader import data \n",
    "gdp = data.DataReader('GDP', 'fred', start=\"1990-01-01\", end=\"2018-12-01\")\n",
    "gdp.head()"
   ]
  },
  {
   "cell_type": "code",
   "execution_count": 63,
   "metadata": {},
   "outputs": [
    {
     "data": {
      "text/plain": [
       "Timestamp('2015-01-01 00:00:00')"
      ]
     },
     "execution_count": 63,
     "metadata": {},
     "output_type": "execute_result"
    }
   ],
   "source": [
    "someday = gdp.index[100]\n",
    "someday"
   ]
  },
  {
   "cell_type": "code",
   "execution_count": 64,
   "metadata": {},
   "outputs": [
    {
     "data": {
      "text/plain": [
       "'Thursday'"
      ]
     },
     "execution_count": 64,
     "metadata": {},
     "output_type": "execute_result"
    }
   ],
   "source": [
    "someday.day_name()"
   ]
  },
  {
   "cell_type": "code",
   "execution_count": 65,
   "metadata": {},
   "outputs": [
    {
     "data": {
      "text/plain": [
       "True"
      ]
     },
     "execution_count": 65,
     "metadata": {},
     "output_type": "execute_result"
    }
   ],
   "source": [
    "someday.is_quarter_start"
   ]
  },
  {
   "cell_type": "code",
   "execution_count": 66,
   "metadata": {},
   "outputs": [
    {
     "data": {
      "text/plain": [
       "True"
      ]
     },
     "execution_count": 66,
     "metadata": {},
     "output_type": "execute_result"
    }
   ],
   "source": [
    "someday.is_year_start"
   ]
  },
  {
   "cell_type": "markdown",
   "metadata": {},
   "source": [
    "**We can create a new column to indicate the day of the date**"
   ]
  },
  {
   "cell_type": "code",
   "execution_count": 67,
   "metadata": {},
   "outputs": [],
   "source": [
    "gdp.insert(loc=0, column=\"Day of Date\" , value=gdp.index.day_name())"
   ]
  },
  {
   "cell_type": "code",
   "execution_count": 68,
   "metadata": {},
   "outputs": [
    {
     "data": {
      "text/html": [
       "<div>\n",
       "<style scoped>\n",
       "    .dataframe tbody tr th:only-of-type {\n",
       "        vertical-align: middle;\n",
       "    }\n",
       "\n",
       "    .dataframe tbody tr th {\n",
       "        vertical-align: top;\n",
       "    }\n",
       "\n",
       "    .dataframe thead th {\n",
       "        text-align: right;\n",
       "    }\n",
       "</style>\n",
       "<table border=\"1\" class=\"dataframe\">\n",
       "  <thead>\n",
       "    <tr style=\"text-align: right;\">\n",
       "      <th></th>\n",
       "      <th>Day of Date</th>\n",
       "      <th>GDP</th>\n",
       "    </tr>\n",
       "    <tr>\n",
       "      <th>DATE</th>\n",
       "      <th></th>\n",
       "      <th></th>\n",
       "    </tr>\n",
       "  </thead>\n",
       "  <tbody>\n",
       "    <tr>\n",
       "      <td>1990-01-01</td>\n",
       "      <td>Monday</td>\n",
       "      <td>5872.701</td>\n",
       "    </tr>\n",
       "    <tr>\n",
       "      <td>1990-04-01</td>\n",
       "      <td>Sunday</td>\n",
       "      <td>5960.028</td>\n",
       "    </tr>\n",
       "    <tr>\n",
       "      <td>1990-07-01</td>\n",
       "      <td>Sunday</td>\n",
       "      <td>6015.116</td>\n",
       "    </tr>\n",
       "    <tr>\n",
       "      <td>1990-10-01</td>\n",
       "      <td>Monday</td>\n",
       "      <td>6004.733</td>\n",
       "    </tr>\n",
       "    <tr>\n",
       "      <td>1991-01-01</td>\n",
       "      <td>Tuesday</td>\n",
       "      <td>6035.178</td>\n",
       "    </tr>\n",
       "  </tbody>\n",
       "</table>\n",
       "</div>"
      ],
      "text/plain": [
       "           Day of Date       GDP\n",
       "DATE                            \n",
       "1990-01-01      Monday  5872.701\n",
       "1990-04-01      Sunday  5960.028\n",
       "1990-07-01      Sunday  6015.116\n",
       "1990-10-01      Monday  6004.733\n",
       "1991-01-01     Tuesday  6035.178"
      ]
     },
     "execution_count": 68,
     "metadata": {},
     "output_type": "execute_result"
    }
   ],
   "source": [
    "gdp.head()"
   ]
  },
  {
   "cell_type": "markdown",
   "metadata": {},
   "source": [
    "**We can create a new column to check whether the date is on the start of the year.**"
   ]
  },
  {
   "cell_type": "code",
   "execution_count": 69,
   "metadata": {},
   "outputs": [],
   "source": [
    "gdp.insert(loc=1, column=\"Is Year Start\", value=gdp.index.is_year_start)"
   ]
  },
  {
   "cell_type": "code",
   "execution_count": 70,
   "metadata": {},
   "outputs": [
    {
     "data": {
      "text/html": [
       "<div>\n",
       "<style scoped>\n",
       "    .dataframe tbody tr th:only-of-type {\n",
       "        vertical-align: middle;\n",
       "    }\n",
       "\n",
       "    .dataframe tbody tr th {\n",
       "        vertical-align: top;\n",
       "    }\n",
       "\n",
       "    .dataframe thead th {\n",
       "        text-align: right;\n",
       "    }\n",
       "</style>\n",
       "<table border=\"1\" class=\"dataframe\">\n",
       "  <thead>\n",
       "    <tr style=\"text-align: right;\">\n",
       "      <th></th>\n",
       "      <th>Day of Date</th>\n",
       "      <th>Is Year Start</th>\n",
       "      <th>GDP</th>\n",
       "    </tr>\n",
       "    <tr>\n",
       "      <th>DATE</th>\n",
       "      <th></th>\n",
       "      <th></th>\n",
       "      <th></th>\n",
       "    </tr>\n",
       "  </thead>\n",
       "  <tbody>\n",
       "    <tr>\n",
       "      <td>1990-01-01</td>\n",
       "      <td>Monday</td>\n",
       "      <td>True</td>\n",
       "      <td>5872.701</td>\n",
       "    </tr>\n",
       "    <tr>\n",
       "      <td>1990-04-01</td>\n",
       "      <td>Sunday</td>\n",
       "      <td>False</td>\n",
       "      <td>5960.028</td>\n",
       "    </tr>\n",
       "    <tr>\n",
       "      <td>1990-07-01</td>\n",
       "      <td>Sunday</td>\n",
       "      <td>False</td>\n",
       "      <td>6015.116</td>\n",
       "    </tr>\n",
       "    <tr>\n",
       "      <td>1990-10-01</td>\n",
       "      <td>Monday</td>\n",
       "      <td>False</td>\n",
       "      <td>6004.733</td>\n",
       "    </tr>\n",
       "    <tr>\n",
       "      <td>1991-01-01</td>\n",
       "      <td>Tuesday</td>\n",
       "      <td>True</td>\n",
       "      <td>6035.178</td>\n",
       "    </tr>\n",
       "  </tbody>\n",
       "</table>\n",
       "</div>"
      ],
      "text/plain": [
       "           Day of Date  Is Year Start       GDP\n",
       "DATE                                           \n",
       "1990-01-01      Monday           True  5872.701\n",
       "1990-04-01      Sunday          False  5960.028\n",
       "1990-07-01      Sunday          False  6015.116\n",
       "1990-10-01      Monday          False  6004.733\n",
       "1991-01-01     Tuesday           True  6035.178"
      ]
     },
     "execution_count": 70,
     "metadata": {},
     "output_type": "execute_result"
    }
   ],
   "source": [
    "gdp.head()"
   ]
  },
  {
   "cell_type": "markdown",
   "metadata": {},
   "source": [
    "### 11 .truncate() method\n",
    "Works like slicing with loc[  ] and iloc[  ]. "
   ]
  },
  {
   "cell_type": "code",
   "execution_count": 71,
   "metadata": {},
   "outputs": [
    {
     "data": {
      "text/html": [
       "<div>\n",
       "<style scoped>\n",
       "    .dataframe tbody tr th:only-of-type {\n",
       "        vertical-align: middle;\n",
       "    }\n",
       "\n",
       "    .dataframe tbody tr th {\n",
       "        vertical-align: top;\n",
       "    }\n",
       "\n",
       "    .dataframe thead th {\n",
       "        text-align: right;\n",
       "    }\n",
       "</style>\n",
       "<table border=\"1\" class=\"dataframe\">\n",
       "  <thead>\n",
       "    <tr style=\"text-align: right;\">\n",
       "      <th></th>\n",
       "      <th>Day of Date</th>\n",
       "      <th>Is Year Start</th>\n",
       "      <th>GDP</th>\n",
       "    </tr>\n",
       "    <tr>\n",
       "      <th>DATE</th>\n",
       "      <th></th>\n",
       "      <th></th>\n",
       "      <th></th>\n",
       "    </tr>\n",
       "  </thead>\n",
       "  <tbody>\n",
       "    <tr>\n",
       "      <td>1990-01-01</td>\n",
       "      <td>Monday</td>\n",
       "      <td>True</td>\n",
       "      <td>5872.701</td>\n",
       "    </tr>\n",
       "    <tr>\n",
       "      <td>1990-04-01</td>\n",
       "      <td>Sunday</td>\n",
       "      <td>False</td>\n",
       "      <td>5960.028</td>\n",
       "    </tr>\n",
       "    <tr>\n",
       "      <td>1990-07-01</td>\n",
       "      <td>Sunday</td>\n",
       "      <td>False</td>\n",
       "      <td>6015.116</td>\n",
       "    </tr>\n",
       "    <tr>\n",
       "      <td>1990-10-01</td>\n",
       "      <td>Monday</td>\n",
       "      <td>False</td>\n",
       "      <td>6004.733</td>\n",
       "    </tr>\n",
       "    <tr>\n",
       "      <td>1991-01-01</td>\n",
       "      <td>Tuesday</td>\n",
       "      <td>True</td>\n",
       "      <td>6035.178</td>\n",
       "    </tr>\n",
       "  </tbody>\n",
       "</table>\n",
       "</div>"
      ],
      "text/plain": [
       "           Day of Date  Is Year Start       GDP\n",
       "DATE                                           \n",
       "1990-01-01      Monday           True  5872.701\n",
       "1990-04-01      Sunday          False  5960.028\n",
       "1990-07-01      Sunday          False  6015.116\n",
       "1990-10-01      Monday          False  6004.733\n",
       "1991-01-01     Tuesday           True  6035.178"
      ]
     },
     "execution_count": 71,
     "metadata": {},
     "output_type": "execute_result"
    }
   ],
   "source": [
    "gdp.head()"
   ]
  },
  {
   "cell_type": "markdown",
   "metadata": {},
   "source": [
    "The difference between the slicing technique using loc[  ] or iloc[  ] is that, it finds the nearest value with the *after* date. On the other hand, if we place the value in loc[  ] incorrectly, it will prompt error."
   ]
  },
  {
   "cell_type": "code",
   "execution_count": 72,
   "metadata": {},
   "outputs": [
    {
     "data": {
      "text/html": [
       "<div>\n",
       "<style scoped>\n",
       "    .dataframe tbody tr th:only-of-type {\n",
       "        vertical-align: middle;\n",
       "    }\n",
       "\n",
       "    .dataframe tbody tr th {\n",
       "        vertical-align: top;\n",
       "    }\n",
       "\n",
       "    .dataframe thead th {\n",
       "        text-align: right;\n",
       "    }\n",
       "</style>\n",
       "<table border=\"1\" class=\"dataframe\">\n",
       "  <thead>\n",
       "    <tr style=\"text-align: right;\">\n",
       "      <th></th>\n",
       "      <th>Day of Date</th>\n",
       "      <th>Is Year Start</th>\n",
       "      <th>GDP</th>\n",
       "    </tr>\n",
       "    <tr>\n",
       "      <th>DATE</th>\n",
       "      <th></th>\n",
       "      <th></th>\n",
       "      <th></th>\n",
       "    </tr>\n",
       "  </thead>\n",
       "  <tbody>\n",
       "    <tr>\n",
       "      <td>1998-01-01</td>\n",
       "      <td>Thursday</td>\n",
       "      <td>True</td>\n",
       "      <td>8866.480</td>\n",
       "    </tr>\n",
       "    <tr>\n",
       "      <td>1998-04-01</td>\n",
       "      <td>Wednesday</td>\n",
       "      <td>False</td>\n",
       "      <td>8969.699</td>\n",
       "    </tr>\n",
       "    <tr>\n",
       "      <td>1998-07-01</td>\n",
       "      <td>Wednesday</td>\n",
       "      <td>False</td>\n",
       "      <td>9121.097</td>\n",
       "    </tr>\n",
       "  </tbody>\n",
       "</table>\n",
       "</div>"
      ],
      "text/plain": [
       "           Day of Date  Is Year Start       GDP\n",
       "DATE                                           \n",
       "1998-01-01    Thursday           True  8866.480\n",
       "1998-04-01   Wednesday          False  8969.699\n",
       "1998-07-01   Wednesday          False  9121.097"
      ]
     },
     "execution_count": 72,
     "metadata": {},
     "output_type": "execute_result"
    }
   ],
   "source": [
    "gdp.truncate(before=\"1998-01-01\", after=\"1998-08-01\")"
   ]
  },
  {
   "cell_type": "markdown",
   "metadata": {},
   "source": [
    "### 12. pd.DateOffSet() object\n",
    "\n",
    "- Manipulate date object to perform addition or subtraction on dates.\n",
    "- These operations can be used for hours, days, weeks, months and year.\n",
    "\n",
    "For example, if we want to add a day from 12 July 1998. This method will not work."
   ]
  },
  {
   "cell_type": "code",
   "execution_count": 73,
   "metadata": {},
   "outputs": [
    {
     "ename": "ValueError",
     "evalue": "Cannot add integral value to Timestamp without freq.",
     "output_type": "error",
     "traceback": [
      "\u001b[1;31m---------------------------------------------------------------------------\u001b[0m",
      "\u001b[1;31mValueError\u001b[0m                                Traceback (most recent call last)",
      "\u001b[1;32m<ipython-input-73-8a65837f4538>\u001b[0m in \u001b[0;36m<module>\u001b[1;34m\u001b[0m\n\u001b[1;32m----> 1\u001b[1;33m \u001b[0mpd\u001b[0m\u001b[1;33m.\u001b[0m\u001b[0mTimestamp\u001b[0m\u001b[1;33m(\u001b[0m\u001b[1;34m\"12 July 1998\"\u001b[0m\u001b[1;33m)\u001b[0m \u001b[1;33m+\u001b[0m \u001b[1;36m1\u001b[0m\u001b[1;33m\u001b[0m\u001b[1;33m\u001b[0m\u001b[0m\n\u001b[0m",
      "\u001b[1;32mpandas\\_libs\\tslibs\\c_timestamp.pyx\u001b[0m in \u001b[0;36mpandas._libs.tslibs.c_timestamp._Timestamp.__add__\u001b[1;34m()\u001b[0m\n",
      "\u001b[1;31mValueError\u001b[0m: Cannot add integral value to Timestamp without freq."
     ]
    }
   ],
   "source": [
    "pd.Timestamp(\"12 July 1998\") + 1"
   ]
  },
  {
   "cell_type": "markdown",
   "metadata": {},
   "source": [
    "To do an addition operation, we need to use **pd.DateOffset() method**. We can specify the arguments according to what we want."
   ]
  },
  {
   "cell_type": "code",
   "execution_count": 74,
   "metadata": {},
   "outputs": [
    {
     "data": {
      "text/plain": [
       "Timestamp('2020-08-12 00:00:00')"
      ]
     },
     "execution_count": 74,
     "metadata": {},
     "output_type": "execute_result"
    }
   ],
   "source": [
    "pd.Timestamp(\"12 July 2019\")  + pd.DateOffset(months = 1, years = 1)"
   ]
  },
  {
   "cell_type": "markdown",
   "metadata": {},
   "source": [
    "We can also apply this technique in Pandas DataFrame.\n",
    "\n",
    "*Hint : dt.datetime.now() will return today's date. It is useful when we want to set the endpoint to the current date.*"
   ]
  },
  {
   "cell_type": "code",
   "execution_count": 75,
   "metadata": {},
   "outputs": [
    {
     "data": {
      "text/html": [
       "<div>\n",
       "<style scoped>\n",
       "    .dataframe tbody tr th:only-of-type {\n",
       "        vertical-align: middle;\n",
       "    }\n",
       "\n",
       "    .dataframe tbody tr th {\n",
       "        vertical-align: top;\n",
       "    }\n",
       "\n",
       "    .dataframe thead th {\n",
       "        text-align: right;\n",
       "    }\n",
       "</style>\n",
       "<table border=\"1\" class=\"dataframe\">\n",
       "  <thead>\n",
       "    <tr style=\"text-align: right;\">\n",
       "      <th></th>\n",
       "      <th>GDP</th>\n",
       "    </tr>\n",
       "    <tr>\n",
       "      <th>DATE</th>\n",
       "      <th></th>\n",
       "    </tr>\n",
       "  </thead>\n",
       "  <tbody>\n",
       "    <tr>\n",
       "      <td>1990-01-01</td>\n",
       "      <td>5872.701</td>\n",
       "    </tr>\n",
       "    <tr>\n",
       "      <td>1990-04-01</td>\n",
       "      <td>5960.028</td>\n",
       "    </tr>\n",
       "    <tr>\n",
       "      <td>1990-07-01</td>\n",
       "      <td>6015.116</td>\n",
       "    </tr>\n",
       "    <tr>\n",
       "      <td>1990-10-01</td>\n",
       "      <td>6004.733</td>\n",
       "    </tr>\n",
       "    <tr>\n",
       "      <td>1991-01-01</td>\n",
       "      <td>6035.178</td>\n",
       "    </tr>\n",
       "  </tbody>\n",
       "</table>\n",
       "</div>"
      ],
      "text/plain": [
       "                 GDP\n",
       "DATE                \n",
       "1990-01-01  5872.701\n",
       "1990-04-01  5960.028\n",
       "1990-07-01  6015.116\n",
       "1990-10-01  6004.733\n",
       "1991-01-01  6035.178"
      ]
     },
     "execution_count": 75,
     "metadata": {},
     "output_type": "execute_result"
    }
   ],
   "source": [
    "from pandas_datareader import data \n",
    "import datetime as dt\n",
    "gdp = data.DataReader('GDP', 'fred', start=\"1990-01-01\", end=dt.datetime.now())\n",
    "gdp.head()"
   ]
  },
  {
   "cell_type": "markdown",
   "metadata": {},
   "source": [
    "The first row of the dataFrame is 1st Jan 1990. If we do an addition of 1 month on all indexes, each of them will receive an increment of 1 month."
   ]
  },
  {
   "cell_type": "code",
   "execution_count": 76,
   "metadata": {},
   "outputs": [
    {
     "data": {
      "text/plain": [
       "DatetimeIndex(['1990-02-01', '1990-05-01', '1990-08-01', '1990-11-01',\n",
       "               '1991-02-01', '1991-05-01', '1991-08-01', '1991-11-01',\n",
       "               '1992-02-01', '1992-05-01',\n",
       "               ...\n",
       "               '2017-05-01', '2017-08-01', '2017-11-01', '2018-02-01',\n",
       "               '2018-05-01', '2018-08-01', '2018-11-01', '2019-02-01',\n",
       "               '2019-05-01', '2019-08-01'],\n",
       "              dtype='datetime64[ns]', name='DATE', length=119, freq='QS-NOV')"
      ]
     },
     "execution_count": 76,
     "metadata": {},
     "output_type": "execute_result"
    }
   ],
   "source": [
    "gdp.index + pd.DateOffset(months = 1)"
   ]
  },
  {
   "cell_type": "markdown",
   "metadata": {},
   "source": [
    "### Complex operation on Datetime\n",
    "\n",
    "- We have learnt how to do addition and subtraction on a specific day.\n",
    "- What if we want to round off the date to the begining or end of a Month? Every month has different number of days.\n",
    "- Pandas has tseries library to handle this kind of cases."
   ]
  },
  {
   "cell_type": "markdown",
   "metadata": {},
   "source": [
    "Next Months End"
   ]
  },
  {
   "cell_type": "code",
   "execution_count": 77,
   "metadata": {},
   "outputs": [
    {
     "data": {
      "text/plain": [
       "Timestamp('1998-07-31 00:00:00')"
      ]
     },
     "execution_count": 77,
     "metadata": {},
     "output_type": "execute_result"
    }
   ],
   "source": [
    "pd.Timestamp(\"12 July 1998\") + pd.tseries.offsets.MonthEnd()"
   ]
  },
  {
   "cell_type": "markdown",
   "metadata": {},
   "source": [
    "Next Month Begin"
   ]
  },
  {
   "cell_type": "code",
   "execution_count": 78,
   "metadata": {},
   "outputs": [
    {
     "data": {
      "text/plain": [
       "Timestamp('1998-08-01 00:00:00')"
      ]
     },
     "execution_count": 78,
     "metadata": {},
     "output_type": "execute_result"
    }
   ],
   "source": [
    "pd.Timestamp(\"12 July 1998\") + pd.tseries.offsets.MonthBegin()"
   ]
  },
  {
   "cell_type": "markdown",
   "metadata": {},
   "source": [
    "Last Month End"
   ]
  },
  {
   "cell_type": "code",
   "execution_count": 79,
   "metadata": {},
   "outputs": [
    {
     "data": {
      "text/plain": [
       "Timestamp('1998-06-30 00:00:00')"
      ]
     },
     "execution_count": 79,
     "metadata": {},
     "output_type": "execute_result"
    }
   ],
   "source": [
    "pd.Timestamp(\"12 July 1998\") - pd.tseries.offsets.MonthEnd()"
   ]
  },
  {
   "cell_type": "markdown",
   "metadata": {},
   "source": [
    "Last Month Begin"
   ]
  },
  {
   "cell_type": "code",
   "execution_count": 80,
   "metadata": {},
   "outputs": [
    {
     "data": {
      "text/plain": [
       "Timestamp('1998-07-01 00:00:00')"
      ]
     },
     "execution_count": 80,
     "metadata": {},
     "output_type": "execute_result"
    }
   ],
   "source": [
    "pd.Timestamp(\"12 July 1998\") - pd.tseries.offsets.MonthBegin()"
   ]
  },
  {
   "cell_type": "markdown",
   "metadata": {},
   "source": [
    "To make the code shorter, we can directly import **pd.tseries.offsets**"
   ]
  },
  {
   "cell_type": "code",
   "execution_count": 81,
   "metadata": {},
   "outputs": [],
   "source": [
    "from pandas.tseries.offsets import *"
   ]
  },
  {
   "cell_type": "code",
   "execution_count": 82,
   "metadata": {},
   "outputs": [
    {
     "data": {
      "text/plain": [
       "Timestamp('1998-07-01 00:00:00')"
      ]
     },
     "execution_count": 82,
     "metadata": {},
     "output_type": "execute_result"
    }
   ],
   "source": [
    "pd.Timestamp(\"12 July 1998\") - MonthBegin()"
   ]
  },
  {
   "cell_type": "markdown",
   "metadata": {},
   "source": [
    "Round off the value to the nearest Year Quarter . Since July is in 3rd Quarter, the end of the Q3 is 30th September."
   ]
  },
  {
   "cell_type": "code",
   "execution_count": 83,
   "metadata": {},
   "outputs": [
    {
     "data": {
      "text/plain": [
       "Timestamp('1998-09-30 00:00:00')"
      ]
     },
     "execution_count": 83,
     "metadata": {},
     "output_type": "execute_result"
    }
   ],
   "source": [
    "pd.Timestamp(\"12 July 1998\") + QuarterEnd()"
   ]
  },
  {
   "cell_type": "code",
   "execution_count": 84,
   "metadata": {},
   "outputs": [
    {
     "data": {
      "text/plain": [
       "Timestamp('1998-06-30 00:00:00')"
      ]
     },
     "execution_count": 84,
     "metadata": {},
     "output_type": "execute_result"
    }
   ],
   "source": [
    "pd.Timestamp(\"12 July 1998\") - QuarterEnd()"
   ]
  },
  {
   "cell_type": "code",
   "execution_count": 85,
   "metadata": {},
   "outputs": [
    {
     "data": {
      "text/plain": [
       "Timestamp('1998-09-01 00:00:00')"
      ]
     },
     "execution_count": 85,
     "metadata": {},
     "output_type": "execute_result"
    }
   ],
   "source": [
    "pd.Timestamp(\"12 July 1998\") + QuarterBegin() "
   ]
  },
  {
   "cell_type": "markdown",
   "metadata": {},
   "source": [
    "### 13. Timedelta Object\n",
    "\n",
    "Duration or distance of time."
   ]
  },
  {
   "cell_type": "code",
   "execution_count": 86,
   "metadata": {},
   "outputs": [],
   "source": [
    "timeA = pd.Timestamp(\"12 July 1998\")\n",
    "timeB = pd.Timestamp(\"22 July 1998\")"
   ]
  },
  {
   "cell_type": "code",
   "execution_count": 87,
   "metadata": {},
   "outputs": [
    {
     "data": {
      "text/plain": [
       "Timedelta('10 days 00:00:00')"
      ]
     },
     "execution_count": 87,
     "metadata": {},
     "output_type": "execute_result"
    }
   ],
   "source": [
    "timeB - timeA"
   ]
  },
  {
   "cell_type": "markdown",
   "metadata": {},
   "source": [
    " We can also create Timedelta objects using **parameter or string**"
   ]
  },
  {
   "cell_type": "code",
   "execution_count": 88,
   "metadata": {},
   "outputs": [
    {
     "data": {
      "text/plain": [
       "Timedelta('10 days 00:00:00')"
      ]
     },
     "execution_count": 88,
     "metadata": {},
     "output_type": "execute_result"
    }
   ],
   "source": [
    "pd.Timedelta(days = 10)"
   ]
  },
  {
   "cell_type": "markdown",
   "metadata": {},
   "source": [
    "We can do operations with Timedelta Objects just like pd.DateOffset. However, in pd.Timedelta, years parameter does not exist."
   ]
  },
  {
   "cell_type": "code",
   "execution_count": 89,
   "metadata": {},
   "outputs": [
    {
     "data": {
      "text/plain": [
       "Timestamp('1998-07-22 00:00:00')"
      ]
     },
     "execution_count": 89,
     "metadata": {},
     "output_type": "execute_result"
    }
   ],
   "source": [
    "timeA + pd.Timedelta(days = 10)"
   ]
  },
  {
   "cell_type": "code",
   "execution_count": 90,
   "metadata": {},
   "outputs": [
    {
     "data": {
      "text/plain": [
       "Timedelta('12 days 06:50:37')"
      ]
     },
     "execution_count": 90,
     "metadata": {},
     "output_type": "execute_result"
    }
   ],
   "source": [
    "pd.Timedelta(\"12 days 6 hours 50 minutes 37 seconds\")"
   ]
  },
  {
   "cell_type": "markdown",
   "metadata": {},
   "source": [
    "## 14. Timedelta in DataFrame"
   ]
  },
  {
   "cell_type": "code",
   "execution_count": 91,
   "metadata": {},
   "outputs": [
    {
     "data": {
      "text/html": [
       "<div>\n",
       "<style scoped>\n",
       "    .dataframe tbody tr th:only-of-type {\n",
       "        vertical-align: middle;\n",
       "    }\n",
       "\n",
       "    .dataframe tbody tr th {\n",
       "        vertical-align: top;\n",
       "    }\n",
       "\n",
       "    .dataframe thead th {\n",
       "        text-align: right;\n",
       "    }\n",
       "</style>\n",
       "<table border=\"1\" class=\"dataframe\">\n",
       "  <thead>\n",
       "    <tr style=\"text-align: right;\">\n",
       "      <th></th>\n",
       "      <th>order_date</th>\n",
       "      <th>delivery_date</th>\n",
       "    </tr>\n",
       "    <tr>\n",
       "      <th>ID</th>\n",
       "      <th></th>\n",
       "      <th></th>\n",
       "    </tr>\n",
       "  </thead>\n",
       "  <tbody>\n",
       "    <tr>\n",
       "      <td>1</td>\n",
       "      <td>1998-05-24</td>\n",
       "      <td>1999-02-05</td>\n",
       "    </tr>\n",
       "    <tr>\n",
       "      <td>2</td>\n",
       "      <td>1992-04-22</td>\n",
       "      <td>1998-03-06</td>\n",
       "    </tr>\n",
       "    <tr>\n",
       "      <td>4</td>\n",
       "      <td>1991-02-10</td>\n",
       "      <td>1992-08-26</td>\n",
       "    </tr>\n",
       "    <tr>\n",
       "      <td>5</td>\n",
       "      <td>1992-07-21</td>\n",
       "      <td>1997-11-20</td>\n",
       "    </tr>\n",
       "    <tr>\n",
       "      <td>7</td>\n",
       "      <td>1993-09-02</td>\n",
       "      <td>1998-06-10</td>\n",
       "    </tr>\n",
       "  </tbody>\n",
       "</table>\n",
       "</div>"
      ],
      "text/plain": [
       "   order_date delivery_date\n",
       "ID                         \n",
       "1  1998-05-24    1999-02-05\n",
       "2  1992-04-22    1998-03-06\n",
       "4  1991-02-10    1992-08-26\n",
       "5  1992-07-21    1997-11-20\n",
       "7  1993-09-02    1998-06-10"
      ]
     },
     "execution_count": 91,
     "metadata": {},
     "output_type": "execute_result"
    }
   ],
   "source": [
    "shipping = pd.read_csv(\"data/ecommerce.csv\", index_col=\"ID\" , parse_dates=[\"order_date\",\"delivery_date\"])\n",
    "shipping.head()"
   ]
  },
  {
   "cell_type": "markdown",
   "metadata": {},
   "source": [
    "Now, let's calculate the difference in order date and delivery date."
   ]
  },
  {
   "cell_type": "code",
   "execution_count": 92,
   "metadata": {},
   "outputs": [
    {
     "data": {
      "text/html": [
       "<div>\n",
       "<style scoped>\n",
       "    .dataframe tbody tr th:only-of-type {\n",
       "        vertical-align: middle;\n",
       "    }\n",
       "\n",
       "    .dataframe tbody tr th {\n",
       "        vertical-align: top;\n",
       "    }\n",
       "\n",
       "    .dataframe thead th {\n",
       "        text-align: right;\n",
       "    }\n",
       "</style>\n",
       "<table border=\"1\" class=\"dataframe\">\n",
       "  <thead>\n",
       "    <tr style=\"text-align: right;\">\n",
       "      <th></th>\n",
       "      <th>order_date</th>\n",
       "      <th>delivery_date</th>\n",
       "      <th>Delivery Time</th>\n",
       "    </tr>\n",
       "    <tr>\n",
       "      <th>ID</th>\n",
       "      <th></th>\n",
       "      <th></th>\n",
       "      <th></th>\n",
       "    </tr>\n",
       "  </thead>\n",
       "  <tbody>\n",
       "    <tr>\n",
       "      <td>1</td>\n",
       "      <td>1998-05-24</td>\n",
       "      <td>1999-02-05</td>\n",
       "      <td>257 days</td>\n",
       "    </tr>\n",
       "    <tr>\n",
       "      <td>2</td>\n",
       "      <td>1992-04-22</td>\n",
       "      <td>1998-03-06</td>\n",
       "      <td>2144 days</td>\n",
       "    </tr>\n",
       "    <tr>\n",
       "      <td>4</td>\n",
       "      <td>1991-02-10</td>\n",
       "      <td>1992-08-26</td>\n",
       "      <td>563 days</td>\n",
       "    </tr>\n",
       "    <tr>\n",
       "      <td>5</td>\n",
       "      <td>1992-07-21</td>\n",
       "      <td>1997-11-20</td>\n",
       "      <td>1948 days</td>\n",
       "    </tr>\n",
       "    <tr>\n",
       "      <td>7</td>\n",
       "      <td>1993-09-02</td>\n",
       "      <td>1998-06-10</td>\n",
       "      <td>1742 days</td>\n",
       "    </tr>\n",
       "  </tbody>\n",
       "</table>\n",
       "</div>"
      ],
      "text/plain": [
       "   order_date delivery_date Delivery Time\n",
       "ID                                       \n",
       "1  1998-05-24    1999-02-05      257 days\n",
       "2  1992-04-22    1998-03-06     2144 days\n",
       "4  1991-02-10    1992-08-26      563 days\n",
       "5  1992-07-21    1997-11-20     1948 days\n",
       "7  1993-09-02    1998-06-10     1742 days"
      ]
     },
     "execution_count": 92,
     "metadata": {},
     "output_type": "execute_result"
    }
   ],
   "source": [
    "shipping[\"Delivery Time\"] = shipping[\"delivery_date\"] - shipping[\"order_date\"] \n",
    "shipping.head()"
   ]
  },
  {
   "cell_type": "markdown",
   "metadata": {},
   "source": [
    "As we can see, the type of our new column is **Timedelta**"
   ]
  },
  {
   "cell_type": "code",
   "execution_count": 93,
   "metadata": {},
   "outputs": [
    {
     "data": {
      "text/plain": [
       "order_date        datetime64[ns]\n",
       "delivery_date     datetime64[ns]\n",
       "Delivery Time    timedelta64[ns]\n",
       "dtype: object"
      ]
     },
     "execution_count": 93,
     "metadata": {},
     "output_type": "execute_result"
    }
   ],
   "source": [
    "shipping.dtypes"
   ]
  }
 ],
 "metadata": {
  "kernelspec": {
   "display_name": "Python 3",
   "language": "python",
   "name": "python3"
  },
  "language_info": {
   "codemirror_mode": {
    "name": "ipython",
    "version": 3
   },
   "file_extension": ".py",
   "mimetype": "text/x-python",
   "name": "python",
   "nbconvert_exporter": "python",
   "pygments_lexer": "ipython3",
   "version": "3.6.5"
  }
 },
 "nbformat": 4,
 "nbformat_minor": 2
}
